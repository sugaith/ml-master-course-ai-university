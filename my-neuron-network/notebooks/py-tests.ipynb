{
 "cells": [
  {
   "cell_type": "code",
   "execution_count": 604,
   "id": "initial_id",
   "metadata": {
    "collapsed": true,
    "ExecuteTime": {
     "end_time": "2024-04-01T00:22:55.329879Z",
     "start_time": "2024-04-01T00:22:55.324488Z"
    }
   },
   "outputs": [
    {
     "name": "stdout",
     "output_type": "stream",
     "text": [
      "Standardized value: 0.0\n",
      "2\n"
     ]
    },
    {
     "data": {
      "text/plain": "0.897571561764167"
     },
     "execution_count": 604,
     "metadata": {},
     "output_type": "execute_result"
    }
   ],
   "source": [
    "import math\n",
    "import random\n",
    "import numpy as np\n",
    "from src.model.activation_functions import sigmoid\n",
    "from src.model.normalization_functions import normalize_value\n",
    "\n",
    "np.array([1 ,2])\n",
    "np.random.rand(3) *2 -1\n",
    "\n",
    "sigmoid(-40)\n",
    "# np.tanh()\n",
    "\n",
    "mu = 1000  # Mean\n",
    "sigma = 0.000000001  # Standard deviation\n",
    "x = 1000  # Value to standardize\n",
    "\n",
    "z = (x - mu) / sigma\n",
    "print(\"Standardized value:\", z)\n",
    "\n",
    "weights = np.array([1200, 899])\n",
    "\n",
    "print(weights.size)\n",
    "\n",
    "np.array([normalize_value(weights[i], 1200) for i in range(len(weights))])\n",
    "random.random()"
   ]
  }
 ],
 "metadata": {
  "kernelspec": {
   "display_name": "Python 3",
   "language": "python",
   "name": "python3"
  },
  "language_info": {
   "codemirror_mode": {
    "name": "ipython",
    "version": 2
   },
   "file_extension": ".py",
   "mimetype": "text/x-python",
   "name": "python",
   "nbconvert_exporter": "python",
   "pygments_lexer": "ipython2",
   "version": "2.7.6"
  }
 },
 "nbformat": 4,
 "nbformat_minor": 5
}
