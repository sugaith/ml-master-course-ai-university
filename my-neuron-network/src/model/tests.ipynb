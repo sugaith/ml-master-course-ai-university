{
 "cells": [
  {
   "cell_type": "markdown",
   "source": [
    "## Test Perceptron"
   ],
   "metadata": {
    "collapsed": false
   },
   "id": "dbd97fb5d62b538c"
  },
  {
   "cell_type": "code",
   "outputs": [
    {
     "name": "stdout",
     "output_type": "stream",
     "text": [
      "1.0\n",
      "0.0\n"
     ]
    }
   ],
   "source": [
    "import sys\n",
    "import numpy as np\n",
    "from src.model.activation_functions import sigmoid_gradient, sigmoid\n",
    "\n",
    "# sys.path.insert(0, './')\n",
    "# from Perceptron import Perceptron\n",
    "# from activation_functions import hyperbolic_tangent\n",
    "# \n",
    "# perceptron = Perceptron(hyperbolic_tangent)\n",
    "# perceptron.guess(np.array([1.3, -2.1]))\n",
    "\n",
    "zero_sig = sigmoid(np.float32(123))\n",
    "print(zero_sig)\n",
    "\n",
    "deriv_sig = sigmoid_gradient(zero_sig)\n",
    "print(deriv_sig)"
   ],
   "metadata": {
    "collapsed": false,
    "ExecuteTime": {
     "end_time": "2024-04-27T19:46:04.156825Z",
     "start_time": "2024-04-27T19:46:04.153140Z"
    }
   },
   "id": "4ffb3ea1e181528a",
   "execution_count": 15
  },
  {
   "cell_type": "markdown",
   "source": [],
   "metadata": {
    "collapsed": false
   },
   "id": "eeeaaca85096728d"
  }
 ],
 "metadata": {
  "kernelspec": {
   "display_name": "Python 3",
   "language": "python",
   "name": "python3"
  },
  "language_info": {
   "codemirror_mode": {
    "name": "ipython",
    "version": 2
   },
   "file_extension": ".py",
   "mimetype": "text/x-python",
   "name": "python",
   "nbconvert_exporter": "python",
   "pygments_lexer": "ipython2",
   "version": "2.7.6"
  }
 },
 "nbformat": 4,
 "nbformat_minor": 5
}
