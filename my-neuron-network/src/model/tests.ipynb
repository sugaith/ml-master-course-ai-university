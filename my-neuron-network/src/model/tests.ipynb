{
 "cells": [
  {
   "cell_type": "markdown",
   "source": [
    "## Test Perceptron"
   ],
   "metadata": {
    "collapsed": false
   },
   "id": "dbd97fb5d62b538c"
  },
  {
   "cell_type": "code",
   "outputs": [
    {
     "name": "stdout",
     "output_type": "stream",
     "text": [
      "[[0.   ]\n",
      " [1.123]]\n"
     ]
    },
    {
     "data": {
      "text/plain": "2"
     },
     "execution_count": 248,
     "metadata": {},
     "output_type": "execute_result"
    }
   ],
   "source": [
    "import random\n",
    "import sys\n",
    "import numpy as np\n",
    "from src.model.activation_functions import sigmoid_gradient, sigmoid\n",
    "\n",
    "# sys.path.insert(0, './')\n",
    "# from Perceptron import Perceptron\n",
    "# from activation_functions import hyperbolic_tangent\n",
    "# \n",
    "# perceptron = Perceptron(hyperbolic_tangent)\n",
    "# perceptron.guess(np.array([1.3, -2.1]))\n",
    "\n",
    "mat1 = np.array([0, 1])\n",
    "mat2 = 1.123\n",
    "\n",
    "print(np.outer(mat1, mat2))\n",
    "\n",
    "int(random.Random().random() * 4 + 1)\n",
    "np.random.choice(4)"
   ],
   "metadata": {
    "collapsed": false,
    "ExecuteTime": {
     "end_time": "2024-05-05T20:20:40.847130Z",
     "start_time": "2024-05-05T20:20:40.841869Z"
    }
   },
   "id": "4ffb3ea1e181528a",
   "execution_count": 248
  },
  {
   "cell_type": "markdown",
   "source": [],
   "metadata": {
    "collapsed": false
   },
   "id": "eeeaaca85096728d"
  }
 ],
 "metadata": {
  "kernelspec": {
   "display_name": "Python 3",
   "language": "python",
   "name": "python3"
  },
  "language_info": {
   "codemirror_mode": {
    "name": "ipython",
    "version": 2
   },
   "file_extension": ".py",
   "mimetype": "text/x-python",
   "name": "python",
   "nbconvert_exporter": "python",
   "pygments_lexer": "ipython2",
   "version": "2.7.6"
  }
 },
 "nbformat": 4,
 "nbformat_minor": 5
}
