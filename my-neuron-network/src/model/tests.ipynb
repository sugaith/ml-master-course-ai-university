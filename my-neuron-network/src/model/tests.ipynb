{
 "cells": [
  {
   "cell_type": "markdown",
   "source": [
    "## Test Perceptron"
   ],
   "metadata": {
    "collapsed": false
   },
   "id": "dbd97fb5d62b538c"
  },
  {
   "cell_type": "code",
   "outputs": [
    {
     "data": {
      "text/plain": "-0.9981869743220516"
     },
     "execution_count": 91,
     "metadata": {},
     "output_type": "execute_result"
    }
   ],
   "source": [
    "import sys\n",
    "import numpy as np\n",
    "\n",
    "sys.path.insert(0, 'Perceptron.py')\n",
    "from Perceptron import Perceptron, hyperbolic_tangent\n",
    "\n",
    "perceptron = Perceptron(hyperbolic_tangent)\n",
    "perceptron.guess(np.array([1.3, -2.1]))"
   ],
   "metadata": {
    "collapsed": false,
    "ExecuteTime": {
     "end_time": "2024-03-10T21:25:25.234073Z",
     "start_time": "2024-03-10T21:25:25.229367Z"
    }
   },
   "id": "4ffb3ea1e181528a",
   "execution_count": 91
  },
  {
   "cell_type": "markdown",
   "source": [],
   "metadata": {
    "collapsed": false
   },
   "id": "eeeaaca85096728d"
  }
 ],
 "metadata": {
  "kernelspec": {
   "display_name": "Python 3",
   "language": "python",
   "name": "python3"
  },
  "language_info": {
   "codemirror_mode": {
    "name": "ipython",
    "version": 2
   },
   "file_extension": ".py",
   "mimetype": "text/x-python",
   "name": "python",
   "nbconvert_exporter": "python",
   "pygments_lexer": "ipython2",
   "version": "2.7.6"
  }
 },
 "nbformat": 4,
 "nbformat_minor": 5
}
