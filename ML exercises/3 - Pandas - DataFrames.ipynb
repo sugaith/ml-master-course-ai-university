{
 "cells": [
  {
   "cell_type": "markdown",
   "metadata": {},
   "source": [
    "![rmotr](https://user-images.githubusercontent.com/7065401/52071918-bda15380-2562-11e9-828c-7f95297e4a82.png)\n",
    "<hr style=\"margin-bottom: 40px;\">\n",
    "\n",
    "<img src=\"https://user-images.githubusercontent.com/7065401/75165824-badf4680-5701-11ea-9c5b-5475b0a33abf.png\"\n",
    "    style=\"width:300px; float: right; margin: 0 40px 40px 40px;\"></img>\n",
    "\n",
    "# Pandas - `DataFrame`s\n",
    "\n",
    "Probably the most important data structure of pandas is the `DataFrame`. It's a tabular structure tightly integrated with `Series`.\n"
   ]
  },
  {
   "cell_type": "markdown",
   "metadata": {},
   "source": [
    "![purple-divider](https://user-images.githubusercontent.com/7065401/52071927-c1cd7100-2562-11e9-908a-dde91ba14e59.png)\n",
    "\n",
    "## Hands on! "
   ]
  },
  {
   "cell_type": "code",
   "execution_count": 1,
   "metadata": {
    "ExecuteTime": {
     "end_time": "2023-12-03T20:43:26.875492800Z",
     "start_time": "2023-12-03T20:43:26.480072700Z"
    }
   },
   "outputs": [],
   "source": [
    "import numpy as np\n",
    "import pandas as pd"
   ]
  },
  {
   "cell_type": "markdown",
   "metadata": {},
   "source": [
    "We'll keep our analysis of G7 countries and looking now at DataFrames. As said, a DataFrame looks a lot like a table (as the one you can appreciate [here](https://docs.google.com/spreadsheets/d/1IlorV2-Oh9Da1JAZ7weVw86PQrQydSMp-ydVMH135iI/edit?usp=sharing)):\n",
    "\n",
    "<img width=\"700\" src=\"https://user-images.githubusercontent.com/872296/38153492-72c032ca-3443-11e8-80f4-9de9060a5127.png\" />\n",
    "\n",
    "Creating `DataFrame`s manually can be tedious. 99% of the time you'll be pulling the data from a Database, a csv file or the web. But still, you can create a DataFrame by specifying the columns and values:"
   ]
  },
  {
   "cell_type": "code",
   "execution_count": 3,
   "metadata": {
    "ExecuteTime": {
     "end_time": "2023-12-03T20:44:37.347544200Z",
     "start_time": "2023-12-03T20:44:37.330790200Z"
    }
   },
   "outputs": [],
   "source": [
    "df = pd.DataFrame({\n",
    "    'Population': [35.467, 63.951, 80.94 , 60.665, 127.061, 64.511, 318.523],\n",
    "    'GDP': [\n",
    "        1785387,\n",
    "        2833687,\n",
    "        3874437,\n",
    "        2167744,\n",
    "        4602367,\n",
    "        2950039,\n",
    "        17348075\n",
    "    ],\n",
    "    'Surface Area': [\n",
    "        9984670,\n",
    "        640679,\n",
    "        357114,\n",
    "        301336,\n",
    "        377930,\n",
    "        242495,\n",
    "        9525067\n",
    "    ],\n",
    "    'HDI': [\n",
    "        0.913,\n",
    "        0.888,\n",
    "        0.916,\n",
    "        0.873,\n",
    "        0.891,\n",
    "        0.907,\n",
    "        0.915\n",
    "    ],\n",
    "    'Continent': [\n",
    "        'America',\n",
    "        'Europe',\n",
    "        'Europe',\n",
    "        'Europe',\n",
    "        'Asia',\n",
    "        'Europe',\n",
    "        'America'\n",
    "    ]\n",
    "}, columns=['Population', 'GDP', 'Surface Area', 'HDI', 'Continent'])"
   ]
  },
  {
   "cell_type": "markdown",
   "metadata": {},
   "source": [
    "_(The `columns` attribute is optional. I'm using it to keep the same order as in the picture above)_"
   ]
  },
  {
   "cell_type": "code",
   "execution_count": 4,
   "metadata": {
    "scrolled": true,
    "ExecuteTime": {
     "end_time": "2023-12-03T20:44:40.970473700Z",
     "start_time": "2023-12-03T20:44:40.944298400Z"
    }
   },
   "outputs": [
    {
     "data": {
      "text/plain": "   Population       GDP  Surface Area    HDI Continent\n0      35.467   1785387       9984670  0.913   America\n1      63.951   2833687        640679  0.888    Europe\n2      80.940   3874437        357114  0.916    Europe\n3      60.665   2167744        301336  0.873    Europe\n4     127.061   4602367        377930  0.891      Asia\n5      64.511   2950039        242495  0.907    Europe\n6     318.523  17348075       9525067  0.915   America",
      "text/html": "<div>\n<style scoped>\n    .dataframe tbody tr th:only-of-type {\n        vertical-align: middle;\n    }\n\n    .dataframe tbody tr th {\n        vertical-align: top;\n    }\n\n    .dataframe thead th {\n        text-align: right;\n    }\n</style>\n<table border=\"1\" class=\"dataframe\">\n  <thead>\n    <tr style=\"text-align: right;\">\n      <th></th>\n      <th>Population</th>\n      <th>GDP</th>\n      <th>Surface Area</th>\n      <th>HDI</th>\n      <th>Continent</th>\n    </tr>\n  </thead>\n  <tbody>\n    <tr>\n      <th>0</th>\n      <td>35.467</td>\n      <td>1785387</td>\n      <td>9984670</td>\n      <td>0.913</td>\n      <td>America</td>\n    </tr>\n    <tr>\n      <th>1</th>\n      <td>63.951</td>\n      <td>2833687</td>\n      <td>640679</td>\n      <td>0.888</td>\n      <td>Europe</td>\n    </tr>\n    <tr>\n      <th>2</th>\n      <td>80.940</td>\n      <td>3874437</td>\n      <td>357114</td>\n      <td>0.916</td>\n      <td>Europe</td>\n    </tr>\n    <tr>\n      <th>3</th>\n      <td>60.665</td>\n      <td>2167744</td>\n      <td>301336</td>\n      <td>0.873</td>\n      <td>Europe</td>\n    </tr>\n    <tr>\n      <th>4</th>\n      <td>127.061</td>\n      <td>4602367</td>\n      <td>377930</td>\n      <td>0.891</td>\n      <td>Asia</td>\n    </tr>\n    <tr>\n      <th>5</th>\n      <td>64.511</td>\n      <td>2950039</td>\n      <td>242495</td>\n      <td>0.907</td>\n      <td>Europe</td>\n    </tr>\n    <tr>\n      <th>6</th>\n      <td>318.523</td>\n      <td>17348075</td>\n      <td>9525067</td>\n      <td>0.915</td>\n      <td>America</td>\n    </tr>\n  </tbody>\n</table>\n</div>"
     },
     "execution_count": 4,
     "metadata": {},
     "output_type": "execute_result"
    }
   ],
   "source": [
    "df"
   ]
  },
  {
   "cell_type": "markdown",
   "metadata": {},
   "source": [
    "`DataFrame`s also have indexes. As you can see in the \"table\" above, pandas has assigned a numeric, autoincremental index automatically to each \"row\" in our DataFrame. In our case, we know that each row represents a country, so we'll just reassign the index:"
   ]
  },
  {
   "cell_type": "code",
   "execution_count": 6,
   "metadata": {
    "ExecuteTime": {
     "end_time": "2023-12-03T20:45:48.041877500Z",
     "start_time": "2023-12-03T20:45:48.018926Z"
    }
   },
   "outputs": [],
   "source": [
    "df.index = [\n",
    "    'Canada',\n",
    "    'France',\n",
    "    'Germany',\n",
    "    'Italy',\n",
    "    'Japan',\n",
    "    'United Kingdom',\n",
    "    'United States',\n",
    "]"
   ]
  },
  {
   "cell_type": "code",
   "execution_count": 7,
   "metadata": {
    "ExecuteTime": {
     "end_time": "2023-12-03T20:45:49.806651500Z",
     "start_time": "2023-12-03T20:45:49.779420800Z"
    }
   },
   "outputs": [
    {
     "data": {
      "text/plain": "                Population       GDP  Surface Area    HDI Continent\nCanada              35.467   1785387       9984670  0.913   America\nFrance              63.951   2833687        640679  0.888    Europe\nGermany             80.940   3874437        357114  0.916    Europe\nItaly               60.665   2167744        301336  0.873    Europe\nJapan              127.061   4602367        377930  0.891      Asia\nUnited Kingdom      64.511   2950039        242495  0.907    Europe\nUnited States      318.523  17348075       9525067  0.915   America",
      "text/html": "<div>\n<style scoped>\n    .dataframe tbody tr th:only-of-type {\n        vertical-align: middle;\n    }\n\n    .dataframe tbody tr th {\n        vertical-align: top;\n    }\n\n    .dataframe thead th {\n        text-align: right;\n    }\n</style>\n<table border=\"1\" class=\"dataframe\">\n  <thead>\n    <tr style=\"text-align: right;\">\n      <th></th>\n      <th>Population</th>\n      <th>GDP</th>\n      <th>Surface Area</th>\n      <th>HDI</th>\n      <th>Continent</th>\n    </tr>\n  </thead>\n  <tbody>\n    <tr>\n      <th>Canada</th>\n      <td>35.467</td>\n      <td>1785387</td>\n      <td>9984670</td>\n      <td>0.913</td>\n      <td>America</td>\n    </tr>\n    <tr>\n      <th>France</th>\n      <td>63.951</td>\n      <td>2833687</td>\n      <td>640679</td>\n      <td>0.888</td>\n      <td>Europe</td>\n    </tr>\n    <tr>\n      <th>Germany</th>\n      <td>80.940</td>\n      <td>3874437</td>\n      <td>357114</td>\n      <td>0.916</td>\n      <td>Europe</td>\n    </tr>\n    <tr>\n      <th>Italy</th>\n      <td>60.665</td>\n      <td>2167744</td>\n      <td>301336</td>\n      <td>0.873</td>\n      <td>Europe</td>\n    </tr>\n    <tr>\n      <th>Japan</th>\n      <td>127.061</td>\n      <td>4602367</td>\n      <td>377930</td>\n      <td>0.891</td>\n      <td>Asia</td>\n    </tr>\n    <tr>\n      <th>United Kingdom</th>\n      <td>64.511</td>\n      <td>2950039</td>\n      <td>242495</td>\n      <td>0.907</td>\n      <td>Europe</td>\n    </tr>\n    <tr>\n      <th>United States</th>\n      <td>318.523</td>\n      <td>17348075</td>\n      <td>9525067</td>\n      <td>0.915</td>\n      <td>America</td>\n    </tr>\n  </tbody>\n</table>\n</div>"
     },
     "execution_count": 7,
     "metadata": {},
     "output_type": "execute_result"
    }
   ],
   "source": [
    "df"
   ]
  },
  {
   "cell_type": "code",
   "execution_count": 8,
   "metadata": {
    "ExecuteTime": {
     "end_time": "2023-12-03T20:45:51.795341900Z",
     "start_time": "2023-12-03T20:45:51.767901Z"
    }
   },
   "outputs": [
    {
     "data": {
      "text/plain": "Index(['Population', 'GDP', 'Surface Area', 'HDI', 'Continent'], dtype='object')"
     },
     "execution_count": 8,
     "metadata": {},
     "output_type": "execute_result"
    }
   ],
   "source": [
    "df.columns"
   ]
  },
  {
   "cell_type": "code",
   "execution_count": 9,
   "metadata": {
    "ExecuteTime": {
     "end_time": "2023-12-03T20:45:54.667881Z",
     "start_time": "2023-12-03T20:45:54.643683700Z"
    }
   },
   "outputs": [
    {
     "data": {
      "text/plain": "Index(['Canada', 'France', 'Germany', 'Italy', 'Japan', 'United Kingdom',\n       'United States'],\n      dtype='object')"
     },
     "execution_count": 9,
     "metadata": {},
     "output_type": "execute_result"
    }
   ],
   "source": [
    "df.index"
   ]
  },
  {
   "cell_type": "code",
   "execution_count": 10,
   "metadata": {
    "ExecuteTime": {
     "end_time": "2023-12-03T20:45:56.623490800Z",
     "start_time": "2023-12-03T20:45:56.600735700Z"
    }
   },
   "outputs": [
    {
     "name": "stdout",
     "output_type": "stream",
     "text": [
      "<class 'pandas.core.frame.DataFrame'>\n",
      "Index: 7 entries, Canada to United States\n",
      "Data columns (total 5 columns):\n",
      " #   Column        Non-Null Count  Dtype  \n",
      "---  ------        --------------  -----  \n",
      " 0   Population    7 non-null      float64\n",
      " 1   GDP           7 non-null      int64  \n",
      " 2   Surface Area  7 non-null      int64  \n",
      " 3   HDI           7 non-null      float64\n",
      " 4   Continent     7 non-null      object \n",
      "dtypes: float64(2), int64(2), object(1)\n",
      "memory usage: 336.0+ bytes\n"
     ]
    }
   ],
   "source": [
    "df.info()"
   ]
  },
  {
   "cell_type": "code",
   "execution_count": 11,
   "metadata": {
    "ExecuteTime": {
     "end_time": "2023-12-03T20:46:01.317417500Z",
     "start_time": "2023-12-03T20:46:01.290937200Z"
    }
   },
   "outputs": [
    {
     "data": {
      "text/plain": "35"
     },
     "execution_count": 11,
     "metadata": {},
     "output_type": "execute_result"
    }
   ],
   "source": [
    "df.size"
   ]
  },
  {
   "cell_type": "code",
   "execution_count": 12,
   "metadata": {
    "ExecuteTime": {
     "end_time": "2023-12-03T20:46:02.956181200Z",
     "start_time": "2023-12-03T20:46:02.914491500Z"
    }
   },
   "outputs": [
    {
     "data": {
      "text/plain": "(7, 5)"
     },
     "execution_count": 12,
     "metadata": {},
     "output_type": "execute_result"
    }
   ],
   "source": [
    "df.shape"
   ]
  },
  {
   "cell_type": "code",
   "execution_count": 13,
   "metadata": {
    "scrolled": true,
    "ExecuteTime": {
     "end_time": "2023-12-03T20:46:19.369237500Z",
     "start_time": "2023-12-03T20:46:19.345846100Z"
    }
   },
   "outputs": [
    {
     "data": {
      "text/plain": "       Population           GDP  Surface Area       HDI\ncount    7.000000  7.000000e+00  7.000000e+00  7.000000\nmean   107.302571  5.080248e+06  3.061327e+06  0.900429\nstd     97.249970  5.494020e+06  4.576187e+06  0.016592\nmin     35.467000  1.785387e+06  2.424950e+05  0.873000\n25%     62.308000  2.500716e+06  3.292250e+05  0.889500\n50%     64.511000  2.950039e+06  3.779300e+05  0.907000\n75%    104.000500  4.238402e+06  5.082873e+06  0.914000\nmax    318.523000  1.734808e+07  9.984670e+06  0.916000",
      "text/html": "<div>\n<style scoped>\n    .dataframe tbody tr th:only-of-type {\n        vertical-align: middle;\n    }\n\n    .dataframe tbody tr th {\n        vertical-align: top;\n    }\n\n    .dataframe thead th {\n        text-align: right;\n    }\n</style>\n<table border=\"1\" class=\"dataframe\">\n  <thead>\n    <tr style=\"text-align: right;\">\n      <th></th>\n      <th>Population</th>\n      <th>GDP</th>\n      <th>Surface Area</th>\n      <th>HDI</th>\n    </tr>\n  </thead>\n  <tbody>\n    <tr>\n      <th>count</th>\n      <td>7.000000</td>\n      <td>7.000000e+00</td>\n      <td>7.000000e+00</td>\n      <td>7.000000</td>\n    </tr>\n    <tr>\n      <th>mean</th>\n      <td>107.302571</td>\n      <td>5.080248e+06</td>\n      <td>3.061327e+06</td>\n      <td>0.900429</td>\n    </tr>\n    <tr>\n      <th>std</th>\n      <td>97.249970</td>\n      <td>5.494020e+06</td>\n      <td>4.576187e+06</td>\n      <td>0.016592</td>\n    </tr>\n    <tr>\n      <th>min</th>\n      <td>35.467000</td>\n      <td>1.785387e+06</td>\n      <td>2.424950e+05</td>\n      <td>0.873000</td>\n    </tr>\n    <tr>\n      <th>25%</th>\n      <td>62.308000</td>\n      <td>2.500716e+06</td>\n      <td>3.292250e+05</td>\n      <td>0.889500</td>\n    </tr>\n    <tr>\n      <th>50%</th>\n      <td>64.511000</td>\n      <td>2.950039e+06</td>\n      <td>3.779300e+05</td>\n      <td>0.907000</td>\n    </tr>\n    <tr>\n      <th>75%</th>\n      <td>104.000500</td>\n      <td>4.238402e+06</td>\n      <td>5.082873e+06</td>\n      <td>0.914000</td>\n    </tr>\n    <tr>\n      <th>max</th>\n      <td>318.523000</td>\n      <td>1.734808e+07</td>\n      <td>9.984670e+06</td>\n      <td>0.916000</td>\n    </tr>\n  </tbody>\n</table>\n</div>"
     },
     "execution_count": 13,
     "metadata": {},
     "output_type": "execute_result"
    }
   ],
   "source": [
    "df.describe()"
   ]
  },
  {
   "cell_type": "code",
   "execution_count": 27,
   "metadata": {
    "ExecuteTime": {
     "end_time": "2023-12-03T20:50:23.558875900Z",
     "start_time": "2023-12-03T20:50:23.505346700Z"
    }
   },
   "outputs": [
    {
     "data": {
      "text/plain": "Population      float64\nGDP               int64\nSurface Area      int64\nHDI             float64\nContinent        object\ndtype: object"
     },
     "execution_count": 27,
     "metadata": {},
     "output_type": "execute_result"
    }
   ],
   "source": [
    "df.dtypes"
   ]
  },
  {
   "cell_type": "code",
   "execution_count": 28,
   "metadata": {
    "ExecuteTime": {
     "end_time": "2023-12-03T20:50:28.152139300Z",
     "start_time": "2023-12-03T20:50:28.128596900Z"
    }
   },
   "outputs": [
    {
     "data": {
      "text/plain": "float64    2\nint64      2\nobject     1\nName: count, dtype: int64"
     },
     "execution_count": 28,
     "metadata": {},
     "output_type": "execute_result"
    }
   ],
   "source": [
    "df.dtypes.value_counts()"
   ]
  },
  {
   "cell_type": "markdown",
   "metadata": {},
   "source": [
    "![green-divider](https://user-images.githubusercontent.com/7065401/52071924-c003ad80-2562-11e9-8297-1c6595f8a7ff.png)\n",
    "\n",
    "## Indexing, Selection and Slicing\n",
    "\n",
    "Individual columns in the DataFrame can be selected with regular indexing. Each column is represented as a `Series`:"
   ]
  },
  {
   "cell_type": "code",
   "execution_count": 15,
   "metadata": {},
   "outputs": [
    {
     "data": {
      "text/html": [
       "<div>\n",
       "<style scoped>\n",
       "    .dataframe tbody tr th:only-of-type {\n",
       "        vertical-align: middle;\n",
       "    }\n",
       "\n",
       "    .dataframe tbody tr th {\n",
       "        vertical-align: top;\n",
       "    }\n",
       "\n",
       "    .dataframe thead th {\n",
       "        text-align: right;\n",
       "    }\n",
       "</style>\n",
       "<table border=\"1\" class=\"dataframe\">\n",
       "  <thead>\n",
       "    <tr style=\"text-align: right;\">\n",
       "      <th></th>\n",
       "      <th>Population</th>\n",
       "      <th>GDP</th>\n",
       "      <th>Surface Area</th>\n",
       "      <th>HDI</th>\n",
       "      <th>Continent</th>\n",
       "    </tr>\n",
       "  </thead>\n",
       "  <tbody>\n",
       "    <tr>\n",
       "      <th>Canada</th>\n",
       "      <td>35.467</td>\n",
       "      <td>1785387</td>\n",
       "      <td>9984670</td>\n",
       "      <td>0.913</td>\n",
       "      <td>America</td>\n",
       "    </tr>\n",
       "    <tr>\n",
       "      <th>France</th>\n",
       "      <td>63.951</td>\n",
       "      <td>2833687</td>\n",
       "      <td>640679</td>\n",
       "      <td>0.888</td>\n",
       "      <td>Europe</td>\n",
       "    </tr>\n",
       "    <tr>\n",
       "      <th>Germany</th>\n",
       "      <td>80.940</td>\n",
       "      <td>3874437</td>\n",
       "      <td>357114</td>\n",
       "      <td>0.916</td>\n",
       "      <td>Europe</td>\n",
       "    </tr>\n",
       "    <tr>\n",
       "      <th>Italy</th>\n",
       "      <td>60.665</td>\n",
       "      <td>2167744</td>\n",
       "      <td>301336</td>\n",
       "      <td>0.873</td>\n",
       "      <td>Europe</td>\n",
       "    </tr>\n",
       "    <tr>\n",
       "      <th>Japan</th>\n",
       "      <td>127.061</td>\n",
       "      <td>4602367</td>\n",
       "      <td>377930</td>\n",
       "      <td>0.891</td>\n",
       "      <td>Asia</td>\n",
       "    </tr>\n",
       "    <tr>\n",
       "      <th>United Kingdom</th>\n",
       "      <td>64.511</td>\n",
       "      <td>2950039</td>\n",
       "      <td>242495</td>\n",
       "      <td>0.907</td>\n",
       "      <td>Europe</td>\n",
       "    </tr>\n",
       "    <tr>\n",
       "      <th>United States</th>\n",
       "      <td>318.523</td>\n",
       "      <td>17348075</td>\n",
       "      <td>9525067</td>\n",
       "      <td>0.915</td>\n",
       "      <td>America</td>\n",
       "    </tr>\n",
       "  </tbody>\n",
       "</table>\n",
       "</div>"
      ],
      "text/plain": [
       "                Population       GDP  Surface Area    HDI Continent\n",
       "Canada              35.467   1785387       9984670  0.913   America\n",
       "France              63.951   2833687        640679  0.888    Europe\n",
       "Germany             80.940   3874437        357114  0.916    Europe\n",
       "Italy               60.665   2167744        301336  0.873    Europe\n",
       "Japan              127.061   4602367        377930  0.891      Asia\n",
       "United Kingdom      64.511   2950039        242495  0.907    Europe\n",
       "United States      318.523  17348075       9525067  0.915   America"
      ]
     },
     "execution_count": 15,
     "metadata": {},
     "output_type": "execute_result"
    }
   ],
   "source": [
    "df"
   ]
  },
  {
   "cell_type": "code",
   "execution_count": 35,
   "metadata": {
    "ExecuteTime": {
     "end_time": "2023-12-03T20:53:56.745774300Z",
     "start_time": "2023-12-03T20:53:56.721138Z"
    }
   },
   "outputs": [
    {
     "data": {
      "text/plain": "Population       35.467\nGDP             1785387\nSurface Area    9984670\nHDI               0.913\nContinent       America\nName: Canada, dtype: object"
     },
     "execution_count": 35,
     "metadata": {},
     "output_type": "execute_result"
    }
   ],
   "source": [
    "df.loc['Canada']"
   ]
  },
  {
   "cell_type": "code",
   "execution_count": 36,
   "metadata": {
    "ExecuteTime": {
     "end_time": "2023-12-03T20:54:05.848693600Z",
     "start_time": "2023-12-03T20:54:05.793453300Z"
    }
   },
   "outputs": [
    {
     "data": {
      "text/plain": "Population       35.467\nGDP             1785387\nSurface Area    9984670\nHDI               0.913\nContinent       America\nName: Canada, dtype: object"
     },
     "execution_count": 36,
     "metadata": {},
     "output_type": "execute_result"
    }
   ],
   "source": [
    "df.iloc[0]"
   ]
  },
  {
   "cell_type": "code",
   "execution_count": 40,
   "metadata": {
    "scrolled": true,
    "ExecuteTime": {
     "end_time": "2023-12-03T20:54:59.041136400Z",
     "start_time": "2023-12-03T20:54:59.002261300Z"
    }
   },
   "outputs": [
    {
     "data": {
      "text/plain": "Canada             35.467\nFrance             63.951\nGermany            80.940\nItaly              60.665\nJapan             127.061\nUnited Kingdom     64.511\nUnited States     318.523\nName: Population, dtype: float64"
     },
     "execution_count": 40,
     "metadata": {},
     "output_type": "execute_result"
    }
   ],
   "source": [
    "df['Canada']"
   ]
  },
  {
   "cell_type": "markdown",
   "metadata": {},
   "source": [
    "Note that the `index` of the returned Series is the same as the DataFrame one. And its `name` is the name of the column. If you're working on a notebook and want to see a more DataFrame-like format you can use the `to_frame` method:"
   ]
  },
  {
   "cell_type": "code",
   "execution_count": 31,
   "metadata": {
    "ExecuteTime": {
     "end_time": "2023-12-03T20:51:17.568895200Z",
     "start_time": "2023-12-03T20:51:17.534272300Z"
    }
   },
   "outputs": [
    {
     "data": {
      "text/plain": "                Population\nCanada              35.467\nFrance              63.951\nGermany             80.940\nItaly               60.665\nJapan              127.061\nUnited Kingdom      64.511\nUnited States      318.523",
      "text/html": "<div>\n<style scoped>\n    .dataframe tbody tr th:only-of-type {\n        vertical-align: middle;\n    }\n\n    .dataframe tbody tr th {\n        vertical-align: top;\n    }\n\n    .dataframe thead th {\n        text-align: right;\n    }\n</style>\n<table border=\"1\" class=\"dataframe\">\n  <thead>\n    <tr style=\"text-align: right;\">\n      <th></th>\n      <th>Population</th>\n    </tr>\n  </thead>\n  <tbody>\n    <tr>\n      <th>Canada</th>\n      <td>35.467</td>\n    </tr>\n    <tr>\n      <th>France</th>\n      <td>63.951</td>\n    </tr>\n    <tr>\n      <th>Germany</th>\n      <td>80.940</td>\n    </tr>\n    <tr>\n      <th>Italy</th>\n      <td>60.665</td>\n    </tr>\n    <tr>\n      <th>Japan</th>\n      <td>127.061</td>\n    </tr>\n    <tr>\n      <th>United Kingdom</th>\n      <td>64.511</td>\n    </tr>\n    <tr>\n      <th>United States</th>\n      <td>318.523</td>\n    </tr>\n  </tbody>\n</table>\n</div>"
     },
     "execution_count": 31,
     "metadata": {},
     "output_type": "execute_result"
    }
   ],
   "source": [
    "df['Population'].to_frame()"
   ]
  },
  {
   "cell_type": "markdown",
   "metadata": {},
   "source": [
    "Multiple columns can also be selected similarly to `numpy` and `Series`:"
   ]
  },
  {
   "cell_type": "code",
   "execution_count": 49,
   "metadata": {
    "scrolled": true,
    "ExecuteTime": {
     "end_time": "2023-12-03T20:57:21.816041900Z",
     "start_time": "2023-12-03T20:57:21.767058300Z"
    }
   },
   "outputs": [
    {
     "data": {
      "text/plain": "                Population    HDI\nCanada              35.467  0.913\nFrance              63.951  0.888\nGermany             80.940  0.916\nItaly               60.665  0.873\nJapan              127.061  0.891\nUnited Kingdom      64.511  0.907\nUnited States      318.523  0.915",
      "text/html": "<div>\n<style scoped>\n    .dataframe tbody tr th:only-of-type {\n        vertical-align: middle;\n    }\n\n    .dataframe tbody tr th {\n        vertical-align: top;\n    }\n\n    .dataframe thead th {\n        text-align: right;\n    }\n</style>\n<table border=\"1\" class=\"dataframe\">\n  <thead>\n    <tr style=\"text-align: right;\">\n      <th></th>\n      <th>Population</th>\n      <th>HDI</th>\n    </tr>\n  </thead>\n  <tbody>\n    <tr>\n      <th>Canada</th>\n      <td>35.467</td>\n      <td>0.913</td>\n    </tr>\n    <tr>\n      <th>France</th>\n      <td>63.951</td>\n      <td>0.888</td>\n    </tr>\n    <tr>\n      <th>Germany</th>\n      <td>80.940</td>\n      <td>0.916</td>\n    </tr>\n    <tr>\n      <th>Italy</th>\n      <td>60.665</td>\n      <td>0.873</td>\n    </tr>\n    <tr>\n      <th>Japan</th>\n      <td>127.061</td>\n      <td>0.891</td>\n    </tr>\n    <tr>\n      <th>United Kingdom</th>\n      <td>64.511</td>\n      <td>0.907</td>\n    </tr>\n    <tr>\n      <th>United States</th>\n      <td>318.523</td>\n      <td>0.915</td>\n    </tr>\n  </tbody>\n</table>\n</div>"
     },
     "execution_count": 49,
     "metadata": {},
     "output_type": "execute_result"
    }
   ],
   "source": [
    "df[['Population', 'GDP']]"
   ]
  },
  {
   "cell_type": "markdown",
   "metadata": {},
   "source": [
    "In this case, the result is another `DataFrame`. Slicing works differently, it acts at \"row level\", and can be counter intuitive:"
   ]
  },
  {
   "cell_type": "code",
   "execution_count": 58,
   "metadata": {
    "ExecuteTime": {
     "end_time": "2023-12-03T20:59:15.435837700Z",
     "start_time": "2023-12-03T20:59:15.403958900Z"
    }
   },
   "outputs": [
    {
     "data": {
      "text/plain": "        Population      GDP  Surface Area    HDI Continent\nCanada      35.467  1785387       9984670  0.913   America\nFrance      63.951  2833687        640679  0.888    Europe",
      "text/html": "<div>\n<style scoped>\n    .dataframe tbody tr th:only-of-type {\n        vertical-align: middle;\n    }\n\n    .dataframe tbody tr th {\n        vertical-align: top;\n    }\n\n    .dataframe thead th {\n        text-align: right;\n    }\n</style>\n<table border=\"1\" class=\"dataframe\">\n  <thead>\n    <tr style=\"text-align: right;\">\n      <th></th>\n      <th>Population</th>\n      <th>GDP</th>\n      <th>Surface Area</th>\n      <th>HDI</th>\n      <th>Continent</th>\n    </tr>\n  </thead>\n  <tbody>\n    <tr>\n      <th>Canada</th>\n      <td>35.467</td>\n      <td>1785387</td>\n      <td>9984670</td>\n      <td>0.913</td>\n      <td>America</td>\n    </tr>\n    <tr>\n      <th>France</th>\n      <td>63.951</td>\n      <td>2833687</td>\n      <td>640679</td>\n      <td>0.888</td>\n      <td>Europe</td>\n    </tr>\n  </tbody>\n</table>\n</div>"
     },
     "execution_count": 58,
     "metadata": {},
     "output_type": "execute_result"
    }
   ],
   "source": [
    "df[1:3]"
   ]
  },
  {
   "cell_type": "markdown",
   "metadata": {},
   "source": [
    "Row level selection works better with `loc` and `iloc` **which are recommended** over regular \"direct slicing\" (`df[:]`).\n",
    "\n",
    "`loc` selects rows matching the given index:"
   ]
  },
  {
   "cell_type": "code",
   "execution_count": 19,
   "metadata": {},
   "outputs": [
    {
     "data": {
      "text/plain": [
       "Population       60.665\n",
       "GDP             2167744\n",
       "Surface Area     301336\n",
       "HDI               0.873\n",
       "Continent        Europe\n",
       "Name: Italy, dtype: object"
      ]
     },
     "execution_count": 19,
     "metadata": {},
     "output_type": "execute_result"
    }
   ],
   "source": [
    "df.loc['Italy']"
   ]
  },
  {
   "cell_type": "code",
   "execution_count": 20,
   "metadata": {
    "scrolled": true
   },
   "outputs": [
    {
     "data": {
      "text/html": [
       "<div>\n",
       "<style scoped>\n",
       "    .dataframe tbody tr th:only-of-type {\n",
       "        vertical-align: middle;\n",
       "    }\n",
       "\n",
       "    .dataframe tbody tr th {\n",
       "        vertical-align: top;\n",
       "    }\n",
       "\n",
       "    .dataframe thead th {\n",
       "        text-align: right;\n",
       "    }\n",
       "</style>\n",
       "<table border=\"1\" class=\"dataframe\">\n",
       "  <thead>\n",
       "    <tr style=\"text-align: right;\">\n",
       "      <th></th>\n",
       "      <th>Population</th>\n",
       "      <th>GDP</th>\n",
       "      <th>Surface Area</th>\n",
       "      <th>HDI</th>\n",
       "      <th>Continent</th>\n",
       "    </tr>\n",
       "  </thead>\n",
       "  <tbody>\n",
       "    <tr>\n",
       "      <th>France</th>\n",
       "      <td>63.951</td>\n",
       "      <td>2833687</td>\n",
       "      <td>640679</td>\n",
       "      <td>0.888</td>\n",
       "      <td>Europe</td>\n",
       "    </tr>\n",
       "    <tr>\n",
       "      <th>Germany</th>\n",
       "      <td>80.940</td>\n",
       "      <td>3874437</td>\n",
       "      <td>357114</td>\n",
       "      <td>0.916</td>\n",
       "      <td>Europe</td>\n",
       "    </tr>\n",
       "    <tr>\n",
       "      <th>Italy</th>\n",
       "      <td>60.665</td>\n",
       "      <td>2167744</td>\n",
       "      <td>301336</td>\n",
       "      <td>0.873</td>\n",
       "      <td>Europe</td>\n",
       "    </tr>\n",
       "  </tbody>\n",
       "</table>\n",
       "</div>"
      ],
      "text/plain": [
       "         Population      GDP  Surface Area    HDI Continent\n",
       "France       63.951  2833687        640679  0.888    Europe\n",
       "Germany      80.940  3874437        357114  0.916    Europe\n",
       "Italy        60.665  2167744        301336  0.873    Europe"
      ]
     },
     "execution_count": 20,
     "metadata": {},
     "output_type": "execute_result"
    }
   ],
   "source": [
    "df.loc['France': 'Italy']"
   ]
  },
  {
   "cell_type": "markdown",
   "metadata": {},
   "source": [
    "As a second \"argument\", you can pass the column(s) you'd like to select:"
   ]
  },
  {
   "cell_type": "code",
   "execution_count": 21,
   "metadata": {},
   "outputs": [
    {
     "data": {
      "text/plain": [
       "France     63.951\n",
       "Germany    80.940\n",
       "Italy      60.665\n",
       "Name: Population, dtype: float64"
      ]
     },
     "execution_count": 21,
     "metadata": {},
     "output_type": "execute_result"
    }
   ],
   "source": [
    "df.loc['France': 'Italy', 'Population']"
   ]
  },
  {
   "cell_type": "code",
   "execution_count": 22,
   "metadata": {
    "scrolled": true
   },
   "outputs": [
    {
     "data": {
      "text/html": [
       "<div>\n",
       "<style scoped>\n",
       "    .dataframe tbody tr th:only-of-type {\n",
       "        vertical-align: middle;\n",
       "    }\n",
       "\n",
       "    .dataframe tbody tr th {\n",
       "        vertical-align: top;\n",
       "    }\n",
       "\n",
       "    .dataframe thead th {\n",
       "        text-align: right;\n",
       "    }\n",
       "</style>\n",
       "<table border=\"1\" class=\"dataframe\">\n",
       "  <thead>\n",
       "    <tr style=\"text-align: right;\">\n",
       "      <th></th>\n",
       "      <th>Population</th>\n",
       "      <th>GDP</th>\n",
       "    </tr>\n",
       "  </thead>\n",
       "  <tbody>\n",
       "    <tr>\n",
       "      <th>France</th>\n",
       "      <td>63.951</td>\n",
       "      <td>2833687</td>\n",
       "    </tr>\n",
       "    <tr>\n",
       "      <th>Germany</th>\n",
       "      <td>80.940</td>\n",
       "      <td>3874437</td>\n",
       "    </tr>\n",
       "    <tr>\n",
       "      <th>Italy</th>\n",
       "      <td>60.665</td>\n",
       "      <td>2167744</td>\n",
       "    </tr>\n",
       "  </tbody>\n",
       "</table>\n",
       "</div>"
      ],
      "text/plain": [
       "         Population      GDP\n",
       "France       63.951  2833687\n",
       "Germany      80.940  3874437\n",
       "Italy        60.665  2167744"
      ]
     },
     "execution_count": 22,
     "metadata": {},
     "output_type": "execute_result"
    }
   ],
   "source": [
    "df.loc['France': 'Italy', ['Population', 'GDP']]"
   ]
  },
  {
   "cell_type": "markdown",
   "metadata": {},
   "source": [
    "`iloc` works with the (numeric) \"position\" of the index:"
   ]
  },
  {
   "cell_type": "code",
   "execution_count": 65,
   "metadata": {
    "ExecuteTime": {
     "end_time": "2023-12-03T21:06:10.549584100Z",
     "start_time": "2023-12-03T21:06:10.521729800Z"
    }
   },
   "outputs": [
    {
     "data": {
      "text/plain": "                Population       GDP  Surface Area    HDI Continent\nCanada              35.467   1785387       9984670  0.913   America\nFrance              63.951   2833687        640679  0.888    Europe\nGermany             80.940   3874437        357114  0.916    Europe\nItaly               60.665   2167744        301336  0.873    Europe\nJapan              127.061   4602367        377930  0.891      Asia\nUnited Kingdom      64.511   2950039        242495  0.907    Europe\nUnited States      318.523  17348075       9525067  0.915   America",
      "text/html": "<div>\n<style scoped>\n    .dataframe tbody tr th:only-of-type {\n        vertical-align: middle;\n    }\n\n    .dataframe tbody tr th {\n        vertical-align: top;\n    }\n\n    .dataframe thead th {\n        text-align: right;\n    }\n</style>\n<table border=\"1\" class=\"dataframe\">\n  <thead>\n    <tr style=\"text-align: right;\">\n      <th></th>\n      <th>Population</th>\n      <th>GDP</th>\n      <th>Surface Area</th>\n      <th>HDI</th>\n      <th>Continent</th>\n    </tr>\n  </thead>\n  <tbody>\n    <tr>\n      <th>Canada</th>\n      <td>35.467</td>\n      <td>1785387</td>\n      <td>9984670</td>\n      <td>0.913</td>\n      <td>America</td>\n    </tr>\n    <tr>\n      <th>France</th>\n      <td>63.951</td>\n      <td>2833687</td>\n      <td>640679</td>\n      <td>0.888</td>\n      <td>Europe</td>\n    </tr>\n    <tr>\n      <th>Germany</th>\n      <td>80.940</td>\n      <td>3874437</td>\n      <td>357114</td>\n      <td>0.916</td>\n      <td>Europe</td>\n    </tr>\n    <tr>\n      <th>Italy</th>\n      <td>60.665</td>\n      <td>2167744</td>\n      <td>301336</td>\n      <td>0.873</td>\n      <td>Europe</td>\n    </tr>\n    <tr>\n      <th>Japan</th>\n      <td>127.061</td>\n      <td>4602367</td>\n      <td>377930</td>\n      <td>0.891</td>\n      <td>Asia</td>\n    </tr>\n    <tr>\n      <th>United Kingdom</th>\n      <td>64.511</td>\n      <td>2950039</td>\n      <td>242495</td>\n      <td>0.907</td>\n      <td>Europe</td>\n    </tr>\n    <tr>\n      <th>United States</th>\n      <td>318.523</td>\n      <td>17348075</td>\n      <td>9525067</td>\n      <td>0.915</td>\n      <td>America</td>\n    </tr>\n  </tbody>\n</table>\n</div>"
     },
     "execution_count": 65,
     "metadata": {},
     "output_type": "execute_result"
    }
   ],
   "source": [
    "df"
   ]
  },
  {
   "cell_type": "code",
   "execution_count": 66,
   "metadata": {
    "ExecuteTime": {
     "end_time": "2023-12-03T21:06:12.024698Z",
     "start_time": "2023-12-03T21:06:11.999671300Z"
    }
   },
   "outputs": [
    {
     "data": {
      "text/plain": "Population       35.467\nGDP             1785387\nSurface Area    9984670\nHDI               0.913\nContinent       America\nName: Canada, dtype: object"
     },
     "execution_count": 66,
     "metadata": {},
     "output_type": "execute_result"
    }
   ],
   "source": [
    "df.iloc[0]"
   ]
  },
  {
   "cell_type": "code",
   "execution_count": 67,
   "metadata": {
    "ExecuteTime": {
     "end_time": "2023-12-03T21:06:12.897315400Z",
     "start_time": "2023-12-03T21:06:12.872877800Z"
    }
   },
   "outputs": [
    {
     "data": {
      "text/plain": "Population       318.523\nGDP             17348075\nSurface Area     9525067\nHDI                0.915\nContinent        America\nName: United States, dtype: object"
     },
     "execution_count": 67,
     "metadata": {},
     "output_type": "execute_result"
    }
   ],
   "source": [
    "df.iloc[-1]"
   ]
  },
  {
   "cell_type": "code",
   "execution_count": 64,
   "metadata": {
    "ExecuteTime": {
     "end_time": "2023-12-03T21:06:07.026380400Z",
     "start_time": "2023-12-03T21:06:06.999483100Z"
    }
   },
   "outputs": [
    {
     "data": {
      "text/plain": "               Population       GDP  Surface Area    HDI Continent\nCanada             35.467   1785387       9984670  0.913   America\nFrance             63.951   2833687        640679  0.888    Europe\nUnited States     318.523  17348075       9525067  0.915   America",
      "text/html": "<div>\n<style scoped>\n    .dataframe tbody tr th:only-of-type {\n        vertical-align: middle;\n    }\n\n    .dataframe tbody tr th {\n        vertical-align: top;\n    }\n\n    .dataframe thead th {\n        text-align: right;\n    }\n</style>\n<table border=\"1\" class=\"dataframe\">\n  <thead>\n    <tr style=\"text-align: right;\">\n      <th></th>\n      <th>Population</th>\n      <th>GDP</th>\n      <th>Surface Area</th>\n      <th>HDI</th>\n      <th>Continent</th>\n    </tr>\n  </thead>\n  <tbody>\n    <tr>\n      <th>Canada</th>\n      <td>35.467</td>\n      <td>1785387</td>\n      <td>9984670</td>\n      <td>0.913</td>\n      <td>America</td>\n    </tr>\n    <tr>\n      <th>France</th>\n      <td>63.951</td>\n      <td>2833687</td>\n      <td>640679</td>\n      <td>0.888</td>\n      <td>Europe</td>\n    </tr>\n    <tr>\n      <th>United States</th>\n      <td>318.523</td>\n      <td>17348075</td>\n      <td>9525067</td>\n      <td>0.915</td>\n      <td>America</td>\n    </tr>\n  </tbody>\n</table>\n</div>"
     },
     "execution_count": 64,
     "metadata": {},
     "output_type": "execute_result"
    }
   ],
   "source": [
    "df.iloc[[0, 1, -1]]"
   ]
  },
  {
   "cell_type": "code",
   "execution_count": 60,
   "outputs": [
    {
     "data": {
      "text/plain": "         Population      GDP  Surface Area    HDI Continent\nFrance       63.951  2833687        640679  0.888    Europe\nGermany      80.940  3874437        357114  0.916    Europe",
      "text/html": "<div>\n<style scoped>\n    .dataframe tbody tr th:only-of-type {\n        vertical-align: middle;\n    }\n\n    .dataframe tbody tr th {\n        vertical-align: top;\n    }\n\n    .dataframe thead th {\n        text-align: right;\n    }\n</style>\n<table border=\"1\" class=\"dataframe\">\n  <thead>\n    <tr style=\"text-align: right;\">\n      <th></th>\n      <th>Population</th>\n      <th>GDP</th>\n      <th>Surface Area</th>\n      <th>HDI</th>\n      <th>Continent</th>\n    </tr>\n  </thead>\n  <tbody>\n    <tr>\n      <th>France</th>\n      <td>63.951</td>\n      <td>2833687</td>\n      <td>640679</td>\n      <td>0.888</td>\n      <td>Europe</td>\n    </tr>\n    <tr>\n      <th>Germany</th>\n      <td>80.940</td>\n      <td>3874437</td>\n      <td>357114</td>\n      <td>0.916</td>\n      <td>Europe</td>\n    </tr>\n  </tbody>\n</table>\n</div>"
     },
     "execution_count": 60,
     "metadata": {},
     "output_type": "execute_result"
    }
   ],
   "source": [
    "df.iloc[1:3]"
   ],
   "metadata": {
    "collapsed": false,
    "ExecuteTime": {
     "end_time": "2023-12-03T21:02:06.014180700Z",
     "start_time": "2023-12-03T21:02:05.972206Z"
    }
   }
  },
  {
   "cell_type": "code",
   "execution_count": 61,
   "metadata": {
    "ExecuteTime": {
     "end_time": "2023-12-03T21:02:09.349034400Z",
     "start_time": "2023-12-03T21:02:09.317294300Z"
    }
   },
   "outputs": [
    {
     "data": {
      "text/plain": "France     0.888\nGermany    0.916\nName: HDI, dtype: float64"
     },
     "execution_count": 61,
     "metadata": {},
     "output_type": "execute_result"
    }
   ],
   "source": [
    "df.iloc[1:3, 3]"
   ]
  },
  {
   "cell_type": "code",
   "execution_count": 68,
   "metadata": {
    "ExecuteTime": {
     "end_time": "2023-12-03T21:11:43.727667700Z",
     "start_time": "2023-12-03T21:11:43.696570600Z"
    }
   },
   "outputs": [
    {
     "data": {
      "text/plain": "         Population    HDI\nFrance       63.951  0.888\nGermany      80.940  0.916",
      "text/html": "<div>\n<style scoped>\n    .dataframe tbody tr th:only-of-type {\n        vertical-align: middle;\n    }\n\n    .dataframe tbody tr th {\n        vertical-align: top;\n    }\n\n    .dataframe thead th {\n        text-align: right;\n    }\n</style>\n<table border=\"1\" class=\"dataframe\">\n  <thead>\n    <tr style=\"text-align: right;\">\n      <th></th>\n      <th>Population</th>\n      <th>HDI</th>\n    </tr>\n  </thead>\n  <tbody>\n    <tr>\n      <th>France</th>\n      <td>63.951</td>\n      <td>0.888</td>\n    </tr>\n    <tr>\n      <th>Germany</th>\n      <td>80.940</td>\n      <td>0.916</td>\n    </tr>\n  </tbody>\n</table>\n</div>"
     },
     "execution_count": 68,
     "metadata": {},
     "output_type": "execute_result"
    }
   ],
   "source": [
    "df.iloc[1:3, [0, 3]]"
   ]
  },
  {
   "cell_type": "code",
   "execution_count": 69,
   "metadata": {
    "scrolled": true,
    "ExecuteTime": {
     "end_time": "2023-12-03T21:11:45.601006200Z",
     "start_time": "2023-12-03T21:11:45.572350600Z"
    }
   },
   "outputs": [
    {
     "data": {
      "text/plain": "             GDP  Surface Area\nFrance   2833687        640679\nGermany  3874437        357114",
      "text/html": "<div>\n<style scoped>\n    .dataframe tbody tr th:only-of-type {\n        vertical-align: middle;\n    }\n\n    .dataframe tbody tr th {\n        vertical-align: top;\n    }\n\n    .dataframe thead th {\n        text-align: right;\n    }\n</style>\n<table border=\"1\" class=\"dataframe\">\n  <thead>\n    <tr style=\"text-align: right;\">\n      <th></th>\n      <th>GDP</th>\n      <th>Surface Area</th>\n    </tr>\n  </thead>\n  <tbody>\n    <tr>\n      <th>France</th>\n      <td>2833687</td>\n      <td>640679</td>\n    </tr>\n    <tr>\n      <th>Germany</th>\n      <td>3874437</td>\n      <td>357114</td>\n    </tr>\n  </tbody>\n</table>\n</div>"
     },
     "execution_count": 69,
     "metadata": {},
     "output_type": "execute_result"
    }
   ],
   "source": [
    "df.iloc[1:3, 1:3]"
   ]
  },
  {
   "cell_type": "markdown",
   "metadata": {},
   "source": [
    "> **RECOMMENDED: Always use `loc` and `iloc` to reduce ambiguity, specially with `DataFrame`s with numeric indexes.**"
   ]
  },
  {
   "cell_type": "markdown",
   "metadata": {},
   "source": [
    "![green-divider](https://user-images.githubusercontent.com/7065401/52071924-c003ad80-2562-11e9-8297-1c6595f8a7ff.png)\n",
    "\n",
    "## Conditional selection (boolean arrays)\n",
    "\n",
    "We saw conditional selection applied to `Series` and it'll work in the same way for `DataFrame`s. After all, a `DataFrame` is a collection of `Series`:"
   ]
  },
  {
   "cell_type": "code",
   "execution_count": 70,
   "metadata": {
    "ExecuteTime": {
     "end_time": "2023-12-03T21:12:38.308942400Z",
     "start_time": "2023-12-03T21:12:38.284966500Z"
    }
   },
   "outputs": [
    {
     "data": {
      "text/plain": "                Population       GDP  Surface Area    HDI Continent\nCanada              35.467   1785387       9984670  0.913   America\nFrance              63.951   2833687        640679  0.888    Europe\nGermany             80.940   3874437        357114  0.916    Europe\nItaly               60.665   2167744        301336  0.873    Europe\nJapan              127.061   4602367        377930  0.891      Asia\nUnited Kingdom      64.511   2950039        242495  0.907    Europe\nUnited States      318.523  17348075       9525067  0.915   America",
      "text/html": "<div>\n<style scoped>\n    .dataframe tbody tr th:only-of-type {\n        vertical-align: middle;\n    }\n\n    .dataframe tbody tr th {\n        vertical-align: top;\n    }\n\n    .dataframe thead th {\n        text-align: right;\n    }\n</style>\n<table border=\"1\" class=\"dataframe\">\n  <thead>\n    <tr style=\"text-align: right;\">\n      <th></th>\n      <th>Population</th>\n      <th>GDP</th>\n      <th>Surface Area</th>\n      <th>HDI</th>\n      <th>Continent</th>\n    </tr>\n  </thead>\n  <tbody>\n    <tr>\n      <th>Canada</th>\n      <td>35.467</td>\n      <td>1785387</td>\n      <td>9984670</td>\n      <td>0.913</td>\n      <td>America</td>\n    </tr>\n    <tr>\n      <th>France</th>\n      <td>63.951</td>\n      <td>2833687</td>\n      <td>640679</td>\n      <td>0.888</td>\n      <td>Europe</td>\n    </tr>\n    <tr>\n      <th>Germany</th>\n      <td>80.940</td>\n      <td>3874437</td>\n      <td>357114</td>\n      <td>0.916</td>\n      <td>Europe</td>\n    </tr>\n    <tr>\n      <th>Italy</th>\n      <td>60.665</td>\n      <td>2167744</td>\n      <td>301336</td>\n      <td>0.873</td>\n      <td>Europe</td>\n    </tr>\n    <tr>\n      <th>Japan</th>\n      <td>127.061</td>\n      <td>4602367</td>\n      <td>377930</td>\n      <td>0.891</td>\n      <td>Asia</td>\n    </tr>\n    <tr>\n      <th>United Kingdom</th>\n      <td>64.511</td>\n      <td>2950039</td>\n      <td>242495</td>\n      <td>0.907</td>\n      <td>Europe</td>\n    </tr>\n    <tr>\n      <th>United States</th>\n      <td>318.523</td>\n      <td>17348075</td>\n      <td>9525067</td>\n      <td>0.915</td>\n      <td>America</td>\n    </tr>\n  </tbody>\n</table>\n</div>"
     },
     "execution_count": 70,
     "metadata": {},
     "output_type": "execute_result"
    }
   ],
   "source": [
    "df"
   ]
  },
  {
   "cell_type": "code",
   "execution_count": 71,
   "metadata": {
    "ExecuteTime": {
     "end_time": "2023-12-03T21:12:40.639550700Z",
     "start_time": "2023-12-03T21:12:40.613499400Z"
    }
   },
   "outputs": [
    {
     "data": {
      "text/plain": "Canada            False\nFrance            False\nGermany            True\nItaly             False\nJapan              True\nUnited Kingdom    False\nUnited States      True\nName: Population, dtype: bool"
     },
     "execution_count": 71,
     "metadata": {},
     "output_type": "execute_result"
    }
   ],
   "source": [
    "df['Population'] > 70"
   ]
  },
  {
   "cell_type": "code",
   "execution_count": 74,
   "metadata": {
    "ExecuteTime": {
     "end_time": "2023-12-03T21:13:02.995256700Z",
     "start_time": "2023-12-03T21:13:02.954255500Z"
    }
   },
   "outputs": [
    {
     "data": {
      "text/plain": "               Population       GDP  Surface Area    HDI Continent\nGermany            80.940   3874437        357114  0.916    Europe\nJapan             127.061   4602367        377930  0.891      Asia\nUnited States     318.523  17348075       9525067  0.915   America",
      "text/html": "<div>\n<style scoped>\n    .dataframe tbody tr th:only-of-type {\n        vertical-align: middle;\n    }\n\n    .dataframe tbody tr th {\n        vertical-align: top;\n    }\n\n    .dataframe thead th {\n        text-align: right;\n    }\n</style>\n<table border=\"1\" class=\"dataframe\">\n  <thead>\n    <tr style=\"text-align: right;\">\n      <th></th>\n      <th>Population</th>\n      <th>GDP</th>\n      <th>Surface Area</th>\n      <th>HDI</th>\n      <th>Continent</th>\n    </tr>\n  </thead>\n  <tbody>\n    <tr>\n      <th>Germany</th>\n      <td>80.940</td>\n      <td>3874437</td>\n      <td>357114</td>\n      <td>0.916</td>\n      <td>Europe</td>\n    </tr>\n    <tr>\n      <th>Japan</th>\n      <td>127.061</td>\n      <td>4602367</td>\n      <td>377930</td>\n      <td>0.891</td>\n      <td>Asia</td>\n    </tr>\n    <tr>\n      <th>United States</th>\n      <td>318.523</td>\n      <td>17348075</td>\n      <td>9525067</td>\n      <td>0.915</td>\n      <td>America</td>\n    </tr>\n  </tbody>\n</table>\n</div>"
     },
     "execution_count": 74,
     "metadata": {},
     "output_type": "execute_result"
    }
   ],
   "source": [
    "df.loc[df['Population'] > 70]"
   ]
  },
  {
   "cell_type": "markdown",
   "metadata": {},
   "source": [
    "The boolean matching is done at Index level, so you can filter by any row, as long as it contains the right indexes. Column selection still works as expected:"
   ]
  },
  {
   "cell_type": "code",
   "execution_count": 32,
   "metadata": {},
   "outputs": [
    {
     "data": {
      "text/plain": [
       "Germany           80.940\n",
       "Japan            127.061\n",
       "United States    318.523\n",
       "Name: Population, dtype: float64"
      ]
     },
     "execution_count": 32,
     "metadata": {},
     "output_type": "execute_result"
    }
   ],
   "source": [
    "df.loc[df['Population'] > 70, 'Population']"
   ]
  },
  {
   "cell_type": "code",
   "execution_count": 33,
   "metadata": {},
   "outputs": [
    {
     "data": {
      "text/html": [
       "<div>\n",
       "<style scoped>\n",
       "    .dataframe tbody tr th:only-of-type {\n",
       "        vertical-align: middle;\n",
       "    }\n",
       "\n",
       "    .dataframe tbody tr th {\n",
       "        vertical-align: top;\n",
       "    }\n",
       "\n",
       "    .dataframe thead th {\n",
       "        text-align: right;\n",
       "    }\n",
       "</style>\n",
       "<table border=\"1\" class=\"dataframe\">\n",
       "  <thead>\n",
       "    <tr style=\"text-align: right;\">\n",
       "      <th></th>\n",
       "      <th>Population</th>\n",
       "      <th>GDP</th>\n",
       "    </tr>\n",
       "  </thead>\n",
       "  <tbody>\n",
       "    <tr>\n",
       "      <th>Germany</th>\n",
       "      <td>80.940</td>\n",
       "      <td>3874437</td>\n",
       "    </tr>\n",
       "    <tr>\n",
       "      <th>Japan</th>\n",
       "      <td>127.061</td>\n",
       "      <td>4602367</td>\n",
       "    </tr>\n",
       "    <tr>\n",
       "      <th>United States</th>\n",
       "      <td>318.523</td>\n",
       "      <td>17348075</td>\n",
       "    </tr>\n",
       "  </tbody>\n",
       "</table>\n",
       "</div>"
      ],
      "text/plain": [
       "               Population       GDP\n",
       "Germany            80.940   3874437\n",
       "Japan             127.061   4602367\n",
       "United States     318.523  17348075"
      ]
     },
     "execution_count": 33,
     "metadata": {},
     "output_type": "execute_result"
    }
   ],
   "source": [
    "df.loc[df['Population'] > 70, ['Population', 'GDP']]"
   ]
  },
  {
   "cell_type": "markdown",
   "metadata": {},
   "source": [
    "![green-divider](https://user-images.githubusercontent.com/7065401/52071924-c003ad80-2562-11e9-8297-1c6595f8a7ff.png)\n",
    "\n",
    "## Dropping stuff\n",
    "\n",
    "Opposed to the concept of selection, we have \"dropping\". Instead of pointing out which values you'd like to _select_ you could point which ones you'd like to `drop`:"
   ]
  },
  {
   "cell_type": "code",
   "execution_count": 75,
   "metadata": {
    "ExecuteTime": {
     "end_time": "2023-12-03T21:14:29.371441200Z",
     "start_time": "2023-12-03T21:14:29.342615500Z"
    }
   },
   "outputs": [
    {
     "data": {
      "text/plain": "                Population       GDP  Surface Area    HDI Continent\nFrance              63.951   2833687        640679  0.888    Europe\nGermany             80.940   3874437        357114  0.916    Europe\nItaly               60.665   2167744        301336  0.873    Europe\nJapan              127.061   4602367        377930  0.891      Asia\nUnited Kingdom      64.511   2950039        242495  0.907    Europe\nUnited States      318.523  17348075       9525067  0.915   America",
      "text/html": "<div>\n<style scoped>\n    .dataframe tbody tr th:only-of-type {\n        vertical-align: middle;\n    }\n\n    .dataframe tbody tr th {\n        vertical-align: top;\n    }\n\n    .dataframe thead th {\n        text-align: right;\n    }\n</style>\n<table border=\"1\" class=\"dataframe\">\n  <thead>\n    <tr style=\"text-align: right;\">\n      <th></th>\n      <th>Population</th>\n      <th>GDP</th>\n      <th>Surface Area</th>\n      <th>HDI</th>\n      <th>Continent</th>\n    </tr>\n  </thead>\n  <tbody>\n    <tr>\n      <th>France</th>\n      <td>63.951</td>\n      <td>2833687</td>\n      <td>640679</td>\n      <td>0.888</td>\n      <td>Europe</td>\n    </tr>\n    <tr>\n      <th>Germany</th>\n      <td>80.940</td>\n      <td>3874437</td>\n      <td>357114</td>\n      <td>0.916</td>\n      <td>Europe</td>\n    </tr>\n    <tr>\n      <th>Italy</th>\n      <td>60.665</td>\n      <td>2167744</td>\n      <td>301336</td>\n      <td>0.873</td>\n      <td>Europe</td>\n    </tr>\n    <tr>\n      <th>Japan</th>\n      <td>127.061</td>\n      <td>4602367</td>\n      <td>377930</td>\n      <td>0.891</td>\n      <td>Asia</td>\n    </tr>\n    <tr>\n      <th>United Kingdom</th>\n      <td>64.511</td>\n      <td>2950039</td>\n      <td>242495</td>\n      <td>0.907</td>\n      <td>Europe</td>\n    </tr>\n    <tr>\n      <th>United States</th>\n      <td>318.523</td>\n      <td>17348075</td>\n      <td>9525067</td>\n      <td>0.915</td>\n      <td>America</td>\n    </tr>\n  </tbody>\n</table>\n</div>"
     },
     "execution_count": 75,
     "metadata": {},
     "output_type": "execute_result"
    }
   ],
   "source": [
    "df.drop('Canada')"
   ]
  },
  {
   "cell_type": "code",
   "execution_count": 76,
   "metadata": {
    "ExecuteTime": {
     "end_time": "2023-12-03T21:14:35.589207700Z",
     "start_time": "2023-12-03T21:14:35.556315100Z"
    }
   },
   "outputs": [
    {
     "data": {
      "text/plain": "                Population       GDP  Surface Area    HDI Continent\nFrance              63.951   2833687        640679  0.888    Europe\nGermany             80.940   3874437        357114  0.916    Europe\nItaly               60.665   2167744        301336  0.873    Europe\nUnited Kingdom      64.511   2950039        242495  0.907    Europe\nUnited States      318.523  17348075       9525067  0.915   America",
      "text/html": "<div>\n<style scoped>\n    .dataframe tbody tr th:only-of-type {\n        vertical-align: middle;\n    }\n\n    .dataframe tbody tr th {\n        vertical-align: top;\n    }\n\n    .dataframe thead th {\n        text-align: right;\n    }\n</style>\n<table border=\"1\" class=\"dataframe\">\n  <thead>\n    <tr style=\"text-align: right;\">\n      <th></th>\n      <th>Population</th>\n      <th>GDP</th>\n      <th>Surface Area</th>\n      <th>HDI</th>\n      <th>Continent</th>\n    </tr>\n  </thead>\n  <tbody>\n    <tr>\n      <th>France</th>\n      <td>63.951</td>\n      <td>2833687</td>\n      <td>640679</td>\n      <td>0.888</td>\n      <td>Europe</td>\n    </tr>\n    <tr>\n      <th>Germany</th>\n      <td>80.940</td>\n      <td>3874437</td>\n      <td>357114</td>\n      <td>0.916</td>\n      <td>Europe</td>\n    </tr>\n    <tr>\n      <th>Italy</th>\n      <td>60.665</td>\n      <td>2167744</td>\n      <td>301336</td>\n      <td>0.873</td>\n      <td>Europe</td>\n    </tr>\n    <tr>\n      <th>United Kingdom</th>\n      <td>64.511</td>\n      <td>2950039</td>\n      <td>242495</td>\n      <td>0.907</td>\n      <td>Europe</td>\n    </tr>\n    <tr>\n      <th>United States</th>\n      <td>318.523</td>\n      <td>17348075</td>\n      <td>9525067</td>\n      <td>0.915</td>\n      <td>America</td>\n    </tr>\n  </tbody>\n</table>\n</div>"
     },
     "execution_count": 76,
     "metadata": {},
     "output_type": "execute_result"
    }
   ],
   "source": [
    "df.drop(['Canada', 'Japan'])"
   ]
  },
  {
   "cell_type": "code",
   "execution_count": 77,
   "metadata": {
    "ExecuteTime": {
     "end_time": "2023-12-03T21:14:48.749511800Z",
     "start_time": "2023-12-03T21:14:48.722597700Z"
    }
   },
   "outputs": [
    {
     "data": {
      "text/plain": "                     GDP  Surface Area Continent\nCanada           1785387       9984670   America\nFrance           2833687        640679    Europe\nGermany          3874437        357114    Europe\nItaly            2167744        301336    Europe\nJapan            4602367        377930      Asia\nUnited Kingdom   2950039        242495    Europe\nUnited States   17348075       9525067   America",
      "text/html": "<div>\n<style scoped>\n    .dataframe tbody tr th:only-of-type {\n        vertical-align: middle;\n    }\n\n    .dataframe tbody tr th {\n        vertical-align: top;\n    }\n\n    .dataframe thead th {\n        text-align: right;\n    }\n</style>\n<table border=\"1\" class=\"dataframe\">\n  <thead>\n    <tr style=\"text-align: right;\">\n      <th></th>\n      <th>GDP</th>\n      <th>Surface Area</th>\n      <th>Continent</th>\n    </tr>\n  </thead>\n  <tbody>\n    <tr>\n      <th>Canada</th>\n      <td>1785387</td>\n      <td>9984670</td>\n      <td>America</td>\n    </tr>\n    <tr>\n      <th>France</th>\n      <td>2833687</td>\n      <td>640679</td>\n      <td>Europe</td>\n    </tr>\n    <tr>\n      <th>Germany</th>\n      <td>3874437</td>\n      <td>357114</td>\n      <td>Europe</td>\n    </tr>\n    <tr>\n      <th>Italy</th>\n      <td>2167744</td>\n      <td>301336</td>\n      <td>Europe</td>\n    </tr>\n    <tr>\n      <th>Japan</th>\n      <td>4602367</td>\n      <td>377930</td>\n      <td>Asia</td>\n    </tr>\n    <tr>\n      <th>United Kingdom</th>\n      <td>2950039</td>\n      <td>242495</td>\n      <td>Europe</td>\n    </tr>\n    <tr>\n      <th>United States</th>\n      <td>17348075</td>\n      <td>9525067</td>\n      <td>America</td>\n    </tr>\n  </tbody>\n</table>\n</div>"
     },
     "execution_count": 77,
     "metadata": {},
     "output_type": "execute_result"
    }
   ],
   "source": [
    "df.drop(columns=['Population', 'HDI'])"
   ]
  },
  {
   "cell_type": "code",
   "execution_count": 86,
   "metadata": {
    "ExecuteTime": {
     "end_time": "2023-12-03T21:15:46.079230700Z",
     "start_time": "2023-12-03T21:15:46.020948400Z"
    }
   },
   "outputs": [
    {
     "data": {
      "text/plain": "                Population       GDP  Surface Area    HDI Continent\nFrance              63.951   2833687        640679  0.888    Europe\nGermany             80.940   3874437        357114  0.916    Europe\nJapan              127.061   4602367        377930  0.891      Asia\nUnited Kingdom      64.511   2950039        242495  0.907    Europe\nUnited States      318.523  17348075       9525067  0.915   America",
      "text/html": "<div>\n<style scoped>\n    .dataframe tbody tr th:only-of-type {\n        vertical-align: middle;\n    }\n\n    .dataframe tbody tr th {\n        vertical-align: top;\n    }\n\n    .dataframe thead th {\n        text-align: right;\n    }\n</style>\n<table border=\"1\" class=\"dataframe\">\n  <thead>\n    <tr style=\"text-align: right;\">\n      <th></th>\n      <th>Population</th>\n      <th>GDP</th>\n      <th>Surface Area</th>\n      <th>HDI</th>\n      <th>Continent</th>\n    </tr>\n  </thead>\n  <tbody>\n    <tr>\n      <th>France</th>\n      <td>63.951</td>\n      <td>2833687</td>\n      <td>640679</td>\n      <td>0.888</td>\n      <td>Europe</td>\n    </tr>\n    <tr>\n      <th>Germany</th>\n      <td>80.940</td>\n      <td>3874437</td>\n      <td>357114</td>\n      <td>0.916</td>\n      <td>Europe</td>\n    </tr>\n    <tr>\n      <th>Japan</th>\n      <td>127.061</td>\n      <td>4602367</td>\n      <td>377930</td>\n      <td>0.891</td>\n      <td>Asia</td>\n    </tr>\n    <tr>\n      <th>United Kingdom</th>\n      <td>64.511</td>\n      <td>2950039</td>\n      <td>242495</td>\n      <td>0.907</td>\n      <td>Europe</td>\n    </tr>\n    <tr>\n      <th>United States</th>\n      <td>318.523</td>\n      <td>17348075</td>\n      <td>9525067</td>\n      <td>0.915</td>\n      <td>America</td>\n    </tr>\n  </tbody>\n</table>\n</div>"
     },
     "execution_count": 86,
     "metadata": {},
     "output_type": "execute_result"
    }
   ],
   "source": [
    "df.drop(['Italy', 'Canada'], axis=0)"
   ]
  },
  {
   "cell_type": "code",
   "execution_count": 88,
   "metadata": {
    "ExecuteTime": {
     "end_time": "2023-12-03T21:15:52.751864300Z",
     "start_time": "2023-12-03T21:15:52.718039900Z"
    }
   },
   "outputs": [
    {
     "data": {
      "text/plain": "                     GDP  Surface Area Continent\nCanada           1785387       9984670   America\nFrance           2833687        640679    Europe\nGermany          3874437        357114    Europe\nItaly            2167744        301336    Europe\nJapan            4602367        377930      Asia\nUnited Kingdom   2950039        242495    Europe\nUnited States   17348075       9525067   America",
      "text/html": "<div>\n<style scoped>\n    .dataframe tbody tr th:only-of-type {\n        vertical-align: middle;\n    }\n\n    .dataframe tbody tr th {\n        vertical-align: top;\n    }\n\n    .dataframe thead th {\n        text-align: right;\n    }\n</style>\n<table border=\"1\" class=\"dataframe\">\n  <thead>\n    <tr style=\"text-align: right;\">\n      <th></th>\n      <th>GDP</th>\n      <th>Surface Area</th>\n      <th>Continent</th>\n    </tr>\n  </thead>\n  <tbody>\n    <tr>\n      <th>Canada</th>\n      <td>1785387</td>\n      <td>9984670</td>\n      <td>America</td>\n    </tr>\n    <tr>\n      <th>France</th>\n      <td>2833687</td>\n      <td>640679</td>\n      <td>Europe</td>\n    </tr>\n    <tr>\n      <th>Germany</th>\n      <td>3874437</td>\n      <td>357114</td>\n      <td>Europe</td>\n    </tr>\n    <tr>\n      <th>Italy</th>\n      <td>2167744</td>\n      <td>301336</td>\n      <td>Europe</td>\n    </tr>\n    <tr>\n      <th>Japan</th>\n      <td>4602367</td>\n      <td>377930</td>\n      <td>Asia</td>\n    </tr>\n    <tr>\n      <th>United Kingdom</th>\n      <td>2950039</td>\n      <td>242495</td>\n      <td>Europe</td>\n    </tr>\n    <tr>\n      <th>United States</th>\n      <td>17348075</td>\n      <td>9525067</td>\n      <td>America</td>\n    </tr>\n  </tbody>\n</table>\n</div>"
     },
     "execution_count": 88,
     "metadata": {},
     "output_type": "execute_result"
    }
   ],
   "source": [
    "df.drop(['Population', 'HDI'], axis=1)"
   ]
  },
  {
   "cell_type": "code",
   "execution_count": 90,
   "metadata": {
    "scrolled": true,
    "ExecuteTime": {
     "end_time": "2023-12-03T21:16:01.107047600Z",
     "start_time": "2023-12-03T21:16:01.070211500Z"
    }
   },
   "outputs": [
    {
     "data": {
      "text/plain": "                     GDP  Surface Area Continent\nCanada           1785387       9984670   America\nFrance           2833687        640679    Europe\nGermany          3874437        357114    Europe\nItaly            2167744        301336    Europe\nJapan            4602367        377930      Asia\nUnited Kingdom   2950039        242495    Europe\nUnited States   17348075       9525067   America",
      "text/html": "<div>\n<style scoped>\n    .dataframe tbody tr th:only-of-type {\n        vertical-align: middle;\n    }\n\n    .dataframe tbody tr th {\n        vertical-align: top;\n    }\n\n    .dataframe thead th {\n        text-align: right;\n    }\n</style>\n<table border=\"1\" class=\"dataframe\">\n  <thead>\n    <tr style=\"text-align: right;\">\n      <th></th>\n      <th>GDP</th>\n      <th>Surface Area</th>\n      <th>Continent</th>\n    </tr>\n  </thead>\n  <tbody>\n    <tr>\n      <th>Canada</th>\n      <td>1785387</td>\n      <td>9984670</td>\n      <td>America</td>\n    </tr>\n    <tr>\n      <th>France</th>\n      <td>2833687</td>\n      <td>640679</td>\n      <td>Europe</td>\n    </tr>\n    <tr>\n      <th>Germany</th>\n      <td>3874437</td>\n      <td>357114</td>\n      <td>Europe</td>\n    </tr>\n    <tr>\n      <th>Italy</th>\n      <td>2167744</td>\n      <td>301336</td>\n      <td>Europe</td>\n    </tr>\n    <tr>\n      <th>Japan</th>\n      <td>4602367</td>\n      <td>377930</td>\n      <td>Asia</td>\n    </tr>\n    <tr>\n      <th>United Kingdom</th>\n      <td>2950039</td>\n      <td>242495</td>\n      <td>Europe</td>\n    </tr>\n    <tr>\n      <th>United States</th>\n      <td>17348075</td>\n      <td>9525067</td>\n      <td>America</td>\n    </tr>\n  </tbody>\n</table>\n</div>"
     },
     "execution_count": 90,
     "metadata": {},
     "output_type": "execute_result"
    }
   ],
   "source": [
    "df.drop(['Population', 'HDI'], axis=1)"
   ]
  },
  {
   "cell_type": "code",
   "execution_count": 92,
   "metadata": {
    "ExecuteTime": {
     "end_time": "2023-12-03T21:16:28.930417200Z",
     "start_time": "2023-12-03T21:16:28.882299500Z"
    }
   },
   "outputs": [
    {
     "data": {
      "text/plain": "                     GDP  Surface Area Continent\nCanada           1785387       9984670   America\nFrance           2833687        640679    Europe\nGermany          3874437        357114    Europe\nItaly            2167744        301336    Europe\nJapan            4602367        377930      Asia\nUnited Kingdom   2950039        242495    Europe\nUnited States   17348075       9525067   America",
      "text/html": "<div>\n<style scoped>\n    .dataframe tbody tr th:only-of-type {\n        vertical-align: middle;\n    }\n\n    .dataframe tbody tr th {\n        vertical-align: top;\n    }\n\n    .dataframe thead th {\n        text-align: right;\n    }\n</style>\n<table border=\"1\" class=\"dataframe\">\n  <thead>\n    <tr style=\"text-align: right;\">\n      <th></th>\n      <th>GDP</th>\n      <th>Surface Area</th>\n      <th>Continent</th>\n    </tr>\n  </thead>\n  <tbody>\n    <tr>\n      <th>Canada</th>\n      <td>1785387</td>\n      <td>9984670</td>\n      <td>America</td>\n    </tr>\n    <tr>\n      <th>France</th>\n      <td>2833687</td>\n      <td>640679</td>\n      <td>Europe</td>\n    </tr>\n    <tr>\n      <th>Germany</th>\n      <td>3874437</td>\n      <td>357114</td>\n      <td>Europe</td>\n    </tr>\n    <tr>\n      <th>Italy</th>\n      <td>2167744</td>\n      <td>301336</td>\n      <td>Europe</td>\n    </tr>\n    <tr>\n      <th>Japan</th>\n      <td>4602367</td>\n      <td>377930</td>\n      <td>Asia</td>\n    </tr>\n    <tr>\n      <th>United Kingdom</th>\n      <td>2950039</td>\n      <td>242495</td>\n      <td>Europe</td>\n    </tr>\n    <tr>\n      <th>United States</th>\n      <td>17348075</td>\n      <td>9525067</td>\n      <td>America</td>\n    </tr>\n  </tbody>\n</table>\n</div>"
     },
     "execution_count": 92,
     "metadata": {},
     "output_type": "execute_result"
    }
   ],
   "source": [
    "df.drop(['Population', 'HDI'], axis='columns')"
   ]
  },
  {
   "cell_type": "code",
   "execution_count": 41,
   "metadata": {},
   "outputs": [
    {
     "data": {
      "text/html": [
       "<div>\n",
       "<style scoped>\n",
       "    .dataframe tbody tr th:only-of-type {\n",
       "        vertical-align: middle;\n",
       "    }\n",
       "\n",
       "    .dataframe tbody tr th {\n",
       "        vertical-align: top;\n",
       "    }\n",
       "\n",
       "    .dataframe thead th {\n",
       "        text-align: right;\n",
       "    }\n",
       "</style>\n",
       "<table border=\"1\" class=\"dataframe\">\n",
       "  <thead>\n",
       "    <tr style=\"text-align: right;\">\n",
       "      <th></th>\n",
       "      <th>Population</th>\n",
       "      <th>GDP</th>\n",
       "      <th>Surface Area</th>\n",
       "      <th>HDI</th>\n",
       "      <th>Continent</th>\n",
       "    </tr>\n",
       "  </thead>\n",
       "  <tbody>\n",
       "    <tr>\n",
       "      <th>France</th>\n",
       "      <td>63.951</td>\n",
       "      <td>2833687</td>\n",
       "      <td>640679</td>\n",
       "      <td>0.888</td>\n",
       "      <td>Europe</td>\n",
       "    </tr>\n",
       "    <tr>\n",
       "      <th>Italy</th>\n",
       "      <td>60.665</td>\n",
       "      <td>2167744</td>\n",
       "      <td>301336</td>\n",
       "      <td>0.873</td>\n",
       "      <td>Europe</td>\n",
       "    </tr>\n",
       "    <tr>\n",
       "      <th>Japan</th>\n",
       "      <td>127.061</td>\n",
       "      <td>4602367</td>\n",
       "      <td>377930</td>\n",
       "      <td>0.891</td>\n",
       "      <td>Asia</td>\n",
       "    </tr>\n",
       "    <tr>\n",
       "      <th>United Kingdom</th>\n",
       "      <td>64.511</td>\n",
       "      <td>2950039</td>\n",
       "      <td>242495</td>\n",
       "      <td>0.907</td>\n",
       "      <td>Europe</td>\n",
       "    </tr>\n",
       "    <tr>\n",
       "      <th>United States</th>\n",
       "      <td>318.523</td>\n",
       "      <td>17348075</td>\n",
       "      <td>9525067</td>\n",
       "      <td>0.915</td>\n",
       "      <td>America</td>\n",
       "    </tr>\n",
       "  </tbody>\n",
       "</table>\n",
       "</div>"
      ],
      "text/plain": [
       "                Population       GDP  Surface Area    HDI Continent\n",
       "France              63.951   2833687        640679  0.888    Europe\n",
       "Italy               60.665   2167744        301336  0.873    Europe\n",
       "Japan              127.061   4602367        377930  0.891      Asia\n",
       "United Kingdom      64.511   2950039        242495  0.907    Europe\n",
       "United States      318.523  17348075       9525067  0.915   America"
      ]
     },
     "execution_count": 41,
     "metadata": {},
     "output_type": "execute_result"
    }
   ],
   "source": [
    "df.drop(['Canada', 'Germany'], axis='rows')"
   ]
  },
  {
   "cell_type": "markdown",
   "metadata": {},
   "source": [
    "All these `drop` methods return a new `DataFrame`. If you'd like to modify it \"in place\", you can use the `inplace` attribute (there's an example below)."
   ]
  },
  {
   "cell_type": "markdown",
   "metadata": {},
   "source": [
    "![green-divider](https://user-images.githubusercontent.com/7065401/52071924-c003ad80-2562-11e9-8297-1c6595f8a7ff.png)\n",
    "\n",
    "## Operations"
   ]
  },
  {
   "cell_type": "code",
   "execution_count": 93,
   "metadata": {
    "ExecuteTime": {
     "end_time": "2023-12-03T21:17:14.876280600Z",
     "start_time": "2023-12-03T21:17:14.850370300Z"
    }
   },
   "outputs": [
    {
     "data": {
      "text/plain": "                Population       GDP\nCanada              35.467   1785387\nFrance              63.951   2833687\nGermany             80.940   3874437\nItaly               60.665   2167744\nJapan              127.061   4602367\nUnited Kingdom      64.511   2950039\nUnited States      318.523  17348075",
      "text/html": "<div>\n<style scoped>\n    .dataframe tbody tr th:only-of-type {\n        vertical-align: middle;\n    }\n\n    .dataframe tbody tr th {\n        vertical-align: top;\n    }\n\n    .dataframe thead th {\n        text-align: right;\n    }\n</style>\n<table border=\"1\" class=\"dataframe\">\n  <thead>\n    <tr style=\"text-align: right;\">\n      <th></th>\n      <th>Population</th>\n      <th>GDP</th>\n    </tr>\n  </thead>\n  <tbody>\n    <tr>\n      <th>Canada</th>\n      <td>35.467</td>\n      <td>1785387</td>\n    </tr>\n    <tr>\n      <th>France</th>\n      <td>63.951</td>\n      <td>2833687</td>\n    </tr>\n    <tr>\n      <th>Germany</th>\n      <td>80.940</td>\n      <td>3874437</td>\n    </tr>\n    <tr>\n      <th>Italy</th>\n      <td>60.665</td>\n      <td>2167744</td>\n    </tr>\n    <tr>\n      <th>Japan</th>\n      <td>127.061</td>\n      <td>4602367</td>\n    </tr>\n    <tr>\n      <th>United Kingdom</th>\n      <td>64.511</td>\n      <td>2950039</td>\n    </tr>\n    <tr>\n      <th>United States</th>\n      <td>318.523</td>\n      <td>17348075</td>\n    </tr>\n  </tbody>\n</table>\n</div>"
     },
     "execution_count": 93,
     "metadata": {},
     "output_type": "execute_result"
    }
   ],
   "source": [
    "df[['Population', 'GDP']]"
   ]
  },
  {
   "cell_type": "code",
   "execution_count": 43,
   "metadata": {},
   "outputs": [
    {
     "data": {
      "text/html": [
       "<div>\n",
       "<style scoped>\n",
       "    .dataframe tbody tr th:only-of-type {\n",
       "        vertical-align: middle;\n",
       "    }\n",
       "\n",
       "    .dataframe tbody tr th {\n",
       "        vertical-align: top;\n",
       "    }\n",
       "\n",
       "    .dataframe thead th {\n",
       "        text-align: right;\n",
       "    }\n",
       "</style>\n",
       "<table border=\"1\" class=\"dataframe\">\n",
       "  <thead>\n",
       "    <tr style=\"text-align: right;\">\n",
       "      <th></th>\n",
       "      <th>Population</th>\n",
       "      <th>GDP</th>\n",
       "    </tr>\n",
       "  </thead>\n",
       "  <tbody>\n",
       "    <tr>\n",
       "      <th>Canada</th>\n",
       "      <td>0.35467</td>\n",
       "      <td>17853.87</td>\n",
       "    </tr>\n",
       "    <tr>\n",
       "      <th>France</th>\n",
       "      <td>0.63951</td>\n",
       "      <td>28336.87</td>\n",
       "    </tr>\n",
       "    <tr>\n",
       "      <th>Germany</th>\n",
       "      <td>0.80940</td>\n",
       "      <td>38744.37</td>\n",
       "    </tr>\n",
       "    <tr>\n",
       "      <th>Italy</th>\n",
       "      <td>0.60665</td>\n",
       "      <td>21677.44</td>\n",
       "    </tr>\n",
       "    <tr>\n",
       "      <th>Japan</th>\n",
       "      <td>1.27061</td>\n",
       "      <td>46023.67</td>\n",
       "    </tr>\n",
       "    <tr>\n",
       "      <th>United Kingdom</th>\n",
       "      <td>0.64511</td>\n",
       "      <td>29500.39</td>\n",
       "    </tr>\n",
       "    <tr>\n",
       "      <th>United States</th>\n",
       "      <td>3.18523</td>\n",
       "      <td>173480.75</td>\n",
       "    </tr>\n",
       "  </tbody>\n",
       "</table>\n",
       "</div>"
      ],
      "text/plain": [
       "                Population        GDP\n",
       "Canada             0.35467   17853.87\n",
       "France             0.63951   28336.87\n",
       "Germany            0.80940   38744.37\n",
       "Italy              0.60665   21677.44\n",
       "Japan              1.27061   46023.67\n",
       "United Kingdom     0.64511   29500.39\n",
       "United States      3.18523  173480.75"
      ]
     },
     "execution_count": 43,
     "metadata": {},
     "output_type": "execute_result"
    }
   ],
   "source": [
    "df[['Population', 'GDP']] / 100"
   ]
  },
  {
   "cell_type": "markdown",
   "metadata": {},
   "source": [
    "**Operations with Series** work at a column level, broadcasting down the rows (which can be counter intuitive)."
   ]
  },
  {
   "cell_type": "code",
   "execution_count": 94,
   "metadata": {
    "ExecuteTime": {
     "end_time": "2023-12-03T21:18:26.709438500Z",
     "start_time": "2023-12-03T21:18:26.684506900Z"
    }
   },
   "outputs": [
    {
     "data": {
      "text/plain": "GDP   -1000000.0\nHDI         -0.3\ndtype: float64"
     },
     "execution_count": 94,
     "metadata": {},
     "output_type": "execute_result"
    }
   ],
   "source": [
    "crisis = pd.Series([-1_000_000, -0.3], index=['GDP', 'HDI'])\n",
    "crisis"
   ]
  },
  {
   "cell_type": "code",
   "execution_count": 96,
   "metadata": {
    "ExecuteTime": {
     "end_time": "2023-12-03T21:18:53.889381700Z",
     "start_time": "2023-12-03T21:18:53.863382Z"
    }
   },
   "outputs": [
    {
     "data": {
      "text/plain": "                     GDP    HDI\nCanada           1785387  0.913\nFrance           2833687  0.888\nGermany          3874437  0.916\nItaly            2167744  0.873\nJapan            4602367  0.891\nUnited Kingdom   2950039  0.907\nUnited States   17348075  0.915",
      "text/html": "<div>\n<style scoped>\n    .dataframe tbody tr th:only-of-type {\n        vertical-align: middle;\n    }\n\n    .dataframe tbody tr th {\n        vertical-align: top;\n    }\n\n    .dataframe thead th {\n        text-align: right;\n    }\n</style>\n<table border=\"1\" class=\"dataframe\">\n  <thead>\n    <tr style=\"text-align: right;\">\n      <th></th>\n      <th>GDP</th>\n      <th>HDI</th>\n    </tr>\n  </thead>\n  <tbody>\n    <tr>\n      <th>Canada</th>\n      <td>1785387</td>\n      <td>0.913</td>\n    </tr>\n    <tr>\n      <th>France</th>\n      <td>2833687</td>\n      <td>0.888</td>\n    </tr>\n    <tr>\n      <th>Germany</th>\n      <td>3874437</td>\n      <td>0.916</td>\n    </tr>\n    <tr>\n      <th>Italy</th>\n      <td>2167744</td>\n      <td>0.873</td>\n    </tr>\n    <tr>\n      <th>Japan</th>\n      <td>4602367</td>\n      <td>0.891</td>\n    </tr>\n    <tr>\n      <th>United Kingdom</th>\n      <td>2950039</td>\n      <td>0.907</td>\n    </tr>\n    <tr>\n      <th>United States</th>\n      <td>17348075</td>\n      <td>0.915</td>\n    </tr>\n  </tbody>\n</table>\n</div>"
     },
     "execution_count": 96,
     "metadata": {},
     "output_type": "execute_result"
    }
   ],
   "source": [
    "df[['GDP', 'HDI']]"
   ]
  },
  {
   "cell_type": "code",
   "execution_count": 99,
   "metadata": {
    "ExecuteTime": {
     "end_time": "2023-12-03T21:19:59.805899600Z",
     "start_time": "2023-12-03T21:19:59.765268600Z"
    }
   },
   "outputs": [
    {
     "data": {
      "text/plain": "                      GDP      HDI\nCanada           17853.87  0.00913\nFrance           28336.87  0.00888\nGermany          38744.37  0.00916\nItaly            21677.44  0.00873\nJapan            46023.67  0.00891\nUnited Kingdom   29500.39  0.00907\nUnited States   173480.75  0.00915",
      "text/html": "<div>\n<style scoped>\n    .dataframe tbody tr th:only-of-type {\n        vertical-align: middle;\n    }\n\n    .dataframe tbody tr th {\n        vertical-align: top;\n    }\n\n    .dataframe thead th {\n        text-align: right;\n    }\n</style>\n<table border=\"1\" class=\"dataframe\">\n  <thead>\n    <tr style=\"text-align: right;\">\n      <th></th>\n      <th>GDP</th>\n      <th>HDI</th>\n    </tr>\n  </thead>\n  <tbody>\n    <tr>\n      <th>Canada</th>\n      <td>17853.87</td>\n      <td>0.00913</td>\n    </tr>\n    <tr>\n      <th>France</th>\n      <td>28336.87</td>\n      <td>0.00888</td>\n    </tr>\n    <tr>\n      <th>Germany</th>\n      <td>38744.37</td>\n      <td>0.00916</td>\n    </tr>\n    <tr>\n      <th>Italy</th>\n      <td>21677.44</td>\n      <td>0.00873</td>\n    </tr>\n    <tr>\n      <th>Japan</th>\n      <td>46023.67</td>\n      <td>0.00891</td>\n    </tr>\n    <tr>\n      <th>United Kingdom</th>\n      <td>29500.39</td>\n      <td>0.00907</td>\n    </tr>\n    <tr>\n      <th>United States</th>\n      <td>173480.75</td>\n      <td>0.00915</td>\n    </tr>\n  </tbody>\n</table>\n</div>"
     },
     "execution_count": 99,
     "metadata": {},
     "output_type": "execute_result"
    }
   ],
   "source": [
    "df[['GDP', 'HDI']] / np.array([100, 100])      "
   ]
  },
  {
   "cell_type": "markdown",
   "metadata": {},
   "source": [
    "![green-divider](https://user-images.githubusercontent.com/7065401/52071924-c003ad80-2562-11e9-8297-1c6595f8a7ff.png)\n",
    "\n",
    "## Modifying DataFrames\n",
    "\n",
    "It's simple and intuitive, You can add columns, or replace values for columns without issues:"
   ]
  },
  {
   "cell_type": "markdown",
   "metadata": {},
   "source": [
    "### Adding a new column"
   ]
  },
  {
   "cell_type": "code",
   "execution_count": 101,
   "metadata": {
    "ExecuteTime": {
     "end_time": "2023-12-03T21:27:39.121948800Z",
     "start_time": "2023-12-03T21:27:39.087363200Z"
    }
   },
   "outputs": [],
   "source": [
    "langs = pd.Series(\n",
    "    ['French', 'German', 'Italian'],\n",
    "    index=['France', 'Germany', 'Italy'],\n",
    "    name='Language'\n",
    ")"
   ]
  },
  {
   "cell_type": "code",
   "execution_count": 102,
   "metadata": {
    "ExecuteTime": {
     "end_time": "2023-12-03T21:27:40.881259800Z",
     "start_time": "2023-12-03T21:27:40.854616900Z"
    }
   },
   "outputs": [
    {
     "data": {
      "text/plain": "France      French\nGermany     German\nItaly      Italian\nName: Language, dtype: object"
     },
     "execution_count": 102,
     "metadata": {},
     "output_type": "execute_result"
    }
   ],
   "source": [
    "langs"
   ]
  },
  {
   "cell_type": "code",
   "execution_count": 118,
   "metadata": {
    "ExecuteTime": {
     "end_time": "2023-12-03T21:31:24.021976800Z",
     "start_time": "2023-12-03T21:31:23.996817200Z"
    }
   },
   "outputs": [],
   "source": [
    "df['Language'] = langs"
   ]
  },
  {
   "cell_type": "code",
   "execution_count": 119,
   "metadata": {
    "ExecuteTime": {
     "end_time": "2023-12-03T21:31:25.002122700Z",
     "start_time": "2023-12-03T21:31:24.971304700Z"
    }
   },
   "outputs": [
    {
     "data": {
      "text/plain": "                Population       GDP  Surface Area    HDI Continent Language\nCanada              35.467   1785387       9984670  0.913   America      NaN\nFrance              63.951   2833687        640679  0.888    Europe   French\nGermany             80.940   3874437        357114  0.916    Europe   German\nItaly               60.665   2167744        301336  0.873    Europe  Italian\nJapan              127.061   4602367        377930  0.891      Asia      NaN\nUnited Kingdom      64.511   2950039        242495  0.907    Europe      NaN\nUnited States      318.523  17348075       9525067  0.915   America      NaN",
      "text/html": "<div>\n<style scoped>\n    .dataframe tbody tr th:only-of-type {\n        vertical-align: middle;\n    }\n\n    .dataframe tbody tr th {\n        vertical-align: top;\n    }\n\n    .dataframe thead th {\n        text-align: right;\n    }\n</style>\n<table border=\"1\" class=\"dataframe\">\n  <thead>\n    <tr style=\"text-align: right;\">\n      <th></th>\n      <th>Population</th>\n      <th>GDP</th>\n      <th>Surface Area</th>\n      <th>HDI</th>\n      <th>Continent</th>\n      <th>Language</th>\n    </tr>\n  </thead>\n  <tbody>\n    <tr>\n      <th>Canada</th>\n      <td>35.467</td>\n      <td>1785387</td>\n      <td>9984670</td>\n      <td>0.913</td>\n      <td>America</td>\n      <td>NaN</td>\n    </tr>\n    <tr>\n      <th>France</th>\n      <td>63.951</td>\n      <td>2833687</td>\n      <td>640679</td>\n      <td>0.888</td>\n      <td>Europe</td>\n      <td>French</td>\n    </tr>\n    <tr>\n      <th>Germany</th>\n      <td>80.940</td>\n      <td>3874437</td>\n      <td>357114</td>\n      <td>0.916</td>\n      <td>Europe</td>\n      <td>German</td>\n    </tr>\n    <tr>\n      <th>Italy</th>\n      <td>60.665</td>\n      <td>2167744</td>\n      <td>301336</td>\n      <td>0.873</td>\n      <td>Europe</td>\n      <td>Italian</td>\n    </tr>\n    <tr>\n      <th>Japan</th>\n      <td>127.061</td>\n      <td>4602367</td>\n      <td>377930</td>\n      <td>0.891</td>\n      <td>Asia</td>\n      <td>NaN</td>\n    </tr>\n    <tr>\n      <th>United Kingdom</th>\n      <td>64.511</td>\n      <td>2950039</td>\n      <td>242495</td>\n      <td>0.907</td>\n      <td>Europe</td>\n      <td>NaN</td>\n    </tr>\n    <tr>\n      <th>United States</th>\n      <td>318.523</td>\n      <td>17348075</td>\n      <td>9525067</td>\n      <td>0.915</td>\n      <td>America</td>\n      <td>NaN</td>\n    </tr>\n  </tbody>\n</table>\n</div>"
     },
     "execution_count": 119,
     "metadata": {},
     "output_type": "execute_result"
    }
   ],
   "source": [
    "df"
   ]
  },
  {
   "cell_type": "markdown",
   "metadata": {},
   "source": [
    "---\n",
    "### Replacing values per column"
   ]
  },
  {
   "cell_type": "code",
   "execution_count": 120,
   "metadata": {
    "ExecuteTime": {
     "end_time": "2023-12-03T21:31:35.891798Z",
     "start_time": "2023-12-03T21:31:35.864744100Z"
    }
   },
   "outputs": [],
   "source": [
    "df['Language'] = 'English'"
   ]
  },
  {
   "cell_type": "code",
   "execution_count": 121,
   "metadata": {
    "ExecuteTime": {
     "end_time": "2023-12-03T21:31:36.823872600Z",
     "start_time": "2023-12-03T21:31:36.795991900Z"
    }
   },
   "outputs": [
    {
     "data": {
      "text/plain": "                Population       GDP  Surface Area    HDI Continent Language\nCanada              35.467   1785387       9984670  0.913   America  English\nFrance              63.951   2833687        640679  0.888    Europe  English\nGermany             80.940   3874437        357114  0.916    Europe  English\nItaly               60.665   2167744        301336  0.873    Europe  English\nJapan              127.061   4602367        377930  0.891      Asia  English\nUnited Kingdom      64.511   2950039        242495  0.907    Europe  English\nUnited States      318.523  17348075       9525067  0.915   America  English",
      "text/html": "<div>\n<style scoped>\n    .dataframe tbody tr th:only-of-type {\n        vertical-align: middle;\n    }\n\n    .dataframe tbody tr th {\n        vertical-align: top;\n    }\n\n    .dataframe thead th {\n        text-align: right;\n    }\n</style>\n<table border=\"1\" class=\"dataframe\">\n  <thead>\n    <tr style=\"text-align: right;\">\n      <th></th>\n      <th>Population</th>\n      <th>GDP</th>\n      <th>Surface Area</th>\n      <th>HDI</th>\n      <th>Continent</th>\n      <th>Language</th>\n    </tr>\n  </thead>\n  <tbody>\n    <tr>\n      <th>Canada</th>\n      <td>35.467</td>\n      <td>1785387</td>\n      <td>9984670</td>\n      <td>0.913</td>\n      <td>America</td>\n      <td>English</td>\n    </tr>\n    <tr>\n      <th>France</th>\n      <td>63.951</td>\n      <td>2833687</td>\n      <td>640679</td>\n      <td>0.888</td>\n      <td>Europe</td>\n      <td>English</td>\n    </tr>\n    <tr>\n      <th>Germany</th>\n      <td>80.940</td>\n      <td>3874437</td>\n      <td>357114</td>\n      <td>0.916</td>\n      <td>Europe</td>\n      <td>English</td>\n    </tr>\n    <tr>\n      <th>Italy</th>\n      <td>60.665</td>\n      <td>2167744</td>\n      <td>301336</td>\n      <td>0.873</td>\n      <td>Europe</td>\n      <td>English</td>\n    </tr>\n    <tr>\n      <th>Japan</th>\n      <td>127.061</td>\n      <td>4602367</td>\n      <td>377930</td>\n      <td>0.891</td>\n      <td>Asia</td>\n      <td>English</td>\n    </tr>\n    <tr>\n      <th>United Kingdom</th>\n      <td>64.511</td>\n      <td>2950039</td>\n      <td>242495</td>\n      <td>0.907</td>\n      <td>Europe</td>\n      <td>English</td>\n    </tr>\n    <tr>\n      <th>United States</th>\n      <td>318.523</td>\n      <td>17348075</td>\n      <td>9525067</td>\n      <td>0.915</td>\n      <td>America</td>\n      <td>English</td>\n    </tr>\n  </tbody>\n</table>\n</div>"
     },
     "execution_count": 121,
     "metadata": {},
     "output_type": "execute_result"
    }
   ],
   "source": [
    "df"
   ]
  },
  {
   "cell_type": "markdown",
   "metadata": {},
   "source": [
    "---\n",
    "### Renaming Columns\n"
   ]
  },
  {
   "cell_type": "code",
   "execution_count": 55,
   "metadata": {},
   "outputs": [
    {
     "data": {
      "text/html": [
       "<div>\n",
       "<style scoped>\n",
       "    .dataframe tbody tr th:only-of-type {\n",
       "        vertical-align: middle;\n",
       "    }\n",
       "\n",
       "    .dataframe tbody tr th {\n",
       "        vertical-align: top;\n",
       "    }\n",
       "\n",
       "    .dataframe thead th {\n",
       "        text-align: right;\n",
       "    }\n",
       "</style>\n",
       "<table border=\"1\" class=\"dataframe\">\n",
       "  <thead>\n",
       "    <tr style=\"text-align: right;\">\n",
       "      <th></th>\n",
       "      <th>Population</th>\n",
       "      <th>GDP</th>\n",
       "      <th>Surface Area</th>\n",
       "      <th>Human Development Index</th>\n",
       "      <th>Continent</th>\n",
       "      <th>Language</th>\n",
       "    </tr>\n",
       "  </thead>\n",
       "  <tbody>\n",
       "    <tr>\n",
       "      <th>Canada</th>\n",
       "      <td>35.467</td>\n",
       "      <td>1785387</td>\n",
       "      <td>9984670</td>\n",
       "      <td>0.913</td>\n",
       "      <td>America</td>\n",
       "      <td>English</td>\n",
       "    </tr>\n",
       "    <tr>\n",
       "      <th>France</th>\n",
       "      <td>63.951</td>\n",
       "      <td>2833687</td>\n",
       "      <td>640679</td>\n",
       "      <td>0.888</td>\n",
       "      <td>Europe</td>\n",
       "      <td>English</td>\n",
       "    </tr>\n",
       "    <tr>\n",
       "      <th>Germany</th>\n",
       "      <td>80.940</td>\n",
       "      <td>3874437</td>\n",
       "      <td>357114</td>\n",
       "      <td>0.916</td>\n",
       "      <td>Europe</td>\n",
       "      <td>English</td>\n",
       "    </tr>\n",
       "    <tr>\n",
       "      <th>Italy</th>\n",
       "      <td>60.665</td>\n",
       "      <td>2167744</td>\n",
       "      <td>301336</td>\n",
       "      <td>0.873</td>\n",
       "      <td>Europe</td>\n",
       "      <td>English</td>\n",
       "    </tr>\n",
       "    <tr>\n",
       "      <th>Japan</th>\n",
       "      <td>127.061</td>\n",
       "      <td>4602367</td>\n",
       "      <td>377930</td>\n",
       "      <td>0.891</td>\n",
       "      <td>Asia</td>\n",
       "      <td>English</td>\n",
       "    </tr>\n",
       "    <tr>\n",
       "      <th>UK</th>\n",
       "      <td>64.511</td>\n",
       "      <td>2950039</td>\n",
       "      <td>242495</td>\n",
       "      <td>0.907</td>\n",
       "      <td>Europe</td>\n",
       "      <td>English</td>\n",
       "    </tr>\n",
       "    <tr>\n",
       "      <th>USA</th>\n",
       "      <td>318.523</td>\n",
       "      <td>17348075</td>\n",
       "      <td>9525067</td>\n",
       "      <td>0.915</td>\n",
       "      <td>America</td>\n",
       "      <td>English</td>\n",
       "    </tr>\n",
       "  </tbody>\n",
       "</table>\n",
       "</div>"
      ],
      "text/plain": [
       "         Population       GDP  Surface Area  Human Development Index  \\\n",
       "Canada       35.467   1785387       9984670                    0.913   \n",
       "France       63.951   2833687        640679                    0.888   \n",
       "Germany      80.940   3874437        357114                    0.916   \n",
       "Italy        60.665   2167744        301336                    0.873   \n",
       "Japan       127.061   4602367        377930                    0.891   \n",
       "UK           64.511   2950039        242495                    0.907   \n",
       "USA         318.523  17348075       9525067                    0.915   \n",
       "\n",
       "        Continent Language  \n",
       "Canada    America  English  \n",
       "France     Europe  English  \n",
       "Germany    Europe  English  \n",
       "Italy      Europe  English  \n",
       "Japan        Asia  English  \n",
       "UK         Europe  English  \n",
       "USA       America  English  "
      ]
     },
     "execution_count": 55,
     "metadata": {},
     "output_type": "execute_result"
    }
   ],
   "source": [
    "df.rename(\n",
    "    columns={\n",
    "        'HDI': 'Human Development Index',\n",
    "        'Anual Popcorn Consumption': 'APC'\n",
    "    }, index={\n",
    "        'United States': 'USA',\n",
    "        'United Kingdom': 'UK',\n",
    "        'Argentina': 'AR'\n",
    "    })"
   ]
  },
  {
   "cell_type": "code",
   "execution_count": 122,
   "metadata": {
    "scrolled": true,
    "ExecuteTime": {
     "end_time": "2023-12-03T21:31:49.254252100Z",
     "start_time": "2023-12-03T21:31:49.229331600Z"
    }
   },
   "outputs": [
    {
     "data": {
      "text/plain": "                Population       GDP  Surface Area    HDI Continent Language\nCANADA              35.467   1785387       9984670  0.913   America  English\nFRANCE              63.951   2833687        640679  0.888    Europe  English\nGERMANY             80.940   3874437        357114  0.916    Europe  English\nITALY               60.665   2167744        301336  0.873    Europe  English\nJAPAN              127.061   4602367        377930  0.891      Asia  English\nUNITED KINGDOM      64.511   2950039        242495  0.907    Europe  English\nUNITED STATES      318.523  17348075       9525067  0.915   America  English",
      "text/html": "<div>\n<style scoped>\n    .dataframe tbody tr th:only-of-type {\n        vertical-align: middle;\n    }\n\n    .dataframe tbody tr th {\n        vertical-align: top;\n    }\n\n    .dataframe thead th {\n        text-align: right;\n    }\n</style>\n<table border=\"1\" class=\"dataframe\">\n  <thead>\n    <tr style=\"text-align: right;\">\n      <th></th>\n      <th>Population</th>\n      <th>GDP</th>\n      <th>Surface Area</th>\n      <th>HDI</th>\n      <th>Continent</th>\n      <th>Language</th>\n    </tr>\n  </thead>\n  <tbody>\n    <tr>\n      <th>CANADA</th>\n      <td>35.467</td>\n      <td>1785387</td>\n      <td>9984670</td>\n      <td>0.913</td>\n      <td>America</td>\n      <td>English</td>\n    </tr>\n    <tr>\n      <th>FRANCE</th>\n      <td>63.951</td>\n      <td>2833687</td>\n      <td>640679</td>\n      <td>0.888</td>\n      <td>Europe</td>\n      <td>English</td>\n    </tr>\n    <tr>\n      <th>GERMANY</th>\n      <td>80.940</td>\n      <td>3874437</td>\n      <td>357114</td>\n      <td>0.916</td>\n      <td>Europe</td>\n      <td>English</td>\n    </tr>\n    <tr>\n      <th>ITALY</th>\n      <td>60.665</td>\n      <td>2167744</td>\n      <td>301336</td>\n      <td>0.873</td>\n      <td>Europe</td>\n      <td>English</td>\n    </tr>\n    <tr>\n      <th>JAPAN</th>\n      <td>127.061</td>\n      <td>4602367</td>\n      <td>377930</td>\n      <td>0.891</td>\n      <td>Asia</td>\n      <td>English</td>\n    </tr>\n    <tr>\n      <th>UNITED KINGDOM</th>\n      <td>64.511</td>\n      <td>2950039</td>\n      <td>242495</td>\n      <td>0.907</td>\n      <td>Europe</td>\n      <td>English</td>\n    </tr>\n    <tr>\n      <th>UNITED STATES</th>\n      <td>318.523</td>\n      <td>17348075</td>\n      <td>9525067</td>\n      <td>0.915</td>\n      <td>America</td>\n      <td>English</td>\n    </tr>\n  </tbody>\n</table>\n</div>"
     },
     "execution_count": 122,
     "metadata": {},
     "output_type": "execute_result"
    }
   ],
   "source": [
    "df.rename(index=str.upper)"
   ]
  },
  {
   "cell_type": "code",
   "execution_count": 138,
   "metadata": {
    "scrolled": true,
    "ExecuteTime": {
     "end_time": "2023-12-03T21:35:35.675530100Z",
     "start_time": "2023-12-03T21:35:35.626220700Z"
    }
   },
   "outputs": [
    {
     "ename": "SyntaxError",
     "evalue": "invalid syntax (1475308976.py, line 2)",
     "output_type": "error",
     "traceback": [
      "\u001B[1;36m  Cell \u001B[1;32mIn[138], line 2\u001B[1;36m\u001B[0m\n\u001B[1;33m    print(df.rename(index= x: not x))\u001B[0m\n\u001B[1;37m                            ^\u001B[0m\n\u001B[1;31mSyntaxError\u001B[0m\u001B[1;31m:\u001B[0m invalid syntax\n"
     ]
    }
   ],
   "source": [
    "df.rename(index=lambda x: x.lower())\n",
    "print(df.rename(index=lambda x: not x))"
   ]
  },
  {
   "cell_type": "markdown",
   "metadata": {},
   "source": [
    "---\n",
    "### Dropping columns"
   ]
  },
  {
   "cell_type": "markdown",
   "metadata": {},
   "source": [
    "---\n",
    "### Adding values"
   ]
  },
  {
   "cell_type": "code",
   "execution_count": 139,
   "metadata": {
    "ExecuteTime": {
     "end_time": "2023-12-03T21:36:15.614089400Z",
     "start_time": "2023-12-03T21:36:15.591659300Z"
    }
   },
   "outputs": [
    {
     "ename": "AttributeError",
     "evalue": "'DataFrame' object has no attribute 'append'",
     "output_type": "error",
     "traceback": [
      "\u001B[1;31m---------------------------------------------------------------------------\u001B[0m",
      "\u001B[1;31mAttributeError\u001B[0m                            Traceback (most recent call last)",
      "\u001B[1;32m~\\AppData\\Local\\Temp\\ipykernel_28128\\3683103025.py\u001B[0m in \u001B[0;36m?\u001B[1;34m()\u001B[0m\n\u001B[1;32m----> 1\u001B[1;33m df.append(pd.Series({\n\u001B[0m\u001B[0;32m      2\u001B[0m     \u001B[1;34m'Population'\u001B[0m\u001B[1;33m:\u001B[0m \u001B[1;36m3\u001B[0m\u001B[1;33m,\u001B[0m\u001B[1;33m\u001B[0m\u001B[1;33m\u001B[0m\u001B[0m\n\u001B[0;32m      3\u001B[0m     \u001B[1;34m'GDP'\u001B[0m\u001B[1;33m:\u001B[0m \u001B[1;36m5\u001B[0m\u001B[1;33m\u001B[0m\u001B[1;33m\u001B[0m\u001B[0m\n\u001B[0;32m      4\u001B[0m }, name='China'))\n",
      "\u001B[1;32mC:\\ProgramData\\anaconda3\\Lib\\site-packages\\pandas\\core\\generic.py\u001B[0m in \u001B[0;36m?\u001B[1;34m(self, name)\u001B[0m\n\u001B[0;32m   5985\u001B[0m             \u001B[1;32mand\u001B[0m \u001B[0mname\u001B[0m \u001B[1;32mnot\u001B[0m \u001B[1;32min\u001B[0m \u001B[0mself\u001B[0m\u001B[1;33m.\u001B[0m\u001B[0m_accessors\u001B[0m\u001B[1;33m\u001B[0m\u001B[1;33m\u001B[0m\u001B[0m\n\u001B[0;32m   5986\u001B[0m             \u001B[1;32mand\u001B[0m \u001B[0mself\u001B[0m\u001B[1;33m.\u001B[0m\u001B[0m_info_axis\u001B[0m\u001B[1;33m.\u001B[0m\u001B[0m_can_hold_identifiers_and_holds_name\u001B[0m\u001B[1;33m(\u001B[0m\u001B[0mname\u001B[0m\u001B[1;33m)\u001B[0m\u001B[1;33m\u001B[0m\u001B[1;33m\u001B[0m\u001B[0m\n\u001B[0;32m   5987\u001B[0m         ):\n\u001B[0;32m   5988\u001B[0m             \u001B[1;32mreturn\u001B[0m \u001B[0mself\u001B[0m\u001B[1;33m[\u001B[0m\u001B[0mname\u001B[0m\u001B[1;33m]\u001B[0m\u001B[1;33m\u001B[0m\u001B[1;33m\u001B[0m\u001B[0m\n\u001B[1;32m-> 5989\u001B[1;33m         \u001B[1;32mreturn\u001B[0m \u001B[0mobject\u001B[0m\u001B[1;33m.\u001B[0m\u001B[0m__getattribute__\u001B[0m\u001B[1;33m(\u001B[0m\u001B[0mself\u001B[0m\u001B[1;33m,\u001B[0m \u001B[0mname\u001B[0m\u001B[1;33m)\u001B[0m\u001B[1;33m\u001B[0m\u001B[1;33m\u001B[0m\u001B[0m\n\u001B[0m",
      "\u001B[1;31mAttributeError\u001B[0m: 'DataFrame' object has no attribute 'append'"
     ]
    }
   ],
   "source": [
    "df.append(pd.Series({\n",
    "    'Population': 3,\n",
    "    'GDP': 5\n",
    "}, name='China'))"
   ]
  },
  {
   "cell_type": "markdown",
   "metadata": {},
   "source": [
    "Append returns a new `DataFrame`:"
   ]
  },
  {
   "cell_type": "code",
   "execution_count": 140,
   "metadata": {
    "ExecuteTime": {
     "end_time": "2023-12-03T21:36:17.158483300Z",
     "start_time": "2023-12-03T21:36:17.135998700Z"
    }
   },
   "outputs": [
    {
     "data": {
      "text/plain": "                Population       GDP  Surface Area    HDI Continent\nCanada              35.467   1785387       9984670  0.913   America\nFrance              63.951   2833687        640679  0.888    Europe\nGermany             80.940   3874437        357114  0.916    Europe\nItaly               60.665   2167744        301336  0.873    Europe\nJapan              127.061   4602367        377930  0.891      Asia\nUnited Kingdom      64.511   2950039        242495  0.907    Europe\nUnited States      318.523  17348075       9525067  0.915   America",
      "text/html": "<div>\n<style scoped>\n    .dataframe tbody tr th:only-of-type {\n        vertical-align: middle;\n    }\n\n    .dataframe tbody tr th {\n        vertical-align: top;\n    }\n\n    .dataframe thead th {\n        text-align: right;\n    }\n</style>\n<table border=\"1\" class=\"dataframe\">\n  <thead>\n    <tr style=\"text-align: right;\">\n      <th></th>\n      <th>Population</th>\n      <th>GDP</th>\n      <th>Surface Area</th>\n      <th>HDI</th>\n      <th>Continent</th>\n    </tr>\n  </thead>\n  <tbody>\n    <tr>\n      <th>Canada</th>\n      <td>35.467</td>\n      <td>1785387</td>\n      <td>9984670</td>\n      <td>0.913</td>\n      <td>America</td>\n    </tr>\n    <tr>\n      <th>France</th>\n      <td>63.951</td>\n      <td>2833687</td>\n      <td>640679</td>\n      <td>0.888</td>\n      <td>Europe</td>\n    </tr>\n    <tr>\n      <th>Germany</th>\n      <td>80.940</td>\n      <td>3874437</td>\n      <td>357114</td>\n      <td>0.916</td>\n      <td>Europe</td>\n    </tr>\n    <tr>\n      <th>Italy</th>\n      <td>60.665</td>\n      <td>2167744</td>\n      <td>301336</td>\n      <td>0.873</td>\n      <td>Europe</td>\n    </tr>\n    <tr>\n      <th>Japan</th>\n      <td>127.061</td>\n      <td>4602367</td>\n      <td>377930</td>\n      <td>0.891</td>\n      <td>Asia</td>\n    </tr>\n    <tr>\n      <th>United Kingdom</th>\n      <td>64.511</td>\n      <td>2950039</td>\n      <td>242495</td>\n      <td>0.907</td>\n      <td>Europe</td>\n    </tr>\n    <tr>\n      <th>United States</th>\n      <td>318.523</td>\n      <td>17348075</td>\n      <td>9525067</td>\n      <td>0.915</td>\n      <td>America</td>\n    </tr>\n  </tbody>\n</table>\n</div>"
     },
     "execution_count": 140,
     "metadata": {},
     "output_type": "execute_result"
    }
   ],
   "source": [
    "df"
   ]
  },
  {
   "cell_type": "markdown",
   "metadata": {},
   "source": [
    "You can directly set the new index and values to the `DataFrame`:"
   ]
  },
  {
   "cell_type": "code",
   "execution_count": 141,
   "metadata": {
    "ExecuteTime": {
     "end_time": "2023-12-03T21:36:18.404324Z",
     "start_time": "2023-12-03T21:36:18.382811600Z"
    }
   },
   "outputs": [],
   "source": [
    "df.loc['China'] = pd.Series({'Population': 1_400_000_000, 'Continent': 'Asia'})"
   ]
  },
  {
   "cell_type": "code",
   "execution_count": 142,
   "metadata": {
    "scrolled": true,
    "ExecuteTime": {
     "end_time": "2023-12-03T21:36:20.263808700Z",
     "start_time": "2023-12-03T21:36:20.233235200Z"
    }
   },
   "outputs": [
    {
     "data": {
      "text/plain": "                  Population         GDP  Surface Area    HDI Continent\nCanada          3.546700e+01   1785387.0     9984670.0  0.913   America\nFrance          6.395100e+01   2833687.0      640679.0  0.888    Europe\nGermany         8.094000e+01   3874437.0      357114.0  0.916    Europe\nItaly           6.066500e+01   2167744.0      301336.0  0.873    Europe\nJapan           1.270610e+02   4602367.0      377930.0  0.891      Asia\nUnited Kingdom  6.451100e+01   2950039.0      242495.0  0.907    Europe\nUnited States   3.185230e+02  17348075.0     9525067.0  0.915   America\nChina           1.400000e+09         NaN           NaN    NaN      Asia",
      "text/html": "<div>\n<style scoped>\n    .dataframe tbody tr th:only-of-type {\n        vertical-align: middle;\n    }\n\n    .dataframe tbody tr th {\n        vertical-align: top;\n    }\n\n    .dataframe thead th {\n        text-align: right;\n    }\n</style>\n<table border=\"1\" class=\"dataframe\">\n  <thead>\n    <tr style=\"text-align: right;\">\n      <th></th>\n      <th>Population</th>\n      <th>GDP</th>\n      <th>Surface Area</th>\n      <th>HDI</th>\n      <th>Continent</th>\n    </tr>\n  </thead>\n  <tbody>\n    <tr>\n      <th>Canada</th>\n      <td>3.546700e+01</td>\n      <td>1785387.0</td>\n      <td>9984670.0</td>\n      <td>0.913</td>\n      <td>America</td>\n    </tr>\n    <tr>\n      <th>France</th>\n      <td>6.395100e+01</td>\n      <td>2833687.0</td>\n      <td>640679.0</td>\n      <td>0.888</td>\n      <td>Europe</td>\n    </tr>\n    <tr>\n      <th>Germany</th>\n      <td>8.094000e+01</td>\n      <td>3874437.0</td>\n      <td>357114.0</td>\n      <td>0.916</td>\n      <td>Europe</td>\n    </tr>\n    <tr>\n      <th>Italy</th>\n      <td>6.066500e+01</td>\n      <td>2167744.0</td>\n      <td>301336.0</td>\n      <td>0.873</td>\n      <td>Europe</td>\n    </tr>\n    <tr>\n      <th>Japan</th>\n      <td>1.270610e+02</td>\n      <td>4602367.0</td>\n      <td>377930.0</td>\n      <td>0.891</td>\n      <td>Asia</td>\n    </tr>\n    <tr>\n      <th>United Kingdom</th>\n      <td>6.451100e+01</td>\n      <td>2950039.0</td>\n      <td>242495.0</td>\n      <td>0.907</td>\n      <td>Europe</td>\n    </tr>\n    <tr>\n      <th>United States</th>\n      <td>3.185230e+02</td>\n      <td>17348075.0</td>\n      <td>9525067.0</td>\n      <td>0.915</td>\n      <td>America</td>\n    </tr>\n    <tr>\n      <th>China</th>\n      <td>1.400000e+09</td>\n      <td>NaN</td>\n      <td>NaN</td>\n      <td>NaN</td>\n      <td>Asia</td>\n    </tr>\n  </tbody>\n</table>\n</div>"
     },
     "execution_count": 142,
     "metadata": {},
     "output_type": "execute_result"
    }
   ],
   "source": [
    "df"
   ]
  },
  {
   "cell_type": "markdown",
   "metadata": {},
   "source": [
    "We can use `drop` to just remove a row by index:"
   ]
  },
  {
   "cell_type": "code",
   "execution_count": null,
   "metadata": {},
   "outputs": [],
   "source": [
    "df.drop('China', inplace=True)"
   ]
  },
  {
   "cell_type": "code",
   "execution_count": null,
   "metadata": {},
   "outputs": [],
   "source": [
    "df"
   ]
  },
  {
   "cell_type": "markdown",
   "metadata": {},
   "source": [
    "---\n",
    "### More radical index changes"
   ]
  },
  {
   "cell_type": "code",
   "execution_count": null,
   "metadata": {},
   "outputs": [],
   "source": [
    "df.reset_index()"
   ]
  },
  {
   "cell_type": "code",
   "execution_count": null,
   "metadata": {
    "scrolled": true
   },
   "outputs": [],
   "source": [
    "df.set_index('Population')"
   ]
  },
  {
   "cell_type": "markdown",
   "metadata": {},
   "source": [
    "![green-divider](https://user-images.githubusercontent.com/7065401/52071924-c003ad80-2562-11e9-8297-1c6595f8a7ff.png)\n",
    "\n",
    "## Creating columns from other columns\n",
    "\n",
    "Altering a DataFrame often involves combining different columns into another. For example, in our Countries analysis, we could try to calculate the \"GDP per capita\", which is just, `GDP / Population`."
   ]
  },
  {
   "cell_type": "code",
   "execution_count": 143,
   "metadata": {
    "scrolled": true,
    "ExecuteTime": {
     "end_time": "2023-12-03T21:36:52.133800700Z",
     "start_time": "2023-12-03T21:36:52.109856700Z"
    }
   },
   "outputs": [
    {
     "data": {
      "text/plain": "                  Population         GDP\nCanada          3.546700e+01   1785387.0\nFrance          6.395100e+01   2833687.0\nGermany         8.094000e+01   3874437.0\nItaly           6.066500e+01   2167744.0\nJapan           1.270610e+02   4602367.0\nUnited Kingdom  6.451100e+01   2950039.0\nUnited States   3.185230e+02  17348075.0\nChina           1.400000e+09         NaN",
      "text/html": "<div>\n<style scoped>\n    .dataframe tbody tr th:only-of-type {\n        vertical-align: middle;\n    }\n\n    .dataframe tbody tr th {\n        vertical-align: top;\n    }\n\n    .dataframe thead th {\n        text-align: right;\n    }\n</style>\n<table border=\"1\" class=\"dataframe\">\n  <thead>\n    <tr style=\"text-align: right;\">\n      <th></th>\n      <th>Population</th>\n      <th>GDP</th>\n    </tr>\n  </thead>\n  <tbody>\n    <tr>\n      <th>Canada</th>\n      <td>3.546700e+01</td>\n      <td>1785387.0</td>\n    </tr>\n    <tr>\n      <th>France</th>\n      <td>6.395100e+01</td>\n      <td>2833687.0</td>\n    </tr>\n    <tr>\n      <th>Germany</th>\n      <td>8.094000e+01</td>\n      <td>3874437.0</td>\n    </tr>\n    <tr>\n      <th>Italy</th>\n      <td>6.066500e+01</td>\n      <td>2167744.0</td>\n    </tr>\n    <tr>\n      <th>Japan</th>\n      <td>1.270610e+02</td>\n      <td>4602367.0</td>\n    </tr>\n    <tr>\n      <th>United Kingdom</th>\n      <td>6.451100e+01</td>\n      <td>2950039.0</td>\n    </tr>\n    <tr>\n      <th>United States</th>\n      <td>3.185230e+02</td>\n      <td>17348075.0</td>\n    </tr>\n    <tr>\n      <th>China</th>\n      <td>1.400000e+09</td>\n      <td>NaN</td>\n    </tr>\n  </tbody>\n</table>\n</div>"
     },
     "execution_count": 143,
     "metadata": {},
     "output_type": "execute_result"
    }
   ],
   "source": [
    "df[['Population', 'GDP']]"
   ]
  },
  {
   "cell_type": "markdown",
   "metadata": {},
   "source": [
    "The regular pandas way of expressing that, is just dividing each series:"
   ]
  },
  {
   "cell_type": "code",
   "execution_count": 144,
   "metadata": {
    "ExecuteTime": {
     "end_time": "2023-12-03T21:36:56.901376200Z",
     "start_time": "2023-12-03T21:36:56.878535300Z"
    }
   },
   "outputs": [
    {
     "data": {
      "text/plain": "Canada            50339.385908\nFrance            44310.284437\nGermany           47868.013343\nItaly             35733.025633\nJapan             36221.712406\nUnited Kingdom    45729.239975\nUnited States     54464.120330\nChina                      NaN\ndtype: float64"
     },
     "execution_count": 144,
     "metadata": {},
     "output_type": "execute_result"
    }
   ],
   "source": [
    "df['GDP'] / df['Population']"
   ]
  },
  {
   "cell_type": "markdown",
   "metadata": {},
   "source": [
    "The result of that operation is just another series that you can add to the original `DataFrame`:"
   ]
  },
  {
   "cell_type": "code",
   "execution_count": 145,
   "metadata": {
    "ExecuteTime": {
     "end_time": "2023-12-03T21:37:01.842843100Z",
     "start_time": "2023-12-03T21:37:01.817252Z"
    }
   },
   "outputs": [],
   "source": [
    "df['GDP Per Capita'] = df['GDP'] / df['Population']"
   ]
  },
  {
   "cell_type": "code",
   "execution_count": 146,
   "metadata": {
    "ExecuteTime": {
     "end_time": "2023-12-03T21:37:03.121685500Z",
     "start_time": "2023-12-03T21:37:03.098557500Z"
    }
   },
   "outputs": [
    {
     "data": {
      "text/plain": "                  Population         GDP  Surface Area    HDI Continent  \\\nCanada          3.546700e+01   1785387.0     9984670.0  0.913   America   \nFrance          6.395100e+01   2833687.0      640679.0  0.888    Europe   \nGermany         8.094000e+01   3874437.0      357114.0  0.916    Europe   \nItaly           6.066500e+01   2167744.0      301336.0  0.873    Europe   \nJapan           1.270610e+02   4602367.0      377930.0  0.891      Asia   \nUnited Kingdom  6.451100e+01   2950039.0      242495.0  0.907    Europe   \nUnited States   3.185230e+02  17348075.0     9525067.0  0.915   America   \nChina           1.400000e+09         NaN           NaN    NaN      Asia   \n\n                GDP Per Capita  \nCanada            50339.385908  \nFrance            44310.284437  \nGermany           47868.013343  \nItaly             35733.025633  \nJapan             36221.712406  \nUnited Kingdom    45729.239975  \nUnited States     54464.120330  \nChina                      NaN  ",
      "text/html": "<div>\n<style scoped>\n    .dataframe tbody tr th:only-of-type {\n        vertical-align: middle;\n    }\n\n    .dataframe tbody tr th {\n        vertical-align: top;\n    }\n\n    .dataframe thead th {\n        text-align: right;\n    }\n</style>\n<table border=\"1\" class=\"dataframe\">\n  <thead>\n    <tr style=\"text-align: right;\">\n      <th></th>\n      <th>Population</th>\n      <th>GDP</th>\n      <th>Surface Area</th>\n      <th>HDI</th>\n      <th>Continent</th>\n      <th>GDP Per Capita</th>\n    </tr>\n  </thead>\n  <tbody>\n    <tr>\n      <th>Canada</th>\n      <td>3.546700e+01</td>\n      <td>1785387.0</td>\n      <td>9984670.0</td>\n      <td>0.913</td>\n      <td>America</td>\n      <td>50339.385908</td>\n    </tr>\n    <tr>\n      <th>France</th>\n      <td>6.395100e+01</td>\n      <td>2833687.0</td>\n      <td>640679.0</td>\n      <td>0.888</td>\n      <td>Europe</td>\n      <td>44310.284437</td>\n    </tr>\n    <tr>\n      <th>Germany</th>\n      <td>8.094000e+01</td>\n      <td>3874437.0</td>\n      <td>357114.0</td>\n      <td>0.916</td>\n      <td>Europe</td>\n      <td>47868.013343</td>\n    </tr>\n    <tr>\n      <th>Italy</th>\n      <td>6.066500e+01</td>\n      <td>2167744.0</td>\n      <td>301336.0</td>\n      <td>0.873</td>\n      <td>Europe</td>\n      <td>35733.025633</td>\n    </tr>\n    <tr>\n      <th>Japan</th>\n      <td>1.270610e+02</td>\n      <td>4602367.0</td>\n      <td>377930.0</td>\n      <td>0.891</td>\n      <td>Asia</td>\n      <td>36221.712406</td>\n    </tr>\n    <tr>\n      <th>United Kingdom</th>\n      <td>6.451100e+01</td>\n      <td>2950039.0</td>\n      <td>242495.0</td>\n      <td>0.907</td>\n      <td>Europe</td>\n      <td>45729.239975</td>\n    </tr>\n    <tr>\n      <th>United States</th>\n      <td>3.185230e+02</td>\n      <td>17348075.0</td>\n      <td>9525067.0</td>\n      <td>0.915</td>\n      <td>America</td>\n      <td>54464.120330</td>\n    </tr>\n    <tr>\n      <th>China</th>\n      <td>1.400000e+09</td>\n      <td>NaN</td>\n      <td>NaN</td>\n      <td>NaN</td>\n      <td>Asia</td>\n      <td>NaN</td>\n    </tr>\n  </tbody>\n</table>\n</div>"
     },
     "execution_count": 146,
     "metadata": {},
     "output_type": "execute_result"
    }
   ],
   "source": [
    "df"
   ]
  },
  {
   "cell_type": "markdown",
   "metadata": {},
   "source": [
    "![green-divider](https://user-images.githubusercontent.com/7065401/52071924-c003ad80-2562-11e9-8297-1c6595f8a7ff.png)\n",
    "\n",
    "## Statistical info\n",
    "\n",
    "You've already seen the `describe` method, which gives you a good \"summary\" of the `DataFrame`. Let's explore other methods in more detail:"
   ]
  },
  {
   "cell_type": "code",
   "execution_count": 63,
   "metadata": {},
   "outputs": [
    {
     "data": {
      "text/html": [
       "<div>\n",
       "<style scoped>\n",
       "    .dataframe tbody tr th:only-of-type {\n",
       "        vertical-align: middle;\n",
       "    }\n",
       "\n",
       "    .dataframe tbody tr th {\n",
       "        vertical-align: top;\n",
       "    }\n",
       "\n",
       "    .dataframe thead th {\n",
       "        text-align: right;\n",
       "    }\n",
       "</style>\n",
       "<table border=\"1\" class=\"dataframe\">\n",
       "  <thead>\n",
       "    <tr style=\"text-align: right;\">\n",
       "      <th></th>\n",
       "      <th>Population</th>\n",
       "      <th>GDP</th>\n",
       "      <th>Surface Area</th>\n",
       "      <th>HDI</th>\n",
       "      <th>Continent</th>\n",
       "      <th>Language</th>\n",
       "      <th>GDP Per Capita</th>\n",
       "    </tr>\n",
       "  </thead>\n",
       "  <tbody>\n",
       "    <tr>\n",
       "      <th>Canada</th>\n",
       "      <td>35.467</td>\n",
       "      <td>1785387.0</td>\n",
       "      <td>9984670.0</td>\n",
       "      <td>0.913</td>\n",
       "      <td>America</td>\n",
       "      <td>English</td>\n",
       "      <td>50339.385908</td>\n",
       "    </tr>\n",
       "    <tr>\n",
       "      <th>France</th>\n",
       "      <td>63.951</td>\n",
       "      <td>2833687.0</td>\n",
       "      <td>640679.0</td>\n",
       "      <td>0.888</td>\n",
       "      <td>Europe</td>\n",
       "      <td>English</td>\n",
       "      <td>44310.284437</td>\n",
       "    </tr>\n",
       "    <tr>\n",
       "      <th>Germany</th>\n",
       "      <td>80.940</td>\n",
       "      <td>3874437.0</td>\n",
       "      <td>357114.0</td>\n",
       "      <td>0.916</td>\n",
       "      <td>Europe</td>\n",
       "      <td>English</td>\n",
       "      <td>47868.013343</td>\n",
       "    </tr>\n",
       "    <tr>\n",
       "      <th>Italy</th>\n",
       "      <td>60.665</td>\n",
       "      <td>2167744.0</td>\n",
       "      <td>301336.0</td>\n",
       "      <td>0.873</td>\n",
       "      <td>Europe</td>\n",
       "      <td>English</td>\n",
       "      <td>35733.025633</td>\n",
       "    </tr>\n",
       "    <tr>\n",
       "      <th>Japan</th>\n",
       "      <td>127.061</td>\n",
       "      <td>4602367.0</td>\n",
       "      <td>377930.0</td>\n",
       "      <td>0.891</td>\n",
       "      <td>Asia</td>\n",
       "      <td>English</td>\n",
       "      <td>36221.712406</td>\n",
       "    </tr>\n",
       "  </tbody>\n",
       "</table>\n",
       "</div>"
      ],
      "text/plain": [
       "         Population        GDP  Surface Area    HDI Continent Language  \\\n",
       "Canada       35.467  1785387.0     9984670.0  0.913   America  English   \n",
       "France       63.951  2833687.0      640679.0  0.888    Europe  English   \n",
       "Germany      80.940  3874437.0      357114.0  0.916    Europe  English   \n",
       "Italy        60.665  2167744.0      301336.0  0.873    Europe  English   \n",
       "Japan       127.061  4602367.0      377930.0  0.891      Asia  English   \n",
       "\n",
       "         GDP Per Capita  \n",
       "Canada     50339.385908  \n",
       "France     44310.284437  \n",
       "Germany    47868.013343  \n",
       "Italy      35733.025633  \n",
       "Japan      36221.712406  "
      ]
     },
     "execution_count": 63,
     "metadata": {},
     "output_type": "execute_result"
    }
   ],
   "source": [
    "df.head()"
   ]
  },
  {
   "cell_type": "code",
   "execution_count": 64,
   "metadata": {},
   "outputs": [
    {
     "data": {
      "text/html": [
       "<div>\n",
       "<style scoped>\n",
       "    .dataframe tbody tr th:only-of-type {\n",
       "        vertical-align: middle;\n",
       "    }\n",
       "\n",
       "    .dataframe tbody tr th {\n",
       "        vertical-align: top;\n",
       "    }\n",
       "\n",
       "    .dataframe thead th {\n",
       "        text-align: right;\n",
       "    }\n",
       "</style>\n",
       "<table border=\"1\" class=\"dataframe\">\n",
       "  <thead>\n",
       "    <tr style=\"text-align: right;\">\n",
       "      <th></th>\n",
       "      <th>Population</th>\n",
       "      <th>GDP</th>\n",
       "      <th>Surface Area</th>\n",
       "      <th>HDI</th>\n",
       "      <th>GDP Per Capita</th>\n",
       "    </tr>\n",
       "  </thead>\n",
       "  <tbody>\n",
       "    <tr>\n",
       "      <th>count</th>\n",
       "      <td>8.000000e+00</td>\n",
       "      <td>7.000000e+00</td>\n",
       "      <td>7.000000e+00</td>\n",
       "      <td>7.000000</td>\n",
       "      <td>7.000000</td>\n",
       "    </tr>\n",
       "    <tr>\n",
       "      <th>mean</th>\n",
       "      <td>1.750001e+08</td>\n",
       "      <td>5.080248e+06</td>\n",
       "      <td>3.061327e+06</td>\n",
       "      <td>0.900429</td>\n",
       "      <td>44952.254576</td>\n",
       "    </tr>\n",
       "    <tr>\n",
       "      <th>std</th>\n",
       "      <td>4.949747e+08</td>\n",
       "      <td>5.494020e+06</td>\n",
       "      <td>4.576187e+06</td>\n",
       "      <td>0.016592</td>\n",
       "      <td>6954.983875</td>\n",
       "    </tr>\n",
       "    <tr>\n",
       "      <th>min</th>\n",
       "      <td>3.546700e+01</td>\n",
       "      <td>1.785387e+06</td>\n",
       "      <td>2.424950e+05</td>\n",
       "      <td>0.873000</td>\n",
       "      <td>35733.025633</td>\n",
       "    </tr>\n",
       "    <tr>\n",
       "      <th>25%</th>\n",
       "      <td>6.312950e+01</td>\n",
       "      <td>2.500716e+06</td>\n",
       "      <td>3.292250e+05</td>\n",
       "      <td>0.889500</td>\n",
       "      <td>40265.998421</td>\n",
       "    </tr>\n",
       "    <tr>\n",
       "      <th>50%</th>\n",
       "      <td>7.272550e+01</td>\n",
       "      <td>2.950039e+06</td>\n",
       "      <td>3.779300e+05</td>\n",
       "      <td>0.907000</td>\n",
       "      <td>45729.239975</td>\n",
       "    </tr>\n",
       "    <tr>\n",
       "      <th>75%</th>\n",
       "      <td>1.749265e+02</td>\n",
       "      <td>4.238402e+06</td>\n",
       "      <td>5.082873e+06</td>\n",
       "      <td>0.914000</td>\n",
       "      <td>49103.699626</td>\n",
       "    </tr>\n",
       "    <tr>\n",
       "      <th>max</th>\n",
       "      <td>1.400000e+09</td>\n",
       "      <td>1.734808e+07</td>\n",
       "      <td>9.984670e+06</td>\n",
       "      <td>0.916000</td>\n",
       "      <td>54464.120330</td>\n",
       "    </tr>\n",
       "  </tbody>\n",
       "</table>\n",
       "</div>"
      ],
      "text/plain": [
       "         Population           GDP  Surface Area       HDI  GDP Per Capita\n",
       "count  8.000000e+00  7.000000e+00  7.000000e+00  7.000000        7.000000\n",
       "mean   1.750001e+08  5.080248e+06  3.061327e+06  0.900429    44952.254576\n",
       "std    4.949747e+08  5.494020e+06  4.576187e+06  0.016592     6954.983875\n",
       "min    3.546700e+01  1.785387e+06  2.424950e+05  0.873000    35733.025633\n",
       "25%    6.312950e+01  2.500716e+06  3.292250e+05  0.889500    40265.998421\n",
       "50%    7.272550e+01  2.950039e+06  3.779300e+05  0.907000    45729.239975\n",
       "75%    1.749265e+02  4.238402e+06  5.082873e+06  0.914000    49103.699626\n",
       "max    1.400000e+09  1.734808e+07  9.984670e+06  0.916000    54464.120330"
      ]
     },
     "execution_count": 64,
     "metadata": {},
     "output_type": "execute_result"
    }
   ],
   "source": [
    "df.describe()"
   ]
  },
  {
   "cell_type": "code",
   "execution_count": 65,
   "metadata": {},
   "outputs": [],
   "source": [
    "population = df['Population']"
   ]
  },
  {
   "cell_type": "code",
   "execution_count": null,
   "metadata": {},
   "outputs": [],
   "source": [
    "population.min(), population.max()"
   ]
  },
  {
   "cell_type": "code",
   "execution_count": null,
   "metadata": {},
   "outputs": [],
   "source": [
    "population.sum()"
   ]
  },
  {
   "cell_type": "code",
   "execution_count": null,
   "metadata": {},
   "outputs": [],
   "source": [
    "population.sum() / len(population)"
   ]
  },
  {
   "cell_type": "code",
   "execution_count": null,
   "metadata": {
    "scrolled": true
   },
   "outputs": [],
   "source": [
    "population.mean()"
   ]
  },
  {
   "cell_type": "code",
   "execution_count": null,
   "metadata": {},
   "outputs": [],
   "source": [
    "population.std()"
   ]
  },
  {
   "cell_type": "code",
   "execution_count": null,
   "metadata": {},
   "outputs": [],
   "source": [
    "population.median()"
   ]
  },
  {
   "cell_type": "code",
   "execution_count": null,
   "metadata": {
    "scrolled": true
   },
   "outputs": [],
   "source": [
    "population.describe()"
   ]
  },
  {
   "cell_type": "code",
   "execution_count": null,
   "metadata": {
    "scrolled": true
   },
   "outputs": [],
   "source": [
    "population.quantile(.25)"
   ]
  },
  {
   "cell_type": "code",
   "execution_count": null,
   "metadata": {},
   "outputs": [],
   "source": [
    "population.quantile([.2, .4, .6, .8, 1])"
   ]
  },
  {
   "cell_type": "markdown",
   "metadata": {},
   "source": [
    "![purple-divider](https://user-images.githubusercontent.com/7065401/52071927-c1cd7100-2562-11e9-908a-dde91ba14e59.png)\n"
   ]
  }
 ],
 "metadata": {
  "kernelspec": {
   "display_name": "Python 3",
   "language": "python",
   "name": "python3"
  },
  "language_info": {
   "codemirror_mode": {
    "name": "ipython",
    "version": 3
   },
   "file_extension": ".py",
   "mimetype": "text/x-python",
   "name": "python",
   "nbconvert_exporter": "python",
   "pygments_lexer": "ipython3",
   "version": "3.8.1"
  }
 },
 "nbformat": 4,
 "nbformat_minor": 4
}
