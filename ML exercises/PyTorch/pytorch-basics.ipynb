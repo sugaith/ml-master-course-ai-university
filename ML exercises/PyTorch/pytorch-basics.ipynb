{
 "cells": [
  {
   "cell_type": "code",
   "outputs": [
    {
     "name": "stdout",
     "output_type": "stream",
     "text": [
      "2.3.1+cu118\n",
      "True\n"
     ]
    }
   ],
   "source": [
    "import torch\n",
    "\n",
    "print(torch.__version__)\n",
    "print(torch.cuda.is_available())\n",
    "\n",
    "# !nvida-smi"
   ],
   "metadata": {
    "collapsed": false,
    "ExecuteTime": {
     "end_time": "2024-09-29T20:20:52.607722Z",
     "start_time": "2024-09-29T20:20:50.987374Z"
    }
   },
   "id": "8d5baaab9c2384d",
   "execution_count": 11
  },
  {
   "cell_type": "markdown",
   "source": [
    "## Create a Tensor"
   ],
   "metadata": {
    "collapsed": false
   },
   "id": "beea160a4b894ab6"
  },
  {
   "cell_type": "code",
   "outputs": [
    {
     "name": "stdout",
     "output_type": "stream",
     "text": [
      "tensor([[[0.8028, 0.4861, 0.6351],\n",
      "         [0.4326, 0.3635, 0.9147],\n",
      "         [0.0541, 0.8681, 0.0545]],\n",
      "\n",
      "        [[0.6862, 0.9459, 0.1183],\n",
      "         [0.5039, 0.4570, 0.0803],\n",
      "         [0.7707, 0.7833, 0.4732]],\n",
      "\n",
      "        [[0.6273, 0.7327, 0.7143],\n",
      "         [0.8515, 0.3425, 0.5761],\n",
      "         [0.3735, 0.9761, 0.4601]],\n",
      "\n",
      "        [[0.9564, 0.4397, 0.4139],\n",
      "         [0.8597, 0.1053, 0.6370],\n",
      "         [0.9343, 0.5657, 0.6563]],\n",
      "\n",
      "        [[0.0875, 0.4609, 0.2518],\n",
      "         [0.1149, 0.0466, 0.7116],\n",
      "         [0.2360, 0.0095, 0.0948]],\n",
      "\n",
      "        [[0.1764, 0.8625, 0.6253],\n",
      "         [0.4698, 0.3979, 0.9738],\n",
      "         [0.9541, 0.9416, 0.0196]]])\n"
     ]
    }
   ],
   "source": [
    "TENSOR = torch.rand(6, 3, 3)\n",
    "print(TENSOR)"
   ],
   "metadata": {
    "collapsed": false,
    "ExecuteTime": {
     "end_time": "2024-09-29T21:00:20.201540Z",
     "start_time": "2024-09-29T21:00:20.190590Z"
    }
   },
   "id": "c7a7ccd409ed33a6",
   "execution_count": 13
  },
  {
   "cell_type": "markdown",
   "source": [
    "### Get info from Tensor"
   ],
   "metadata": {
    "collapsed": false
   },
   "id": "dcaa13c1845c810d"
  },
  {
   "cell_type": "code",
   "outputs": [
    {
     "name": "stdout",
     "output_type": "stream",
     "text": [
      "torch.Size([6, 3, 3])\n",
      "torch.Size([6, 3, 3])\n",
      "torch.float32\n",
      "3\n",
      "cpu\n"
     ]
    }
   ],
   "source": [
    "print(TENSOR.size())\n",
    "print(TENSOR.shape)\n",
    "print(TENSOR.dtype)\n",
    "print(TENSOR.ndim) \n",
    "print(TENSOR.device)"
   ],
   "metadata": {
    "collapsed": false,
    "ExecuteTime": {
     "end_time": "2024-09-29T21:00:22.748725Z",
     "start_time": "2024-09-29T21:00:22.745558Z"
    }
   },
   "id": "d268ef9da60a4c51",
   "execution_count": 14
  },
  {
   "cell_type": "code",
   "outputs": [
    {
     "data": {
      "text/plain": "2"
     },
     "execution_count": 10,
     "metadata": {},
     "output_type": "execute_result"
    }
   ],
   "source": [
    "a = {'a': 2, 'b': 3}\n",
    "\n",
    "len(a)\n",
    "\n",
    "b = 23\n",
    "s = str(b)\n",
    "sp = list(s)\n",
    "sp\n",
    "\n",
    "int(sp[0x])"
   ],
   "metadata": {
    "collapsed": false,
    "ExecuteTime": {
     "end_time": "2024-09-16T03:42:27.549060Z",
     "start_time": "2024-09-16T03:42:27.544611Z"
    }
   },
   "id": "be8e38e87940b8e6",
   "execution_count": 10
  }
 ],
 "metadata": {
  "kernelspec": {
   "display_name": "Python 3",
   "language": "python",
   "name": "python3"
  },
  "language_info": {
   "codemirror_mode": {
    "name": "ipython",
    "version": 2
   },
   "file_extension": ".py",
   "mimetype": "text/x-python",
   "name": "python",
   "nbconvert_exporter": "python",
   "pygments_lexer": "ipython2",
   "version": "2.7.6"
  }
 },
 "nbformat": 4,
 "nbformat_minor": 5
}
