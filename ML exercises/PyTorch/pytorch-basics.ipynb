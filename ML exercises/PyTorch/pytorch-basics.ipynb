{
 "cells": [
  {
   "cell_type": "code",
   "outputs": [
    {
     "name": "stdout",
     "output_type": "stream",
     "text": [
      "2.3.1+cu118\n",
      "True\n"
     ]
    }
   ],
   "source": [
    "import torch\n",
    "\n",
    "print(torch.__version__)\n",
    "print(torch.cuda.is_available())\n",
    "\n",
    "# !nvida-smi"
   ],
   "metadata": {
    "collapsed": false,
    "ExecuteTime": {
     "end_time": "2024-09-29T20:20:52.607722Z",
     "start_time": "2024-09-29T20:20:50.987374Z"
    }
   },
   "id": "8d5baaab9c2384d",
   "execution_count": 11
  },
  {
   "cell_type": "markdown",
   "source": [
    "## Create a Tensor"
   ],
   "metadata": {
    "collapsed": false
   },
   "id": "beea160a4b894ab6"
  },
  {
   "cell_type": "code",
   "outputs": [
    {
     "name": "stdout",
     "output_type": "stream",
     "text": [
      "tensor([[[0.2108, 0.9872, 0.2698],\n",
      "         [0.0169, 0.9156, 0.2447],\n",
      "         [0.6667, 0.1385, 0.2038]],\n",
      "\n",
      "        [[0.9929, 0.3474, 0.7071],\n",
      "         [0.1338, 0.2532, 0.0891],\n",
      "         [0.3393, 0.0451, 0.0068]],\n",
      "\n",
      "        [[0.8295, 0.8940, 0.4965],\n",
      "         [0.2432, 0.4084, 0.6335],\n",
      "         [0.1805, 0.8107, 0.2111]],\n",
      "\n",
      "        [[0.2639, 0.2785, 0.4087],\n",
      "         [0.4288, 0.5111, 0.7728],\n",
      "         [0.5040, 0.5168, 0.7256]],\n",
      "\n",
      "        [[0.4724, 0.4416, 0.6323],\n",
      "         [0.3272, 0.3578, 0.3019],\n",
      "         [0.6329, 0.3986, 0.1319]],\n",
      "\n",
      "        [[0.0866, 0.2537, 0.5944],\n",
      "         [0.9156, 0.7666, 0.4680],\n",
      "         [0.5562, 0.2221, 0.6396]]])\n"
     ]
    }
   ],
   "source": [
    "TENSOR = torch.rand(6, 3, 3)\n",
    "print(TENSOR)"
   ],
   "metadata": {
    "collapsed": false,
    "ExecuteTime": {
     "end_time": "2024-07-06T22:34:38.402478Z",
     "start_time": "2024-07-06T22:34:38.398334Z"
    }
   },
   "id": "c7a7ccd409ed33a6",
   "execution_count": 23
  },
  {
   "cell_type": "markdown",
   "source": [
    "### Get info from Tensor"
   ],
   "metadata": {
    "collapsed": false
   },
   "id": "dcaa13c1845c810d"
  },
  {
   "cell_type": "code",
   "outputs": [
    {
     "name": "stdout",
     "output_type": "stream",
     "text": [
      "torch.Size([6, 3, 3])\n",
      "torch.Size([6, 3, 3])\n",
      "torch.float32\n",
      "3\n"
     ]
    }
   ],
   "source": [
    "print(TENSOR.size())\n",
    "print(TENSOR.shape)\n",
    "print(TENSOR.dtype)\n",
    "print(TENSOR.ndim)"
   ],
   "metadata": {
    "collapsed": false,
    "ExecuteTime": {
     "end_time": "2024-07-06T22:34:42.751136Z",
     "start_time": "2024-07-06T22:34:42.748391Z"
    }
   },
   "id": "d268ef9da60a4c51",
   "execution_count": 24
  },
  {
   "cell_type": "code",
   "outputs": [
    {
     "data": {
      "text/plain": "2"
     },
     "execution_count": 10,
     "metadata": {},
     "output_type": "execute_result"
    }
   ],
   "source": [
    "a = {'a': 2, 'b': 3}\n",
    "\n",
    "len(a)\n",
    "\n",
    "b = 23\n",
    "s = str(b)\n",
    "sp = list(s)\n",
    "sp\n",
    "\n",
    "int(sp[0x])"
   ],
   "metadata": {
    "collapsed": false,
    "ExecuteTime": {
     "end_time": "2024-09-16T03:42:27.549060Z",
     "start_time": "2024-09-16T03:42:27.544611Z"
    }
   },
   "id": "be8e38e87940b8e6",
   "execution_count": 10
  }
 ],
 "metadata": {
  "kernelspec": {
   "display_name": "Python 3",
   "language": "python",
   "name": "python3"
  },
  "language_info": {
   "codemirror_mode": {
    "name": "ipython",
    "version": 2
   },
   "file_extension": ".py",
   "mimetype": "text/x-python",
   "name": "python",
   "nbconvert_exporter": "python",
   "pygments_lexer": "ipython2",
   "version": "2.7.6"
  }
 },
 "nbformat": 4,
 "nbformat_minor": 5
}
