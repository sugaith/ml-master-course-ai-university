{
 "cells": [
  {
   "cell_type": "code",
   "execution_count": 2,
   "outputs": [
    {
     "name": "stdout",
     "output_type": "stream",
     "text": [
      "WARNING:tensorflow:From C:\\Users\\thiago\\AppData\\Roaming\\Python\\Python311\\site-packages\\keras\\src\\losses.py:2976: The name tf.losses.sparse_softmax_cross_entropy is deprecated. Please use tf.compat.v1.losses.sparse_softmax_cross_entropy instead.\n"
     ]
    }
   ],
   "source": [
    "import ta\n",
    "\n",
    "import pandas as pd\n",
    "import tensortrade.env.default as default\n",
    "\n",
    "from tensortrade.data.cdd import CryptoDataDownload\n",
    "from tensortrade.feed.core import Stream, DataFeed, NameSpace\n",
    "from tensortrade.oms.instruments import USD, BTC, ETH, LTC\n",
    "from tensortrade.oms.wallets import Wallet, Portfolio\n",
    "from tensortrade.oms.exchanges import Exchange\n",
    "from tensortrade.oms.services.execution.simulated import execute_order"
   ],
   "metadata": {
    "collapsed": false,
    "ExecuteTime": {
     "end_time": "2024-03-10T00:15:31.895015Z",
     "start_time": "2024-03-10T00:15:24.048534Z"
    }
   },
   "id": "31efe67471aad628"
  },
  {
   "cell_type": "code",
   "execution_count": 3,
   "outputs": [],
   "source": [
    "cdd = CryptoDataDownload()\n",
    "\n",
    "bitfinex_data = pd.concat([\n",
    "    cdd.fetch(\"Bitfinex\", \"USD\", \"BTC\", \"1h\").add_prefix(\"BTC:\"),\n",
    "    cdd.fetch(\"Bitfinex\", \"USD\", \"ETH\", \"1h\").add_prefix(\"ETH:\")\n",
    "], axis=1)\n",
    "\n",
    "bitstamp_data = pd.concat([\n",
    "    cdd.fetch(\"Bitstamp\", \"USD\", \"BTC\", \"1h\").add_prefix(\"BTC:\"),\n",
    "    cdd.fetch(\"Bitstamp\", \"USD\", \"LTC\", \"1h\").add_prefix(\"LTC:\")\n",
    "], axis=1)\n"
   ],
   "metadata": {
    "collapsed": false,
    "ExecuteTime": {
     "end_time": "2024-03-10T00:15:48.030250Z",
     "start_time": "2024-03-10T00:15:36.175649Z"
    }
   },
   "id": "b5f020bf0455eb"
  },
  {
   "cell_type": "code",
   "execution_count": 10,
   "outputs": [
    {
     "data": {
      "text/plain": "Timestamp('2018-05-15 06:00:00')"
     },
     "execution_count": 10,
     "metadata": {},
     "output_type": "execute_result"
    }
   ],
   "source": [
    "bitfinex_data['BTC:date'].min()"
   ],
   "metadata": {
    "collapsed": false,
    "ExecuteTime": {
     "end_time": "2024-03-03T00:46:59.035065300Z",
     "start_time": "2024-03-03T00:46:59.016157400Z"
    }
   },
   "id": "9d9fc8593a345bd4"
  },
  {
   "cell_type": "code",
   "execution_count": 12,
   "outputs": [],
   "source": [
    "bitfinex = Exchange(\"bitfinex\", service=execute_order)(\n",
    "    Stream.source(list(bitfinex_data['BTC:close']), dtype=\"float\").rename(\"USD-BTC\"),\n",
    "    Stream.source(list(bitfinex_data['ETH:close']), dtype=\"float\").rename(\"USD-ETH\")\n",
    ")\n",
    "\n",
    "bitstamp = Exchange(\"bitstamp\", service=execute_order)(\n",
    "    Stream.source(list(bitstamp_data['BTC:close']), dtype=\"float\").rename(\"USD-BTC\"),\n",
    "    Stream.source(list(bitstamp_data['LTC:close']), dtype=\"float\").rename(\"USD-LTC\")\n",
    ")"
   ],
   "metadata": {
    "collapsed": false,
    "ExecuteTime": {
     "end_time": "2024-03-03T02:22:29.195641900Z",
     "start_time": "2024-03-03T02:22:29.179057900Z"
    }
   },
   "id": "8ddfeb3864f4bb48"
  },
  {
   "cell_type": "code",
   "execution_count": 14,
   "outputs": [],
   "source": [
    "# Add all features for bitstamp BTC & ETH\n",
    "bitfinex_btc = bitfinex_data.loc[:, [name.startswith(\"BTC\") for name in bitfinex_data.columns]]\n",
    "bitfinex_eth = bitfinex_data.loc[:, [name.startswith(\"ETH\") for name in bitfinex_data.columns]]\n"
   ],
   "metadata": {
    "collapsed": false,
    "ExecuteTime": {
     "end_time": "2024-03-03T02:32:08.029986800Z",
     "start_time": "2024-03-03T02:32:08.016407400Z"
    }
   },
   "id": "9a7106ba6b4af8d5"
  },
  {
   "cell_type": "code",
   "execution_count": 15,
   "outputs": [
    {
     "data": {
      "text/plain": "                 BTC:date       BTC:unix  BTC:open  BTC:high  BTC:low  \\\n0     2018-05-15 06:00:00     1526364000    8723.8    8793.0   8714.9   \n1     2018-05-15 07:00:00     1526367600    8739.0    8754.8   8719.3   \n2     2018-05-15 08:00:00     1526371200    8743.0    8743.1   8653.2   \n3     2018-05-15 09:00:00     1526374800    8723.7    8737.8   8701.2   \n4     2018-05-15 10:00:00     1526378400    8708.1    8855.7   8695.8   \n...                   ...            ...       ...       ...      ...   \n50812 2024-03-01 21:00:00  1709326800000   62756.0   62809.0  62204.0   \n50813 2024-03-01 22:00:00  1709330400000   62500.0   62638.0  62281.0   \n50814 2024-03-01 23:00:00  1709334000000   62470.0   62703.0  62319.0   \n50815 2024-03-02 00:00:00  1709337600000   62330.0   62406.0  62054.0   \n50816 2024-03-02 01:00:00  1709341200000   62261.0   62261.0  61922.0   \n\n       BTC:close    BTC:volume  \n0         8739.0  8.988054e+06  \n1         8743.0  2.288904e+06  \n2         8723.7  8.891773e+06  \n3         8708.1  2.054868e+06  \n4         8784.4  1.730972e+07  \n...          ...           ...  \n50812    62516.0  1.526886e+07  \n50813    62477.0  3.370639e+06  \n50814    62348.0  2.883944e+06  \n50815    62259.0  1.983829e+06  \n50816    61950.0  1.107193e+06  \n\n[50817 rows x 7 columns]",
      "text/html": "<div>\n<style scoped>\n    .dataframe tbody tr th:only-of-type {\n        vertical-align: middle;\n    }\n\n    .dataframe tbody tr th {\n        vertical-align: top;\n    }\n\n    .dataframe thead th {\n        text-align: right;\n    }\n</style>\n<table border=\"1\" class=\"dataframe\">\n  <thead>\n    <tr style=\"text-align: right;\">\n      <th></th>\n      <th>BTC:date</th>\n      <th>BTC:unix</th>\n      <th>BTC:open</th>\n      <th>BTC:high</th>\n      <th>BTC:low</th>\n      <th>BTC:close</th>\n      <th>BTC:volume</th>\n    </tr>\n  </thead>\n  <tbody>\n    <tr>\n      <th>0</th>\n      <td>2018-05-15 06:00:00</td>\n      <td>1526364000</td>\n      <td>8723.8</td>\n      <td>8793.0</td>\n      <td>8714.9</td>\n      <td>8739.0</td>\n      <td>8.988054e+06</td>\n    </tr>\n    <tr>\n      <th>1</th>\n      <td>2018-05-15 07:00:00</td>\n      <td>1526367600</td>\n      <td>8739.0</td>\n      <td>8754.8</td>\n      <td>8719.3</td>\n      <td>8743.0</td>\n      <td>2.288904e+06</td>\n    </tr>\n    <tr>\n      <th>2</th>\n      <td>2018-05-15 08:00:00</td>\n      <td>1526371200</td>\n      <td>8743.0</td>\n      <td>8743.1</td>\n      <td>8653.2</td>\n      <td>8723.7</td>\n      <td>8.891773e+06</td>\n    </tr>\n    <tr>\n      <th>3</th>\n      <td>2018-05-15 09:00:00</td>\n      <td>1526374800</td>\n      <td>8723.7</td>\n      <td>8737.8</td>\n      <td>8701.2</td>\n      <td>8708.1</td>\n      <td>2.054868e+06</td>\n    </tr>\n    <tr>\n      <th>4</th>\n      <td>2018-05-15 10:00:00</td>\n      <td>1526378400</td>\n      <td>8708.1</td>\n      <td>8855.7</td>\n      <td>8695.8</td>\n      <td>8784.4</td>\n      <td>1.730972e+07</td>\n    </tr>\n    <tr>\n      <th>...</th>\n      <td>...</td>\n      <td>...</td>\n      <td>...</td>\n      <td>...</td>\n      <td>...</td>\n      <td>...</td>\n      <td>...</td>\n    </tr>\n    <tr>\n      <th>50812</th>\n      <td>2024-03-01 21:00:00</td>\n      <td>1709326800000</td>\n      <td>62756.0</td>\n      <td>62809.0</td>\n      <td>62204.0</td>\n      <td>62516.0</td>\n      <td>1.526886e+07</td>\n    </tr>\n    <tr>\n      <th>50813</th>\n      <td>2024-03-01 22:00:00</td>\n      <td>1709330400000</td>\n      <td>62500.0</td>\n      <td>62638.0</td>\n      <td>62281.0</td>\n      <td>62477.0</td>\n      <td>3.370639e+06</td>\n    </tr>\n    <tr>\n      <th>50814</th>\n      <td>2024-03-01 23:00:00</td>\n      <td>1709334000000</td>\n      <td>62470.0</td>\n      <td>62703.0</td>\n      <td>62319.0</td>\n      <td>62348.0</td>\n      <td>2.883944e+06</td>\n    </tr>\n    <tr>\n      <th>50815</th>\n      <td>2024-03-02 00:00:00</td>\n      <td>1709337600000</td>\n      <td>62330.0</td>\n      <td>62406.0</td>\n      <td>62054.0</td>\n      <td>62259.0</td>\n      <td>1.983829e+06</td>\n    </tr>\n    <tr>\n      <th>50816</th>\n      <td>2024-03-02 01:00:00</td>\n      <td>1709341200000</td>\n      <td>62261.0</td>\n      <td>62261.0</td>\n      <td>61922.0</td>\n      <td>61950.0</td>\n      <td>1.107193e+06</td>\n    </tr>\n  </tbody>\n</table>\n<p>50817 rows × 7 columns</p>\n</div>"
     },
     "execution_count": 15,
     "metadata": {},
     "output_type": "execute_result"
    }
   ],
   "source": [
    "bitfinex_btc"
   ],
   "metadata": {
    "collapsed": false,
    "ExecuteTime": {
     "end_time": "2024-03-03T02:32:27.949995500Z",
     "start_time": "2024-03-03T02:32:27.939482300Z"
    }
   },
   "id": "6e55a60da61111c8"
  },
  {
   "cell_type": "code",
   "execution_count": 16,
   "outputs": [],
   "source": [
    "with NameSpace(\"bitfinex\"):\n",
    "    bitfinex_streams = [\n",
    "        Stream.source(list(bitfinex_btc[c]), dtype=\"float\").rename(c) for c in bitfinex_btc.columns\n",
    "    ]\n",
    "    bitfinex_streams += [\n",
    "        Stream.source(list(bitfinex_eth[c]), dtype=\"float\").rename(c) for c in bitfinex_eth.columns\n",
    "    ]"
   ],
   "metadata": {
    "collapsed": false,
    "ExecuteTime": {
     "end_time": "2024-03-03T02:51:03.859556600Z",
     "start_time": "2024-03-03T02:51:03.770655100Z"
    }
   },
   "id": "4efe6029e2e328f4"
  },
  {
   "cell_type": "code",
   "execution_count": 17,
   "outputs": [],
   "source": [
    "# Add all features for bitstamp BTC & LTC\n",
    "bitstamp_btc = bitstamp_data.loc[:, [name.startswith(\"BTC\") for name in bitstamp_data.columns]]  \n",
    "bitstamp_ltc = bitstamp_data.loc[:, [name.startswith(\"LTC\") for name in bitstamp_data.columns]]\n"
   ],
   "metadata": {
    "collapsed": false,
    "ExecuteTime": {
     "end_time": "2024-03-03T02:51:39.858516200Z",
     "start_time": "2024-03-03T02:51:39.824752200Z"
    }
   },
   "id": "627ce09fb78f6458"
  },
  {
   "cell_type": "code",
   "execution_count": 18,
   "outputs": [
    {
     "name": "stderr",
     "output_type": "stream",
     "text": [
      "C:\\Users\\thiago\\AppData\\Roaming\\Python\\Python311\\site-packages\\ta\\wrapper.py:91: SettingWithCopyWarning: \n",
      "A value is trying to be set on a copy of a slice from a DataFrame.\n",
      "Try using .loc[row_indexer,col_indexer] = value instead\n",
      "\n",
      "See the caveats in the documentation: https://pandas.pydata.org/pandas-docs/stable/user_guide/indexing.html#returning-a-view-versus-a-copy\n",
      "  df[f\"{colprefix}volume_adi\"] = AccDistIndexIndicator(\n",
      "C:\\Users\\thiago\\AppData\\Roaming\\Python\\Python311\\site-packages\\ta\\wrapper.py:96: SettingWithCopyWarning: \n",
      "A value is trying to be set on a copy of a slice from a DataFrame.\n",
      "Try using .loc[row_indexer,col_indexer] = value instead\n",
      "\n",
      "See the caveats in the documentation: https://pandas.pydata.org/pandas-docs/stable/user_guide/indexing.html#returning-a-view-versus-a-copy\n",
      "  df[f\"{colprefix}volume_obv\"] = OnBalanceVolumeIndicator(\n",
      "C:\\Users\\thiago\\AppData\\Roaming\\Python\\Python311\\site-packages\\ta\\wrapper.py:101: SettingWithCopyWarning: \n",
      "A value is trying to be set on a copy of a slice from a DataFrame.\n",
      "Try using .loc[row_indexer,col_indexer] = value instead\n",
      "\n",
      "See the caveats in the documentation: https://pandas.pydata.org/pandas-docs/stable/user_guide/indexing.html#returning-a-view-versus-a-copy\n",
      "  df[f\"{colprefix}volume_cmf\"] = ChaikinMoneyFlowIndicator(\n",
      "C:\\Users\\thiago\\AppData\\Roaming\\Python\\Python311\\site-packages\\ta\\wrapper.py:106: SettingWithCopyWarning: \n",
      "A value is trying to be set on a copy of a slice from a DataFrame.\n",
      "Try using .loc[row_indexer,col_indexer] = value instead\n",
      "\n",
      "See the caveats in the documentation: https://pandas.pydata.org/pandas-docs/stable/user_guide/indexing.html#returning-a-view-versus-a-copy\n",
      "  df[f\"{colprefix}volume_fi\"] = ForceIndexIndicator(\n",
      "C:\\Users\\thiago\\AppData\\Roaming\\Python\\Python311\\site-packages\\ta\\wrapper.py:114: SettingWithCopyWarning: \n",
      "A value is trying to be set on a copy of a slice from a DataFrame.\n",
      "Try using .loc[row_indexer,col_indexer] = value instead\n",
      "\n",
      "See the caveats in the documentation: https://pandas.pydata.org/pandas-docs/stable/user_guide/indexing.html#returning-a-view-versus-a-copy\n",
      "  df[f\"{colprefix}volume_em\"] = indicator_eom.ease_of_movement()\n",
      "C:\\Users\\thiago\\AppData\\Roaming\\Python\\Python311\\site-packages\\ta\\wrapper.py:115: SettingWithCopyWarning: \n",
      "A value is trying to be set on a copy of a slice from a DataFrame.\n",
      "Try using .loc[row_indexer,col_indexer] = value instead\n",
      "\n",
      "See the caveats in the documentation: https://pandas.pydata.org/pandas-docs/stable/user_guide/indexing.html#returning-a-view-versus-a-copy\n",
      "  df[f\"{colprefix}volume_sma_em\"] = indicator_eom.sma_ease_of_movement()\n"
     ]
    },
    {
     "data": {
      "text/plain": "                 LTC:date    LTC:unix  LTC:open  LTC:high  LTC:low  LTC:close  \\\n0     2018-05-15 06:00:00  1526364000    147.20    148.70   147.01     147.20   \n1     2018-05-15 07:00:00  1526367600    147.20    148.02   146.80     147.50   \n2     2018-05-15 08:00:00  1526371200    147.50    147.50   144.54     145.64   \n3     2018-05-15 09:00:00  1526374800    145.64    146.62   145.15     145.54   \n4     2018-05-15 10:00:00  1526378400    145.54    149.14   144.95     147.66   \n...                   ...         ...       ...       ...      ...        ...   \n50846 2024-03-02 20:00:00  1709409600     91.94     92.81    91.06      91.86   \n50847 2024-03-02 21:00:00  1709413200     91.84     92.41    91.84      92.24   \n50848 2024-03-02 22:00:00  1709416800     92.04     92.21    91.37      91.84   \n50849 2024-03-02 23:00:00  1709420400     92.08     94.60    91.87      94.60   \n50850 2024-03-03 00:00:00  1709424000     94.67     94.72    93.56      94.21   \n\n          LTC:volume  LTC:volume_adi  LTC:volume_obv  LTC:volume_cmf  ...  \\\n0        1907.280000   -1.478424e+03    1.907280e+03             NaN  ...   \n1         557.940000   -1.396105e+03    2.465220e+03             NaN  ...   \n2        3606.380000   -2.322068e+03   -1.141160e+03             NaN  ...   \n3         369.670000   -2.495586e+03   -1.510830e+03             NaN  ...   \n4        2755.480000   -1.686698e+03    1.244650e+03             NaN  ...   \n...              ...             ...             ...             ...  ...   \n50846   54949.724492    3.650237e+08    1.558049e+08       -0.010105  ...   \n50847   43962.189058    3.650415e+08    1.558489e+08        0.042108  ...   \n50848   58516.913595    3.650485e+08    1.557904e+08       -0.003044  ...   \n50849  259490.208140    3.653079e+08    1.560499e+08       -0.053711  ...   \n50850   31919.508715    3.653118e+08    1.560179e+08       -0.018099  ...   \n\n       LTC:momentum_ppo  LTC:momentum_ppo_signal  LTC:momentum_ppo_hist  \\\n0                   NaN                      NaN                    NaN   \n1                   NaN                      NaN                    NaN   \n2                   NaN                      NaN                    NaN   \n3                   NaN                      NaN                    NaN   \n4                   NaN                      NaN                    NaN   \n...                 ...                      ...                    ...   \n50846          1.835145                 1.962026              -0.126882   \n50847          1.797900                 1.929201              -0.131301   \n50848          1.712863                 1.885933              -0.173070   \n50849          1.867031                 1.882153              -0.015122   \n50850          1.930904                 1.891903               0.039001   \n\n       LTC:momentum_pvo  LTC:momentum_pvo_signal  LTC:momentum_pvo_hist  \\\n0                   NaN                      NaN                    NaN   \n1                   NaN                      NaN                    NaN   \n2                   NaN                      NaN                    NaN   \n3                   NaN                      NaN                    NaN   \n4                   NaN                      NaN                    NaN   \n...                 ...                      ...                    ...   \n50846        -28.903481               -15.787263             -13.116217   \n50847        -32.746986               -19.179208             -13.567778   \n50848        -35.255746               -22.394515             -12.861231   \n50849        -26.405293               -23.196671              -3.208622   \n50850        -30.956427               -24.748622              -6.207805   \n\n       LTC:momentum_kama  LTC:others_dr  LTC:others_dlr  LTC:others_cr  \n0                    NaN            NaN             NaN       0.000000  \n1                    NaN       0.203804        0.203597       0.203804  \n2                    NaN      -1.261017       -1.269035      -1.059783  \n3                    NaN      -0.068662       -0.068686      -1.127717  \n4                    NaN       1.456644        1.446137       0.312500  \n...                  ...            ...             ...            ...  \n50846          90.656209      -0.119604       -0.119676     -37.595109  \n50847          90.760290       0.413673        0.412820     -37.336957  \n50848          90.772512      -0.433651       -0.434594     -37.608696  \n50849          91.178271       3.005226        2.960954     -35.733696  \n50850          91.402584      -0.412262       -0.413114     -35.998641  \n\n[50851 rows x 93 columns]",
      "text/html": "<div>\n<style scoped>\n    .dataframe tbody tr th:only-of-type {\n        vertical-align: middle;\n    }\n\n    .dataframe tbody tr th {\n        vertical-align: top;\n    }\n\n    .dataframe thead th {\n        text-align: right;\n    }\n</style>\n<table border=\"1\" class=\"dataframe\">\n  <thead>\n    <tr style=\"text-align: right;\">\n      <th></th>\n      <th>LTC:date</th>\n      <th>LTC:unix</th>\n      <th>LTC:open</th>\n      <th>LTC:high</th>\n      <th>LTC:low</th>\n      <th>LTC:close</th>\n      <th>LTC:volume</th>\n      <th>LTC:volume_adi</th>\n      <th>LTC:volume_obv</th>\n      <th>LTC:volume_cmf</th>\n      <th>...</th>\n      <th>LTC:momentum_ppo</th>\n      <th>LTC:momentum_ppo_signal</th>\n      <th>LTC:momentum_ppo_hist</th>\n      <th>LTC:momentum_pvo</th>\n      <th>LTC:momentum_pvo_signal</th>\n      <th>LTC:momentum_pvo_hist</th>\n      <th>LTC:momentum_kama</th>\n      <th>LTC:others_dr</th>\n      <th>LTC:others_dlr</th>\n      <th>LTC:others_cr</th>\n    </tr>\n  </thead>\n  <tbody>\n    <tr>\n      <th>0</th>\n      <td>2018-05-15 06:00:00</td>\n      <td>1526364000</td>\n      <td>147.20</td>\n      <td>148.70</td>\n      <td>147.01</td>\n      <td>147.20</td>\n      <td>1907.280000</td>\n      <td>-1.478424e+03</td>\n      <td>1.907280e+03</td>\n      <td>NaN</td>\n      <td>...</td>\n      <td>NaN</td>\n      <td>NaN</td>\n      <td>NaN</td>\n      <td>NaN</td>\n      <td>NaN</td>\n      <td>NaN</td>\n      <td>NaN</td>\n      <td>NaN</td>\n      <td>NaN</td>\n      <td>0.000000</td>\n    </tr>\n    <tr>\n      <th>1</th>\n      <td>2018-05-15 07:00:00</td>\n      <td>1526367600</td>\n      <td>147.20</td>\n      <td>148.02</td>\n      <td>146.80</td>\n      <td>147.50</td>\n      <td>557.940000</td>\n      <td>-1.396105e+03</td>\n      <td>2.465220e+03</td>\n      <td>NaN</td>\n      <td>...</td>\n      <td>NaN</td>\n      <td>NaN</td>\n      <td>NaN</td>\n      <td>NaN</td>\n      <td>NaN</td>\n      <td>NaN</td>\n      <td>NaN</td>\n      <td>0.203804</td>\n      <td>0.203597</td>\n      <td>0.203804</td>\n    </tr>\n    <tr>\n      <th>2</th>\n      <td>2018-05-15 08:00:00</td>\n      <td>1526371200</td>\n      <td>147.50</td>\n      <td>147.50</td>\n      <td>144.54</td>\n      <td>145.64</td>\n      <td>3606.380000</td>\n      <td>-2.322068e+03</td>\n      <td>-1.141160e+03</td>\n      <td>NaN</td>\n      <td>...</td>\n      <td>NaN</td>\n      <td>NaN</td>\n      <td>NaN</td>\n      <td>NaN</td>\n      <td>NaN</td>\n      <td>NaN</td>\n      <td>NaN</td>\n      <td>-1.261017</td>\n      <td>-1.269035</td>\n      <td>-1.059783</td>\n    </tr>\n    <tr>\n      <th>3</th>\n      <td>2018-05-15 09:00:00</td>\n      <td>1526374800</td>\n      <td>145.64</td>\n      <td>146.62</td>\n      <td>145.15</td>\n      <td>145.54</td>\n      <td>369.670000</td>\n      <td>-2.495586e+03</td>\n      <td>-1.510830e+03</td>\n      <td>NaN</td>\n      <td>...</td>\n      <td>NaN</td>\n      <td>NaN</td>\n      <td>NaN</td>\n      <td>NaN</td>\n      <td>NaN</td>\n      <td>NaN</td>\n      <td>NaN</td>\n      <td>-0.068662</td>\n      <td>-0.068686</td>\n      <td>-1.127717</td>\n    </tr>\n    <tr>\n      <th>4</th>\n      <td>2018-05-15 10:00:00</td>\n      <td>1526378400</td>\n      <td>145.54</td>\n      <td>149.14</td>\n      <td>144.95</td>\n      <td>147.66</td>\n      <td>2755.480000</td>\n      <td>-1.686698e+03</td>\n      <td>1.244650e+03</td>\n      <td>NaN</td>\n      <td>...</td>\n      <td>NaN</td>\n      <td>NaN</td>\n      <td>NaN</td>\n      <td>NaN</td>\n      <td>NaN</td>\n      <td>NaN</td>\n      <td>NaN</td>\n      <td>1.456644</td>\n      <td>1.446137</td>\n      <td>0.312500</td>\n    </tr>\n    <tr>\n      <th>...</th>\n      <td>...</td>\n      <td>...</td>\n      <td>...</td>\n      <td>...</td>\n      <td>...</td>\n      <td>...</td>\n      <td>...</td>\n      <td>...</td>\n      <td>...</td>\n      <td>...</td>\n      <td>...</td>\n      <td>...</td>\n      <td>...</td>\n      <td>...</td>\n      <td>...</td>\n      <td>...</td>\n      <td>...</td>\n      <td>...</td>\n      <td>...</td>\n      <td>...</td>\n      <td>...</td>\n    </tr>\n    <tr>\n      <th>50846</th>\n      <td>2024-03-02 20:00:00</td>\n      <td>1709409600</td>\n      <td>91.94</td>\n      <td>92.81</td>\n      <td>91.06</td>\n      <td>91.86</td>\n      <td>54949.724492</td>\n      <td>3.650237e+08</td>\n      <td>1.558049e+08</td>\n      <td>-0.010105</td>\n      <td>...</td>\n      <td>1.835145</td>\n      <td>1.962026</td>\n      <td>-0.126882</td>\n      <td>-28.903481</td>\n      <td>-15.787263</td>\n      <td>-13.116217</td>\n      <td>90.656209</td>\n      <td>-0.119604</td>\n      <td>-0.119676</td>\n      <td>-37.595109</td>\n    </tr>\n    <tr>\n      <th>50847</th>\n      <td>2024-03-02 21:00:00</td>\n      <td>1709413200</td>\n      <td>91.84</td>\n      <td>92.41</td>\n      <td>91.84</td>\n      <td>92.24</td>\n      <td>43962.189058</td>\n      <td>3.650415e+08</td>\n      <td>1.558489e+08</td>\n      <td>0.042108</td>\n      <td>...</td>\n      <td>1.797900</td>\n      <td>1.929201</td>\n      <td>-0.131301</td>\n      <td>-32.746986</td>\n      <td>-19.179208</td>\n      <td>-13.567778</td>\n      <td>90.760290</td>\n      <td>0.413673</td>\n      <td>0.412820</td>\n      <td>-37.336957</td>\n    </tr>\n    <tr>\n      <th>50848</th>\n      <td>2024-03-02 22:00:00</td>\n      <td>1709416800</td>\n      <td>92.04</td>\n      <td>92.21</td>\n      <td>91.37</td>\n      <td>91.84</td>\n      <td>58516.913595</td>\n      <td>3.650485e+08</td>\n      <td>1.557904e+08</td>\n      <td>-0.003044</td>\n      <td>...</td>\n      <td>1.712863</td>\n      <td>1.885933</td>\n      <td>-0.173070</td>\n      <td>-35.255746</td>\n      <td>-22.394515</td>\n      <td>-12.861231</td>\n      <td>90.772512</td>\n      <td>-0.433651</td>\n      <td>-0.434594</td>\n      <td>-37.608696</td>\n    </tr>\n    <tr>\n      <th>50849</th>\n      <td>2024-03-02 23:00:00</td>\n      <td>1709420400</td>\n      <td>92.08</td>\n      <td>94.60</td>\n      <td>91.87</td>\n      <td>94.60</td>\n      <td>259490.208140</td>\n      <td>3.653079e+08</td>\n      <td>1.560499e+08</td>\n      <td>-0.053711</td>\n      <td>...</td>\n      <td>1.867031</td>\n      <td>1.882153</td>\n      <td>-0.015122</td>\n      <td>-26.405293</td>\n      <td>-23.196671</td>\n      <td>-3.208622</td>\n      <td>91.178271</td>\n      <td>3.005226</td>\n      <td>2.960954</td>\n      <td>-35.733696</td>\n    </tr>\n    <tr>\n      <th>50850</th>\n      <td>2024-03-03 00:00:00</td>\n      <td>1709424000</td>\n      <td>94.67</td>\n      <td>94.72</td>\n      <td>93.56</td>\n      <td>94.21</td>\n      <td>31919.508715</td>\n      <td>3.653118e+08</td>\n      <td>1.560179e+08</td>\n      <td>-0.018099</td>\n      <td>...</td>\n      <td>1.930904</td>\n      <td>1.891903</td>\n      <td>0.039001</td>\n      <td>-30.956427</td>\n      <td>-24.748622</td>\n      <td>-6.207805</td>\n      <td>91.402584</td>\n      <td>-0.412262</td>\n      <td>-0.413114</td>\n      <td>-35.998641</td>\n    </tr>\n  </tbody>\n</table>\n<p>50851 rows × 93 columns</p>\n</div>"
     },
     "execution_count": 18,
     "metadata": {},
     "output_type": "execute_result"
    }
   ],
   "source": [
    "ta.add_all_ta_features(\n",
    "    bitstamp_ltc,\n",
    "    colprefix=\"LTC:\",\n",
    "    **{k: \"LTC:\" + k for k in ['open', 'high', 'low', 'close', 'volume']}\n",
    ")"
   ],
   "metadata": {
    "collapsed": false,
    "ExecuteTime": {
     "end_time": "2024-03-03T02:52:05.686159900Z",
     "start_time": "2024-03-03T02:51:57.191914700Z"
    }
   },
   "id": "d842b7fc05c2195f"
  },
  {
   "cell_type": "code",
   "execution_count": 19,
   "outputs": [
    {
     "data": {
      "text/plain": "                 LTC:date    LTC:unix  LTC:open  LTC:high  LTC:low  LTC:close  \\\n0     2018-05-15 06:00:00  1526364000    147.20    148.70   147.01     147.20   \n1     2018-05-15 07:00:00  1526367600    147.20    148.02   146.80     147.50   \n2     2018-05-15 08:00:00  1526371200    147.50    147.50   144.54     145.64   \n3     2018-05-15 09:00:00  1526374800    145.64    146.62   145.15     145.54   \n4     2018-05-15 10:00:00  1526378400    145.54    149.14   144.95     147.66   \n...                   ...         ...       ...       ...      ...        ...   \n50846 2024-03-02 20:00:00  1709409600     91.94     92.81    91.06      91.86   \n50847 2024-03-02 21:00:00  1709413200     91.84     92.41    91.84      92.24   \n50848 2024-03-02 22:00:00  1709416800     92.04     92.21    91.37      91.84   \n50849 2024-03-02 23:00:00  1709420400     92.08     94.60    91.87      94.60   \n50850 2024-03-03 00:00:00  1709424000     94.67     94.72    93.56      94.21   \n\n          LTC:volume  LTC:volume_adi  LTC:volume_obv  LTC:volume_cmf  ...  \\\n0        1907.280000   -1.478424e+03    1.907280e+03             NaN  ...   \n1         557.940000   -1.396105e+03    2.465220e+03             NaN  ...   \n2        3606.380000   -2.322068e+03   -1.141160e+03             NaN  ...   \n3         369.670000   -2.495586e+03   -1.510830e+03             NaN  ...   \n4        2755.480000   -1.686698e+03    1.244650e+03             NaN  ...   \n...              ...             ...             ...             ...  ...   \n50846   54949.724492    3.650237e+08    1.558049e+08       -0.010105  ...   \n50847   43962.189058    3.650415e+08    1.558489e+08        0.042108  ...   \n50848   58516.913595    3.650485e+08    1.557904e+08       -0.003044  ...   \n50849  259490.208140    3.653079e+08    1.560499e+08       -0.053711  ...   \n50850   31919.508715    3.653118e+08    1.560179e+08       -0.018099  ...   \n\n       LTC:momentum_ppo  LTC:momentum_ppo_signal  LTC:momentum_ppo_hist  \\\n0                   NaN                      NaN                    NaN   \n1                   NaN                      NaN                    NaN   \n2                   NaN                      NaN                    NaN   \n3                   NaN                      NaN                    NaN   \n4                   NaN                      NaN                    NaN   \n...                 ...                      ...                    ...   \n50846          1.835145                 1.962026              -0.126882   \n50847          1.797900                 1.929201              -0.131301   \n50848          1.712863                 1.885933              -0.173070   \n50849          1.867031                 1.882153              -0.015122   \n50850          1.930904                 1.891903               0.039001   \n\n       LTC:momentum_pvo  LTC:momentum_pvo_signal  LTC:momentum_pvo_hist  \\\n0                   NaN                      NaN                    NaN   \n1                   NaN                      NaN                    NaN   \n2                   NaN                      NaN                    NaN   \n3                   NaN                      NaN                    NaN   \n4                   NaN                      NaN                    NaN   \n...                 ...                      ...                    ...   \n50846        -28.903481               -15.787263             -13.116217   \n50847        -32.746986               -19.179208             -13.567778   \n50848        -35.255746               -22.394515             -12.861231   \n50849        -26.405293               -23.196671              -3.208622   \n50850        -30.956427               -24.748622              -6.207805   \n\n       LTC:momentum_kama  LTC:others_dr  LTC:others_dlr  LTC:others_cr  \n0                    NaN            NaN             NaN       0.000000  \n1                    NaN       0.203804        0.203597       0.203804  \n2                    NaN      -1.261017       -1.269035      -1.059783  \n3                    NaN      -0.068662       -0.068686      -1.127717  \n4                    NaN       1.456644        1.446137       0.312500  \n...                  ...            ...             ...            ...  \n50846          90.656209      -0.119604       -0.119676     -37.595109  \n50847          90.760290       0.413673        0.412820     -37.336957  \n50848          90.772512      -0.433651       -0.434594     -37.608696  \n50849          91.178271       3.005226        2.960954     -35.733696  \n50850          91.402584      -0.412262       -0.413114     -35.998641  \n\n[50851 rows x 93 columns]",
      "text/html": "<div>\n<style scoped>\n    .dataframe tbody tr th:only-of-type {\n        vertical-align: middle;\n    }\n\n    .dataframe tbody tr th {\n        vertical-align: top;\n    }\n\n    .dataframe thead th {\n        text-align: right;\n    }\n</style>\n<table border=\"1\" class=\"dataframe\">\n  <thead>\n    <tr style=\"text-align: right;\">\n      <th></th>\n      <th>LTC:date</th>\n      <th>LTC:unix</th>\n      <th>LTC:open</th>\n      <th>LTC:high</th>\n      <th>LTC:low</th>\n      <th>LTC:close</th>\n      <th>LTC:volume</th>\n      <th>LTC:volume_adi</th>\n      <th>LTC:volume_obv</th>\n      <th>LTC:volume_cmf</th>\n      <th>...</th>\n      <th>LTC:momentum_ppo</th>\n      <th>LTC:momentum_ppo_signal</th>\n      <th>LTC:momentum_ppo_hist</th>\n      <th>LTC:momentum_pvo</th>\n      <th>LTC:momentum_pvo_signal</th>\n      <th>LTC:momentum_pvo_hist</th>\n      <th>LTC:momentum_kama</th>\n      <th>LTC:others_dr</th>\n      <th>LTC:others_dlr</th>\n      <th>LTC:others_cr</th>\n    </tr>\n  </thead>\n  <tbody>\n    <tr>\n      <th>0</th>\n      <td>2018-05-15 06:00:00</td>\n      <td>1526364000</td>\n      <td>147.20</td>\n      <td>148.70</td>\n      <td>147.01</td>\n      <td>147.20</td>\n      <td>1907.280000</td>\n      <td>-1.478424e+03</td>\n      <td>1.907280e+03</td>\n      <td>NaN</td>\n      <td>...</td>\n      <td>NaN</td>\n      <td>NaN</td>\n      <td>NaN</td>\n      <td>NaN</td>\n      <td>NaN</td>\n      <td>NaN</td>\n      <td>NaN</td>\n      <td>NaN</td>\n      <td>NaN</td>\n      <td>0.000000</td>\n    </tr>\n    <tr>\n      <th>1</th>\n      <td>2018-05-15 07:00:00</td>\n      <td>1526367600</td>\n      <td>147.20</td>\n      <td>148.02</td>\n      <td>146.80</td>\n      <td>147.50</td>\n      <td>557.940000</td>\n      <td>-1.396105e+03</td>\n      <td>2.465220e+03</td>\n      <td>NaN</td>\n      <td>...</td>\n      <td>NaN</td>\n      <td>NaN</td>\n      <td>NaN</td>\n      <td>NaN</td>\n      <td>NaN</td>\n      <td>NaN</td>\n      <td>NaN</td>\n      <td>0.203804</td>\n      <td>0.203597</td>\n      <td>0.203804</td>\n    </tr>\n    <tr>\n      <th>2</th>\n      <td>2018-05-15 08:00:00</td>\n      <td>1526371200</td>\n      <td>147.50</td>\n      <td>147.50</td>\n      <td>144.54</td>\n      <td>145.64</td>\n      <td>3606.380000</td>\n      <td>-2.322068e+03</td>\n      <td>-1.141160e+03</td>\n      <td>NaN</td>\n      <td>...</td>\n      <td>NaN</td>\n      <td>NaN</td>\n      <td>NaN</td>\n      <td>NaN</td>\n      <td>NaN</td>\n      <td>NaN</td>\n      <td>NaN</td>\n      <td>-1.261017</td>\n      <td>-1.269035</td>\n      <td>-1.059783</td>\n    </tr>\n    <tr>\n      <th>3</th>\n      <td>2018-05-15 09:00:00</td>\n      <td>1526374800</td>\n      <td>145.64</td>\n      <td>146.62</td>\n      <td>145.15</td>\n      <td>145.54</td>\n      <td>369.670000</td>\n      <td>-2.495586e+03</td>\n      <td>-1.510830e+03</td>\n      <td>NaN</td>\n      <td>...</td>\n      <td>NaN</td>\n      <td>NaN</td>\n      <td>NaN</td>\n      <td>NaN</td>\n      <td>NaN</td>\n      <td>NaN</td>\n      <td>NaN</td>\n      <td>-0.068662</td>\n      <td>-0.068686</td>\n      <td>-1.127717</td>\n    </tr>\n    <tr>\n      <th>4</th>\n      <td>2018-05-15 10:00:00</td>\n      <td>1526378400</td>\n      <td>145.54</td>\n      <td>149.14</td>\n      <td>144.95</td>\n      <td>147.66</td>\n      <td>2755.480000</td>\n      <td>-1.686698e+03</td>\n      <td>1.244650e+03</td>\n      <td>NaN</td>\n      <td>...</td>\n      <td>NaN</td>\n      <td>NaN</td>\n      <td>NaN</td>\n      <td>NaN</td>\n      <td>NaN</td>\n      <td>NaN</td>\n      <td>NaN</td>\n      <td>1.456644</td>\n      <td>1.446137</td>\n      <td>0.312500</td>\n    </tr>\n    <tr>\n      <th>...</th>\n      <td>...</td>\n      <td>...</td>\n      <td>...</td>\n      <td>...</td>\n      <td>...</td>\n      <td>...</td>\n      <td>...</td>\n      <td>...</td>\n      <td>...</td>\n      <td>...</td>\n      <td>...</td>\n      <td>...</td>\n      <td>...</td>\n      <td>...</td>\n      <td>...</td>\n      <td>...</td>\n      <td>...</td>\n      <td>...</td>\n      <td>...</td>\n      <td>...</td>\n      <td>...</td>\n    </tr>\n    <tr>\n      <th>50846</th>\n      <td>2024-03-02 20:00:00</td>\n      <td>1709409600</td>\n      <td>91.94</td>\n      <td>92.81</td>\n      <td>91.06</td>\n      <td>91.86</td>\n      <td>54949.724492</td>\n      <td>3.650237e+08</td>\n      <td>1.558049e+08</td>\n      <td>-0.010105</td>\n      <td>...</td>\n      <td>1.835145</td>\n      <td>1.962026</td>\n      <td>-0.126882</td>\n      <td>-28.903481</td>\n      <td>-15.787263</td>\n      <td>-13.116217</td>\n      <td>90.656209</td>\n      <td>-0.119604</td>\n      <td>-0.119676</td>\n      <td>-37.595109</td>\n    </tr>\n    <tr>\n      <th>50847</th>\n      <td>2024-03-02 21:00:00</td>\n      <td>1709413200</td>\n      <td>91.84</td>\n      <td>92.41</td>\n      <td>91.84</td>\n      <td>92.24</td>\n      <td>43962.189058</td>\n      <td>3.650415e+08</td>\n      <td>1.558489e+08</td>\n      <td>0.042108</td>\n      <td>...</td>\n      <td>1.797900</td>\n      <td>1.929201</td>\n      <td>-0.131301</td>\n      <td>-32.746986</td>\n      <td>-19.179208</td>\n      <td>-13.567778</td>\n      <td>90.760290</td>\n      <td>0.413673</td>\n      <td>0.412820</td>\n      <td>-37.336957</td>\n    </tr>\n    <tr>\n      <th>50848</th>\n      <td>2024-03-02 22:00:00</td>\n      <td>1709416800</td>\n      <td>92.04</td>\n      <td>92.21</td>\n      <td>91.37</td>\n      <td>91.84</td>\n      <td>58516.913595</td>\n      <td>3.650485e+08</td>\n      <td>1.557904e+08</td>\n      <td>-0.003044</td>\n      <td>...</td>\n      <td>1.712863</td>\n      <td>1.885933</td>\n      <td>-0.173070</td>\n      <td>-35.255746</td>\n      <td>-22.394515</td>\n      <td>-12.861231</td>\n      <td>90.772512</td>\n      <td>-0.433651</td>\n      <td>-0.434594</td>\n      <td>-37.608696</td>\n    </tr>\n    <tr>\n      <th>50849</th>\n      <td>2024-03-02 23:00:00</td>\n      <td>1709420400</td>\n      <td>92.08</td>\n      <td>94.60</td>\n      <td>91.87</td>\n      <td>94.60</td>\n      <td>259490.208140</td>\n      <td>3.653079e+08</td>\n      <td>1.560499e+08</td>\n      <td>-0.053711</td>\n      <td>...</td>\n      <td>1.867031</td>\n      <td>1.882153</td>\n      <td>-0.015122</td>\n      <td>-26.405293</td>\n      <td>-23.196671</td>\n      <td>-3.208622</td>\n      <td>91.178271</td>\n      <td>3.005226</td>\n      <td>2.960954</td>\n      <td>-35.733696</td>\n    </tr>\n    <tr>\n      <th>50850</th>\n      <td>2024-03-03 00:00:00</td>\n      <td>1709424000</td>\n      <td>94.67</td>\n      <td>94.72</td>\n      <td>93.56</td>\n      <td>94.21</td>\n      <td>31919.508715</td>\n      <td>3.653118e+08</td>\n      <td>1.560179e+08</td>\n      <td>-0.018099</td>\n      <td>...</td>\n      <td>1.930904</td>\n      <td>1.891903</td>\n      <td>0.039001</td>\n      <td>-30.956427</td>\n      <td>-24.748622</td>\n      <td>-6.207805</td>\n      <td>91.402584</td>\n      <td>-0.412262</td>\n      <td>-0.413114</td>\n      <td>-35.998641</td>\n    </tr>\n  </tbody>\n</table>\n<p>50851 rows × 93 columns</p>\n</div>"
     },
     "execution_count": 19,
     "metadata": {},
     "output_type": "execute_result"
    }
   ],
   "source": [
    "bitstamp_ltc"
   ],
   "metadata": {
    "collapsed": false,
    "ExecuteTime": {
     "end_time": "2024-03-03T02:58:57.195099100Z",
     "start_time": "2024-03-03T02:58:57.166945400Z"
    }
   },
   "id": "96b3c32a35c00b93"
  },
  {
   "cell_type": "code",
   "execution_count": 20,
   "outputs": [],
   "source": [
    "with NameSpace(\"bitfinex\"):\n",
    "    bitfinex_streams = [\n",
    "        Stream.source(list(bitfinex_btc[c]), dtype=\"float\").rename(c) for c in bitfinex_btc.columns\n",
    "    ]\n",
    "    bitfinex_streams += [\n",
    "        Stream.source(list(bitfinex_eth[c]), dtype=\"float\").rename(c) for c in bitfinex_eth.columns\n",
    "    ]\n"
   ],
   "metadata": {
    "collapsed": false,
    "ExecuteTime": {
     "end_time": "2024-03-03T20:16:33.452333100Z",
     "start_time": "2024-03-03T20:16:32.589929100Z"
    }
   },
   "id": "edb461fbe9cc2a7b"
  },
  {
   "cell_type": "code",
   "execution_count": 23,
   "outputs": [],
   "source": [
    "# Add all features for bitstamp BTC & LTC\n",
    "bitstamp_btc = bitstamp_data.loc[:, [name.startswith(\"BTC\") for name in bitstamp_data.columns]]\n",
    "bitstamp_ltc = bitstamp_data.loc[:, [name.startswith(\"LTC\") for name in bitstamp_data.columns]]"
   ],
   "metadata": {
    "collapsed": false,
    "ExecuteTime": {
     "end_time": "2024-03-03T20:17:34.865348Z",
     "start_time": "2024-03-03T20:17:34.843832600Z"
    }
   },
   "id": "1c4cef22949da553"
  },
  {
   "cell_type": "code",
   "execution_count": 24,
   "outputs": [
    {
     "name": "stderr",
     "output_type": "stream",
     "text": [
      "C:\\Users\\thiago\\AppData\\Roaming\\Python\\Python311\\site-packages\\ta\\wrapper.py:91: SettingWithCopyWarning: \n",
      "A value is trying to be set on a copy of a slice from a DataFrame.\n",
      "Try using .loc[row_indexer,col_indexer] = value instead\n",
      "\n",
      "See the caveats in the documentation: https://pandas.pydata.org/pandas-docs/stable/user_guide/indexing.html#returning-a-view-versus-a-copy\n",
      "  df[f\"{colprefix}volume_adi\"] = AccDistIndexIndicator(\n",
      "C:\\Users\\thiago\\AppData\\Roaming\\Python\\Python311\\site-packages\\ta\\wrapper.py:96: SettingWithCopyWarning: \n",
      "A value is trying to be set on a copy of a slice from a DataFrame.\n",
      "Try using .loc[row_indexer,col_indexer] = value instead\n",
      "\n",
      "See the caveats in the documentation: https://pandas.pydata.org/pandas-docs/stable/user_guide/indexing.html#returning-a-view-versus-a-copy\n",
      "  df[f\"{colprefix}volume_obv\"] = OnBalanceVolumeIndicator(\n",
      "C:\\Users\\thiago\\AppData\\Roaming\\Python\\Python311\\site-packages\\ta\\wrapper.py:101: SettingWithCopyWarning: \n",
      "A value is trying to be set on a copy of a slice from a DataFrame.\n",
      "Try using .loc[row_indexer,col_indexer] = value instead\n",
      "\n",
      "See the caveats in the documentation: https://pandas.pydata.org/pandas-docs/stable/user_guide/indexing.html#returning-a-view-versus-a-copy\n",
      "  df[f\"{colprefix}volume_cmf\"] = ChaikinMoneyFlowIndicator(\n",
      "C:\\Users\\thiago\\AppData\\Roaming\\Python\\Python311\\site-packages\\ta\\wrapper.py:106: SettingWithCopyWarning: \n",
      "A value is trying to be set on a copy of a slice from a DataFrame.\n",
      "Try using .loc[row_indexer,col_indexer] = value instead\n",
      "\n",
      "See the caveats in the documentation: https://pandas.pydata.org/pandas-docs/stable/user_guide/indexing.html#returning-a-view-versus-a-copy\n",
      "  df[f\"{colprefix}volume_fi\"] = ForceIndexIndicator(\n",
      "C:\\Users\\thiago\\AppData\\Roaming\\Python\\Python311\\site-packages\\ta\\wrapper.py:114: SettingWithCopyWarning: \n",
      "A value is trying to be set on a copy of a slice from a DataFrame.\n",
      "Try using .loc[row_indexer,col_indexer] = value instead\n",
      "\n",
      "See the caveats in the documentation: https://pandas.pydata.org/pandas-docs/stable/user_guide/indexing.html#returning-a-view-versus-a-copy\n",
      "  df[f\"{colprefix}volume_em\"] = indicator_eom.ease_of_movement()\n",
      "C:\\Users\\thiago\\AppData\\Roaming\\Python\\Python311\\site-packages\\ta\\wrapper.py:115: SettingWithCopyWarning: \n",
      "A value is trying to be set on a copy of a slice from a DataFrame.\n",
      "Try using .loc[row_indexer,col_indexer] = value instead\n",
      "\n",
      "See the caveats in the documentation: https://pandas.pydata.org/pandas-docs/stable/user_guide/indexing.html#returning-a-view-versus-a-copy\n",
      "  df[f\"{colprefix}volume_sma_em\"] = indicator_eom.sma_ease_of_movement()\n"
     ]
    },
    {
     "data": {
      "text/plain": "                 LTC:date    LTC:unix  LTC:open  LTC:high  LTC:low  LTC:close  \\\n0     2018-05-15 06:00:00  1526364000    147.20    148.70   147.01     147.20   \n1     2018-05-15 07:00:00  1526367600    147.20    148.02   146.80     147.50   \n2     2018-05-15 08:00:00  1526371200    147.50    147.50   144.54     145.64   \n3     2018-05-15 09:00:00  1526374800    145.64    146.62   145.15     145.54   \n4     2018-05-15 10:00:00  1526378400    145.54    149.14   144.95     147.66   \n...                   ...         ...       ...       ...      ...        ...   \n50846 2024-03-02 20:00:00  1709409600     91.94     92.81    91.06      91.86   \n50847 2024-03-02 21:00:00  1709413200     91.84     92.41    91.84      92.24   \n50848 2024-03-02 22:00:00  1709416800     92.04     92.21    91.37      91.84   \n50849 2024-03-02 23:00:00  1709420400     92.08     94.60    91.87      94.60   \n50850 2024-03-03 00:00:00  1709424000     94.67     94.72    93.56      94.21   \n\n          LTC:volume  LTC:volume_adi  LTC:volume_obv  LTC:volume_cmf  ...  \\\n0        1907.280000   -1.478424e+03    1.907280e+03             NaN  ...   \n1         557.940000   -1.396105e+03    2.465220e+03             NaN  ...   \n2        3606.380000   -2.322068e+03   -1.141160e+03             NaN  ...   \n3         369.670000   -2.495586e+03   -1.510830e+03             NaN  ...   \n4        2755.480000   -1.686698e+03    1.244650e+03             NaN  ...   \n...              ...             ...             ...             ...  ...   \n50846   54949.724492    3.650237e+08    1.558049e+08       -0.010105  ...   \n50847   43962.189058    3.650415e+08    1.558489e+08        0.042108  ...   \n50848   58516.913595    3.650485e+08    1.557904e+08       -0.003044  ...   \n50849  259490.208140    3.653079e+08    1.560499e+08       -0.053711  ...   \n50850   31919.508715    3.653118e+08    1.560179e+08       -0.018099  ...   \n\n       LTC:momentum_ppo  LTC:momentum_ppo_signal  LTC:momentum_ppo_hist  \\\n0                   NaN                      NaN                    NaN   \n1                   NaN                      NaN                    NaN   \n2                   NaN                      NaN                    NaN   \n3                   NaN                      NaN                    NaN   \n4                   NaN                      NaN                    NaN   \n...                 ...                      ...                    ...   \n50846          1.835145                 1.962026              -0.126882   \n50847          1.797900                 1.929201              -0.131301   \n50848          1.712863                 1.885933              -0.173070   \n50849          1.867031                 1.882153              -0.015122   \n50850          1.930904                 1.891903               0.039001   \n\n       LTC:momentum_pvo  LTC:momentum_pvo_signal  LTC:momentum_pvo_hist  \\\n0                   NaN                      NaN                    NaN   \n1                   NaN                      NaN                    NaN   \n2                   NaN                      NaN                    NaN   \n3                   NaN                      NaN                    NaN   \n4                   NaN                      NaN                    NaN   \n...                 ...                      ...                    ...   \n50846        -28.903481               -15.787263             -13.116217   \n50847        -32.746986               -19.179208             -13.567778   \n50848        -35.255746               -22.394515             -12.861231   \n50849        -26.405293               -23.196671              -3.208622   \n50850        -30.956427               -24.748622              -6.207805   \n\n       LTC:momentum_kama  LTC:others_dr  LTC:others_dlr  LTC:others_cr  \n0                    NaN            NaN             NaN       0.000000  \n1                    NaN       0.203804        0.203597       0.203804  \n2                    NaN      -1.261017       -1.269035      -1.059783  \n3                    NaN      -0.068662       -0.068686      -1.127717  \n4                    NaN       1.456644        1.446137       0.312500  \n...                  ...            ...             ...            ...  \n50846          90.656209      -0.119604       -0.119676     -37.595109  \n50847          90.760290       0.413673        0.412820     -37.336957  \n50848          90.772512      -0.433651       -0.434594     -37.608696  \n50849          91.178271       3.005226        2.960954     -35.733696  \n50850          91.402584      -0.412262       -0.413114     -35.998641  \n\n[50851 rows x 93 columns]",
      "text/html": "<div>\n<style scoped>\n    .dataframe tbody tr th:only-of-type {\n        vertical-align: middle;\n    }\n\n    .dataframe tbody tr th {\n        vertical-align: top;\n    }\n\n    .dataframe thead th {\n        text-align: right;\n    }\n</style>\n<table border=\"1\" class=\"dataframe\">\n  <thead>\n    <tr style=\"text-align: right;\">\n      <th></th>\n      <th>LTC:date</th>\n      <th>LTC:unix</th>\n      <th>LTC:open</th>\n      <th>LTC:high</th>\n      <th>LTC:low</th>\n      <th>LTC:close</th>\n      <th>LTC:volume</th>\n      <th>LTC:volume_adi</th>\n      <th>LTC:volume_obv</th>\n      <th>LTC:volume_cmf</th>\n      <th>...</th>\n      <th>LTC:momentum_ppo</th>\n      <th>LTC:momentum_ppo_signal</th>\n      <th>LTC:momentum_ppo_hist</th>\n      <th>LTC:momentum_pvo</th>\n      <th>LTC:momentum_pvo_signal</th>\n      <th>LTC:momentum_pvo_hist</th>\n      <th>LTC:momentum_kama</th>\n      <th>LTC:others_dr</th>\n      <th>LTC:others_dlr</th>\n      <th>LTC:others_cr</th>\n    </tr>\n  </thead>\n  <tbody>\n    <tr>\n      <th>0</th>\n      <td>2018-05-15 06:00:00</td>\n      <td>1526364000</td>\n      <td>147.20</td>\n      <td>148.70</td>\n      <td>147.01</td>\n      <td>147.20</td>\n      <td>1907.280000</td>\n      <td>-1.478424e+03</td>\n      <td>1.907280e+03</td>\n      <td>NaN</td>\n      <td>...</td>\n      <td>NaN</td>\n      <td>NaN</td>\n      <td>NaN</td>\n      <td>NaN</td>\n      <td>NaN</td>\n      <td>NaN</td>\n      <td>NaN</td>\n      <td>NaN</td>\n      <td>NaN</td>\n      <td>0.000000</td>\n    </tr>\n    <tr>\n      <th>1</th>\n      <td>2018-05-15 07:00:00</td>\n      <td>1526367600</td>\n      <td>147.20</td>\n      <td>148.02</td>\n      <td>146.80</td>\n      <td>147.50</td>\n      <td>557.940000</td>\n      <td>-1.396105e+03</td>\n      <td>2.465220e+03</td>\n      <td>NaN</td>\n      <td>...</td>\n      <td>NaN</td>\n      <td>NaN</td>\n      <td>NaN</td>\n      <td>NaN</td>\n      <td>NaN</td>\n      <td>NaN</td>\n      <td>NaN</td>\n      <td>0.203804</td>\n      <td>0.203597</td>\n      <td>0.203804</td>\n    </tr>\n    <tr>\n      <th>2</th>\n      <td>2018-05-15 08:00:00</td>\n      <td>1526371200</td>\n      <td>147.50</td>\n      <td>147.50</td>\n      <td>144.54</td>\n      <td>145.64</td>\n      <td>3606.380000</td>\n      <td>-2.322068e+03</td>\n      <td>-1.141160e+03</td>\n      <td>NaN</td>\n      <td>...</td>\n      <td>NaN</td>\n      <td>NaN</td>\n      <td>NaN</td>\n      <td>NaN</td>\n      <td>NaN</td>\n      <td>NaN</td>\n      <td>NaN</td>\n      <td>-1.261017</td>\n      <td>-1.269035</td>\n      <td>-1.059783</td>\n    </tr>\n    <tr>\n      <th>3</th>\n      <td>2018-05-15 09:00:00</td>\n      <td>1526374800</td>\n      <td>145.64</td>\n      <td>146.62</td>\n      <td>145.15</td>\n      <td>145.54</td>\n      <td>369.670000</td>\n      <td>-2.495586e+03</td>\n      <td>-1.510830e+03</td>\n      <td>NaN</td>\n      <td>...</td>\n      <td>NaN</td>\n      <td>NaN</td>\n      <td>NaN</td>\n      <td>NaN</td>\n      <td>NaN</td>\n      <td>NaN</td>\n      <td>NaN</td>\n      <td>-0.068662</td>\n      <td>-0.068686</td>\n      <td>-1.127717</td>\n    </tr>\n    <tr>\n      <th>4</th>\n      <td>2018-05-15 10:00:00</td>\n      <td>1526378400</td>\n      <td>145.54</td>\n      <td>149.14</td>\n      <td>144.95</td>\n      <td>147.66</td>\n      <td>2755.480000</td>\n      <td>-1.686698e+03</td>\n      <td>1.244650e+03</td>\n      <td>NaN</td>\n      <td>...</td>\n      <td>NaN</td>\n      <td>NaN</td>\n      <td>NaN</td>\n      <td>NaN</td>\n      <td>NaN</td>\n      <td>NaN</td>\n      <td>NaN</td>\n      <td>1.456644</td>\n      <td>1.446137</td>\n      <td>0.312500</td>\n    </tr>\n    <tr>\n      <th>...</th>\n      <td>...</td>\n      <td>...</td>\n      <td>...</td>\n      <td>...</td>\n      <td>...</td>\n      <td>...</td>\n      <td>...</td>\n      <td>...</td>\n      <td>...</td>\n      <td>...</td>\n      <td>...</td>\n      <td>...</td>\n      <td>...</td>\n      <td>...</td>\n      <td>...</td>\n      <td>...</td>\n      <td>...</td>\n      <td>...</td>\n      <td>...</td>\n      <td>...</td>\n      <td>...</td>\n    </tr>\n    <tr>\n      <th>50846</th>\n      <td>2024-03-02 20:00:00</td>\n      <td>1709409600</td>\n      <td>91.94</td>\n      <td>92.81</td>\n      <td>91.06</td>\n      <td>91.86</td>\n      <td>54949.724492</td>\n      <td>3.650237e+08</td>\n      <td>1.558049e+08</td>\n      <td>-0.010105</td>\n      <td>...</td>\n      <td>1.835145</td>\n      <td>1.962026</td>\n      <td>-0.126882</td>\n      <td>-28.903481</td>\n      <td>-15.787263</td>\n      <td>-13.116217</td>\n      <td>90.656209</td>\n      <td>-0.119604</td>\n      <td>-0.119676</td>\n      <td>-37.595109</td>\n    </tr>\n    <tr>\n      <th>50847</th>\n      <td>2024-03-02 21:00:00</td>\n      <td>1709413200</td>\n      <td>91.84</td>\n      <td>92.41</td>\n      <td>91.84</td>\n      <td>92.24</td>\n      <td>43962.189058</td>\n      <td>3.650415e+08</td>\n      <td>1.558489e+08</td>\n      <td>0.042108</td>\n      <td>...</td>\n      <td>1.797900</td>\n      <td>1.929201</td>\n      <td>-0.131301</td>\n      <td>-32.746986</td>\n      <td>-19.179208</td>\n      <td>-13.567778</td>\n      <td>90.760290</td>\n      <td>0.413673</td>\n      <td>0.412820</td>\n      <td>-37.336957</td>\n    </tr>\n    <tr>\n      <th>50848</th>\n      <td>2024-03-02 22:00:00</td>\n      <td>1709416800</td>\n      <td>92.04</td>\n      <td>92.21</td>\n      <td>91.37</td>\n      <td>91.84</td>\n      <td>58516.913595</td>\n      <td>3.650485e+08</td>\n      <td>1.557904e+08</td>\n      <td>-0.003044</td>\n      <td>...</td>\n      <td>1.712863</td>\n      <td>1.885933</td>\n      <td>-0.173070</td>\n      <td>-35.255746</td>\n      <td>-22.394515</td>\n      <td>-12.861231</td>\n      <td>90.772512</td>\n      <td>-0.433651</td>\n      <td>-0.434594</td>\n      <td>-37.608696</td>\n    </tr>\n    <tr>\n      <th>50849</th>\n      <td>2024-03-02 23:00:00</td>\n      <td>1709420400</td>\n      <td>92.08</td>\n      <td>94.60</td>\n      <td>91.87</td>\n      <td>94.60</td>\n      <td>259490.208140</td>\n      <td>3.653079e+08</td>\n      <td>1.560499e+08</td>\n      <td>-0.053711</td>\n      <td>...</td>\n      <td>1.867031</td>\n      <td>1.882153</td>\n      <td>-0.015122</td>\n      <td>-26.405293</td>\n      <td>-23.196671</td>\n      <td>-3.208622</td>\n      <td>91.178271</td>\n      <td>3.005226</td>\n      <td>2.960954</td>\n      <td>-35.733696</td>\n    </tr>\n    <tr>\n      <th>50850</th>\n      <td>2024-03-03 00:00:00</td>\n      <td>1709424000</td>\n      <td>94.67</td>\n      <td>94.72</td>\n      <td>93.56</td>\n      <td>94.21</td>\n      <td>31919.508715</td>\n      <td>3.653118e+08</td>\n      <td>1.560179e+08</td>\n      <td>-0.018099</td>\n      <td>...</td>\n      <td>1.930904</td>\n      <td>1.891903</td>\n      <td>0.039001</td>\n      <td>-30.956427</td>\n      <td>-24.748622</td>\n      <td>-6.207805</td>\n      <td>91.402584</td>\n      <td>-0.412262</td>\n      <td>-0.413114</td>\n      <td>-35.998641</td>\n    </tr>\n  </tbody>\n</table>\n<p>50851 rows × 93 columns</p>\n</div>"
     },
     "execution_count": 24,
     "metadata": {},
     "output_type": "execute_result"
    }
   ],
   "source": [
    "ta.add_all_ta_features(\n",
    "    bitstamp_ltc,\n",
    "    colprefix=\"LTC:\",\n",
    "    **{k: \"LTC:\" + k for k in ['open', 'high', 'low', 'close', 'volume']}\n",
    ")"
   ],
   "metadata": {
    "collapsed": false,
    "ExecuteTime": {
     "end_time": "2024-03-03T20:17:57.512563500Z",
     "start_time": "2024-03-03T20:17:49.022098200Z"
    }
   },
   "id": "60730f37e9cfe27"
  },
  {
   "cell_type": "code",
   "execution_count": 26,
   "outputs": [],
   "source": [
    "with NameSpace(\"bitstamp\"):\n",
    "    bitstamp_streams = [\n",
    "        Stream.source(list(bitstamp_btc[c]), dtype=\"float\").rename(c) for c in bitstamp_btc.columns\n",
    "    ]\n",
    "    bitstamp_streams += [\n",
    "        Stream.source(list(bitstamp_ltc[c]), dtype=\"float\").rename(c) for c in bitstamp_ltc.columns\n",
    "    ]\n",
    "    \n",
    "feed = DataFeed(bitfinex_streams + bitstamp_streams)"
   ],
   "metadata": {
    "collapsed": false,
    "ExecuteTime": {
     "end_time": "2024-03-03T20:20:49.326233800Z",
     "start_time": "2024-03-03T20:20:48.775456200Z"
    }
   },
   "id": "b1c5b642f9c8603a"
  },
  {
   "cell_type": "code",
   "execution_count": 39,
   "outputs": [
    {
     "data": {
      "text/plain": "{'bitfinex:/BTC:date': Timestamp('2018-05-15 18:00:00'),\n 'bitfinex:/BTC:unix': 1526407200,\n 'bitfinex:/BTC:open': 8553.8,\n 'bitfinex:/BTC:high': 8553.8,\n 'bitfinex:/BTC:low': 8438.1,\n 'bitfinex:/BTC:close': 8516.5,\n 'bitfinex:/BTC:volume': 23290913.96,\n 'bitfinex:/ETH:date': Timestamp('2018-05-15 18:00:00'),\n 'bitfinex:/ETH:unix': 1526407200.0,\n 'bitfinex:/ETH:open': 716.54,\n 'bitfinex:/ETH:high': 716.54,\n 'bitfinex:/ETH:low': 707.4,\n 'bitfinex:/ETH:close': 712.61,\n 'bitfinex:/ETH:volume': 7953979.54,\n 'bitstamp:/BTC:date': Timestamp('2018-05-15 18:00:00'),\n 'bitstamp:/BTC:unix': 1526407200,\n 'bitstamp:/BTC:open': 8546.34,\n 'bitstamp:/BTC:high': 8555.51,\n 'bitstamp:/BTC:low': 8400.0,\n 'bitstamp:/BTC:close': 8526.65,\n 'bitstamp:/BTC:volume': 877.26,\n 'bitstamp:/LTC:date': Timestamp('2018-05-15 18:00:00'),\n 'bitstamp:/LTC:unix': 1526407200,\n 'bitstamp:/LTC:open': 140.95,\n 'bitstamp:/LTC:high': 140.95,\n 'bitstamp:/LTC:low': 138.8,\n 'bitstamp:/LTC:close': 140.54,\n 'bitstamp:/LTC:volume': 3303.74,\n 'bitstamp:/LTC:volume_adi': -3335.566066387444,\n 'bitstamp:/LTC:volume_obv': -7987.549999999999,\n 'bitstamp:/LTC:volume_cmf': nan,\n 'bitstamp:/LTC:volume_fi': nan,\n 'bitstamp:/LTC:volume_em': -53363.76349228349,\n 'bitstamp:/LTC:volume_sma_em': nan,\n 'bitstamp:/LTC:volume_vpt': -186.26548785921125,\n 'bitstamp:/LTC:volume_vwap': nan,\n 'bitstamp:/LTC:volume_mfi': nan,\n 'bitstamp:/LTC:volume_nvi': 998.9820935762323,\n 'bitstamp:/LTC:volatility_bbm': nan,\n 'bitstamp:/LTC:volatility_bbh': nan,\n 'bitstamp:/LTC:volatility_bbl': nan,\n 'bitstamp:/LTC:volatility_bbw': nan,\n 'bitstamp:/LTC:volatility_bbp': nan,\n 'bitstamp:/LTC:volatility_bbhi': 0.0,\n 'bitstamp:/LTC:volatility_bbli': 0.0,\n 'bitstamp:/LTC:volatility_kcc': 143.4406666666667,\n 'bitstamp:/LTC:volatility_kch': 145.85766666666666,\n 'bitstamp:/LTC:volatility_kcl': 141.02366666666666,\n 'bitstamp:/LTC:volatility_kcw': 3.3700345322804806,\n 'bitstamp:/LTC:volatility_kcp': -0.10005516480485398,\n 'bitstamp:/LTC:volatility_kchi': 0.0,\n 'bitstamp:/LTC:volatility_kcli': 1.0,\n 'bitstamp:/LTC:volatility_dcl': nan,\n 'bitstamp:/LTC:volatility_dch': nan,\n 'bitstamp:/LTC:volatility_dcm': nan,\n 'bitstamp:/LTC:volatility_dcw': nan,\n 'bitstamp:/LTC:volatility_dcp': nan,\n 'bitstamp:/LTC:volatility_atr': 2.283694999999999,\n 'bitstamp:/LTC:volatility_ui': nan,\n 'bitstamp:/LTC:trend_macd': nan,\n 'bitstamp:/LTC:trend_macd_signal': nan,\n 'bitstamp:/LTC:trend_macd_diff': nan,\n 'bitstamp:/LTC:trend_sma_fast': 143.86749999999998,\n 'bitstamp:/LTC:trend_sma_slow': nan,\n 'bitstamp:/LTC:trend_ema_fast': 143.14167793816998,\n 'bitstamp:/LTC:trend_ema_slow': nan,\n 'bitstamp:/LTC:trend_vortex_ind_pos': nan,\n 'bitstamp:/LTC:trend_vortex_ind_neg': nan,\n 'bitstamp:/LTC:trend_vortex_ind_diff': nan,\n 'bitstamp:/LTC:trend_trix': nan,\n 'bitstamp:/LTC:trend_mass_index': nan,\n 'bitstamp:/LTC:trend_dpo': nan,\n 'bitstamp:/LTC:trend_kst': nan,\n 'bitstamp:/LTC:trend_kst_sig': nan,\n 'bitstamp:/LTC:trend_kst_diff': nan,\n 'bitstamp:/LTC:trend_ichimoku_conv': 143.97,\n 'bitstamp:/LTC:trend_ichimoku_base': nan,\n 'bitstamp:/LTC:trend_ichimoku_a': nan,\n 'bitstamp:/LTC:trend_ichimoku_b': 143.97,\n 'bitstamp:/LTC:trend_stc': nan,\n 'bitstamp:/LTC:trend_adx': 0.0,\n 'bitstamp:/LTC:trend_adx_pos': 0.0,\n 'bitstamp:/LTC:trend_adx_neg': 0.0,\n 'bitstamp:/LTC:trend_cci': nan,\n 'bitstamp:/LTC:trend_visual_ichimoku_a': 90.4642033604848,\n 'bitstamp:/LTC:trend_visual_ichimoku_b': 90.47890641285323,\n 'bitstamp:/LTC:trend_aroon_up': nan,\n 'bitstamp:/LTC:trend_aroon_down': nan,\n 'bitstamp:/LTC:trend_aroon_ind': nan,\n 'bitstamp:/LTC:trend_psar_up': nan,\n 'bitstamp:/LTC:trend_psar_down': 147.001543377408,\n 'bitstamp:/LTC:trend_psar_up_indicator': 0.0,\n 'bitstamp:/LTC:trend_psar_down_indicator': 0.0,\n 'bitstamp:/LTC:momentum_rsi': nan,\n 'bitstamp:/LTC:momentum_stoch_rsi': nan,\n 'bitstamp:/LTC:momentum_stoch_rsi_k': nan,\n 'bitstamp:/LTC:momentum_stoch_rsi_d': nan,\n 'bitstamp:/LTC:momentum_tsi': nan,\n 'bitstamp:/LTC:momentum_uo': nan,\n 'bitstamp:/LTC:momentum_stoch': nan,\n 'bitstamp:/LTC:momentum_stoch_signal': nan,\n 'bitstamp:/LTC:momentum_wr': nan,\n 'bitstamp:/LTC:momentum_ao': nan,\n 'bitstamp:/LTC:momentum_roc': -4.524456521739129,\n 'bitstamp:/LTC:momentum_ppo': nan,\n 'bitstamp:/LTC:momentum_ppo_signal': nan,\n 'bitstamp:/LTC:momentum_ppo_hist': nan,\n 'bitstamp:/LTC:momentum_pvo': nan,\n 'bitstamp:/LTC:momentum_pvo_signal': nan,\n 'bitstamp:/LTC:momentum_pvo_hist': nan,\n 'bitstamp:/LTC:momentum_kama': 140.91797591853802,\n 'bitstamp:/LTC:others_dr': -0.29088329194749685,\n 'bitstamp:/LTC:others_dlr': -0.29130717960699215,\n 'bitstamp:/LTC:others_cr': -4.524456521739129}"
     },
     "execution_count": 39,
     "metadata": {},
     "output_type": "execute_result"
    }
   ],
   "source": [
    "feed.next()"
   ],
   "metadata": {
    "collapsed": false,
    "ExecuteTime": {
     "end_time": "2024-03-03T20:21:22.628976900Z",
     "start_time": "2024-03-03T20:21:22.613936600Z"
    }
   },
   "id": "c8b23e7b920916a4"
  },
  {
   "cell_type": "code",
   "execution_count": 40,
   "outputs": [],
   "source": [
    "portfolio = Portfolio(USD, [\n",
    "    Wallet(bitfinex, 10000 * USD),\n",
    "    Wallet(bitfinex, 10 * BTC),\n",
    "    Wallet(bitfinex, 5 * ETH),\n",
    "    Wallet(bitstamp, 1000 * USD),\n",
    "    Wallet(bitstamp, 5 * BTC),\n",
    "    Wallet(bitstamp, 3 * LTC),\n",
    "])\n",
    "\n",
    "env = default.create(\n",
    "    portfolio=portfolio,\n",
    "    action_scheme=\"managed-risk\",\n",
    "    reward_scheme=\"simple\",\n",
    "    feed=feed,\n",
    "    window_size=15,\n",
    "    enable_logger=False\n",
    ")"
   ],
   "metadata": {
    "collapsed": false,
    "ExecuteTime": {
     "end_time": "2024-03-03T20:23:51.634868400Z",
     "start_time": "2024-03-03T20:23:51.631958500Z"
    }
   },
   "id": "51854ad36a910f24"
  },
  {
   "cell_type": "code",
   "execution_count": 181,
   "outputs": [
    {
     "data": {
      "text/plain": "{'internal': {'bitfinex:/USD-BTC': 8519.5,\n  'bitfinex:/USD-ETH': 722.64,\n  'bitfinex:/USD:/free': 10000.0,\n  'bitfinex:/USD:/locked': 0.0,\n  'bitfinex:/USD:/total': 10000.0,\n  'bitfinex:/BTC:/free': 10.0,\n  'bitfinex:/BTC:/locked': 0.0,\n  'bitfinex:/BTC:/total': 10.0,\n  'bitfinex:/BTC:/worth': 85195.0,\n  'bitfinex:/ETH:/free': 5.0,\n  'bitfinex:/ETH:/locked': 0.0,\n  'bitfinex:/ETH:/total': 5.0,\n  'bitfinex:/ETH:/worth': 3613.2,\n  'bitstamp:/USD-BTC': 8524.0,\n  'bitstamp:/USD-LTC': 139.55,\n  'bitstamp:/USD:/free': 1000.0,\n  'bitstamp:/USD:/locked': 0.0,\n  'bitstamp:/USD:/total': 1000.0,\n  'bitstamp:/BTC:/free': 5.0,\n  'bitstamp:/BTC:/locked': 0.0,\n  'bitstamp:/BTC:/total': 5.0,\n  'bitstamp:/BTC:/worth': 42620.0,\n  'bitstamp:/LTC:/free': 3.0,\n  'bitstamp:/LTC:/locked': 0.0,\n  'bitstamp:/LTC:/total': 3.0,\n  'bitstamp:/LTC:/worth': 418.65000000000003,\n  'net_worth': 142846.85},\n 'external': {'bitfinex:/BTC:date': Timestamp('2018-05-20 18:00:00'),\n  'bitfinex:/BTC:unix': 1526839200,\n  'bitfinex:/BTC:open': 8517.8,\n  'bitfinex:/BTC:high': 8549.0,\n  'bitfinex:/BTC:low': 8505.8,\n  'bitfinex:/BTC:close': 8519.5,\n  'bitfinex:/BTC:volume': 4331045.83,\n  'bitfinex:/ETH:date': Timestamp('2018-05-20 18:00:00'),\n  'bitfinex:/ETH:unix': 1526839200.0,\n  'bitfinex:/ETH:open': 720.68,\n  'bitfinex:/ETH:high': 722.64,\n  'bitfinex:/ETH:low': 720.4,\n  'bitfinex:/ETH:close': 722.64,\n  'bitfinex:/ETH:volume': 2628999.0,\n  'bitstamp:/BTC:date': Timestamp('2018-05-20 18:00:00'),\n  'bitstamp:/BTC:unix': 1526839200,\n  'bitstamp:/BTC:open': 8516.36,\n  'bitstamp:/BTC:high': 8551.79,\n  'bitstamp:/BTC:low': 8511.0,\n  'bitstamp:/BTC:close': 8524.0,\n  'bitstamp:/BTC:volume': 113.8,\n  'bitstamp:/LTC:date': Timestamp('2018-05-20 18:00:00'),\n  'bitstamp:/LTC:unix': 1526839200,\n  'bitstamp:/LTC:open': 139.79,\n  'bitstamp:/LTC:high': 140.35,\n  'bitstamp:/LTC:low': 139.55,\n  'bitstamp:/LTC:close': 139.55,\n  'bitstamp:/LTC:volume': 381.48,\n  'bitstamp:/LTC:volume_adi': -8985.012527617726,\n  'bitstamp:/LTC:volume_obv': -19334.760000000017,\n  'bitstamp:/LTC:volume_cmf': 0.1354480074980419,\n  'bitstamp:/LTC:volume_fi': 218.62010180319047,\n  'bitstamp:/LTC:volume_em': -16776.764181607756,\n  'bitstamp:/LTC:volume_sma_em': 312917.87379139644,\n  'bitstamp:/LTC:volume_vpt': -319.3284416730757,\n  'bitstamp:/LTC:volume_vwap': 138.51576302278426,\n  'bitstamp:/LTC:volume_mfi': 80.68062097604704,\n  'bitstamp:/LTC:volume_nvi': 1049.859445308988,\n  'bitstamp:/LTC:volatility_bbm': 136.4235,\n  'bitstamp:/LTC:volatility_bbh': 139.96918625233565,\n  'bitstamp:/LTC:volatility_bbl': 132.87781374766433,\n  'bitstamp:/LTC:volatility_bbw': 5.19805788934554,\n  'bitstamp:/LTC:volatility_bbp': 0.9408878532245339,\n  'bitstamp:/LTC:volatility_bbhi': 0.0,\n  'bitstamp:/LTC:volatility_bbli': 0.0,\n  'bitstamp:/LTC:volatility_kcc': 137.843,\n  'bitstamp:/LTC:volatility_kch': 139.108,\n  'bitstamp:/LTC:volatility_kcl': 136.57800000000003,\n  'bitstamp:/LTC:volatility_kcw': 1.8354214577453862,\n  'bitstamp:/LTC:volatility_kcp': 1.1747035573122577,\n  'bitstamp:/LTC:volatility_kchi': 1.0,\n  'bitstamp:/LTC:volatility_kcli': 0.0,\n  'bitstamp:/LTC:volatility_dcl': 132.47,\n  'bitstamp:/LTC:volatility_dch': 140.87,\n  'bitstamp:/LTC:volatility_dcm': 136.67000000000002,\n  'bitstamp:/LTC:volatility_dcw': 6.15729694664043,\n  'bitstamp:/LTC:volatility_dcp': 0.8428571428571437,\n  'bitstamp:/LTC:volatility_atr': 1.1897613687392465,\n  'bitstamp:/LTC:volatility_ui': 0.5689147582610443,\n  'bitstamp:/LTC:trend_macd': 1.0439238287030435,\n  'bitstamp:/LTC:trend_macd_signal': 0.654076191232708,\n  'bitstamp:/LTC:trend_macd_diff': 0.38984763747033546,\n  'bitstamp:/LTC:trend_sma_fast': 137.4933333333333,\n  'bitstamp:/LTC:trend_sma_slow': 136.09115384615384,\n  'bitstamp:/LTC:trend_ema_fast': 137.7427441014502,\n  'bitstamp:/LTC:trend_ema_slow': 136.69882027274716,\n  'bitstamp:/LTC:trend_vortex_ind_pos': 1.3354510800508257,\n  'bitstamp:/LTC:trend_vortex_ind_neg': 0.677890724269378,\n  'bitstamp:/LTC:trend_vortex_ind_diff': 0.6575603557814477,\n  'bitstamp:/LTC:trend_trix': 0.0660940903270723,\n  'bitstamp:/LTC:trend_mass_index': 24.52619740663102,\n  'bitstamp:/LTC:trend_dpo': -1.2235000000000014,\n  'bitstamp:/LTC:trend_kst': 17.567339034334932,\n  'bitstamp:/LTC:trend_kst_sig': 6.92195671045524,\n  'bitstamp:/LTC:trend_kst_diff': 10.64538232387969,\n  'bitstamp:/LTC:trend_ichimoku_conv': 138.51999999999998,\n  'bitstamp:/LTC:trend_ichimoku_base': 136.67000000000002,\n  'bitstamp:/LTC:trend_ichimoku_a': 137.595,\n  'bitstamp:/LTC:trend_ichimoku_b': 136.01999999999998,\n  'bitstamp:/LTC:trend_stc': 99.9800175100755,\n  'bitstamp:/LTC:trend_adx': 23.618797927741806,\n  'bitstamp:/LTC:trend_adx_pos': 37.04132699277349,\n  'bitstamp:/LTC:trend_adx_neg': 11.988818057446734,\n  'bitstamp:/LTC:trend_cci': 155.37078651685385,\n  'bitstamp:/LTC:trend_visual_ichimoku_a': 135.035,\n  'bitstamp:/LTC:trend_visual_ichimoku_b': 134.56,\n  'bitstamp:/LTC:trend_aroon_up': 96.0,\n  'bitstamp:/LTC:trend_aroon_down': 32.0,\n  'bitstamp:/LTC:trend_aroon_ind': 64.0,\n  'bitstamp:/LTC:trend_psar_up': 134.73006855381928,\n  'bitstamp:/LTC:trend_psar_down': nan,\n  'bitstamp:/LTC:trend_psar_up_indicator': 0.0,\n  'bitstamp:/LTC:trend_psar_down_indicator': 0.0,\n  'bitstamp:/LTC:momentum_rsi': 66.4133312089937,\n  'bitstamp:/LTC:momentum_stoch_rsi': 0.9036643541769541,\n  'bitstamp:/LTC:momentum_stoch_rsi_k': 0.9678881180589847,\n  'bitstamp:/LTC:momentum_stoch_rsi_d': 0.9249743271287533,\n  'bitstamp:/LTC:momentum_tsi': 20.773345259636553,\n  'bitstamp:/LTC:momentum_uo': 55.43408685995643,\n  'bitstamp:/LTC:momentum_stoch': 78.60615883306338,\n  'bitstamp:/LTC:momentum_stoch_signal': 86.2325821166746,\n  'bitstamp:/LTC:momentum_wr': -21.393841166936625,\n  'bitstamp:/LTC:momentum_ao': 2.5497647058823816,\n  'bitstamp:/LTC:momentum_roc': 3.0573812864633445,\n  'bitstamp:/LTC:momentum_ppo': 0.7636670357653148,\n  'bitstamp:/LTC:momentum_ppo_signal': 0.4799251455261354,\n  'bitstamp:/LTC:momentum_ppo_hist': 0.2837418902391794,\n  'bitstamp:/LTC:momentum_pvo': 20.342359098916997,\n  'bitstamp:/LTC:momentum_pvo_signal': -2.9443601024049517,\n  'bitstamp:/LTC:momentum_pvo_hist': 23.28671920132195,\n  'bitstamp:/LTC:momentum_kama': 137.4177391324148,\n  'bitstamp:/LTC:others_dr': -0.1716861005794268,\n  'bitstamp:/LTC:others_dlr': -0.17183365007058526,\n  'bitstamp:/LTC:others_cr': -5.197010869565199}}"
     },
     "execution_count": 181,
     "metadata": {},
     "output_type": "execute_result"
    }
   ],
   "source": [
    "env.observer.feed.next()\n"
   ],
   "metadata": {
    "collapsed": false,
    "ExecuteTime": {
     "end_time": "2024-03-10T00:10:05.616704300Z",
     "start_time": "2024-03-10T00:10:05.602758800Z"
    }
   },
   "id": "20dd9b654416491a"
  }
 ],
 "metadata": {
  "kernelspec": {
   "display_name": "Python 3",
   "language": "python",
   "name": "python3"
  },
  "language_info": {
   "codemirror_mode": {
    "name": "ipython",
    "version": 2
   },
   "file_extension": ".py",
   "mimetype": "text/x-python",
   "name": "python",
   "nbconvert_exporter": "python",
   "pygments_lexer": "ipython2",
   "version": "2.7.6"
  }
 },
 "nbformat": 4,
 "nbformat_minor": 5
}
