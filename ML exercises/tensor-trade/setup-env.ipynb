{
 "cells": [
  {
   "cell_type": "code",
   "execution_count": 1,
   "outputs": [
    {
     "ename": "ModuleNotFoundError",
     "evalue": "No module named 'scipy'",
     "output_type": "error",
     "traceback": [
      "\u001B[1;31m---------------------------------------------------------------------------\u001B[0m",
      "\u001B[1;31mModuleNotFoundError\u001B[0m                       Traceback (most recent call last)",
      "Cell \u001B[1;32mIn[1], line 4\u001B[0m\n\u001B[0;32m      1\u001B[0m \u001B[38;5;28;01mimport\u001B[39;00m \u001B[38;5;21;01mta\u001B[39;00m\n\u001B[0;32m      3\u001B[0m \u001B[38;5;28;01mimport\u001B[39;00m \u001B[38;5;21;01mpandas\u001B[39;00m \u001B[38;5;28;01mas\u001B[39;00m \u001B[38;5;21;01mpd\u001B[39;00m\n\u001B[1;32m----> 4\u001B[0m \u001B[38;5;28;01mimport\u001B[39;00m \u001B[38;5;21;01mtensortrade\u001B[39;00m\u001B[38;5;21;01m.\u001B[39;00m\u001B[38;5;21;01menv\u001B[39;00m\u001B[38;5;21;01m.\u001B[39;00m\u001B[38;5;21;01mdefault\u001B[39;00m \u001B[38;5;28;01mas\u001B[39;00m \u001B[38;5;21;01mdefault\u001B[39;00m\n\u001B[0;32m      6\u001B[0m \u001B[38;5;28;01mfrom\u001B[39;00m \u001B[38;5;21;01mtensortrade\u001B[39;00m\u001B[38;5;21;01m.\u001B[39;00m\u001B[38;5;21;01mdata\u001B[39;00m\u001B[38;5;21;01m.\u001B[39;00m\u001B[38;5;21;01mcdd\u001B[39;00m \u001B[38;5;28;01mimport\u001B[39;00m CryptoDataDownload\n\u001B[0;32m      7\u001B[0m \u001B[38;5;28;01mfrom\u001B[39;00m \u001B[38;5;21;01mtensortrade\u001B[39;00m\u001B[38;5;21;01m.\u001B[39;00m\u001B[38;5;21;01mfeed\u001B[39;00m\u001B[38;5;21;01m.\u001B[39;00m\u001B[38;5;21;01mcore\u001B[39;00m \u001B[38;5;28;01mimport\u001B[39;00m Stream, DataFeed, NameSpace\n",
      "File \u001B[1;32m~\\AppData\\Roaming\\Python\\Python311\\site-packages\\tensortrade\\__init__.py:13\u001B[0m\n\u001B[0;32m      5\u001B[0m \u001B[38;5;28;01mfrom\u001B[39;00m \u001B[38;5;21;01mtensortrade\u001B[39;00m\u001B[38;5;21;01m.\u001B[39;00m\u001B[38;5;21;01moms\u001B[39;00m \u001B[38;5;28;01mimport\u001B[39;00m (\n\u001B[0;32m      6\u001B[0m     orders,\n\u001B[0;32m      7\u001B[0m     wallets,\n\u001B[1;32m   (...)\u001B[0m\n\u001B[0;32m     10\u001B[0m     services\n\u001B[0;32m     11\u001B[0m )\n\u001B[0;32m     12\u001B[0m \u001B[38;5;28;01mfrom\u001B[39;00m \u001B[38;5;21;01m.\u001B[39;00m \u001B[38;5;28;01mimport\u001B[39;00m env\n\u001B[1;32m---> 13\u001B[0m \u001B[38;5;28;01mfrom\u001B[39;00m \u001B[38;5;21;01m.\u001B[39;00m \u001B[38;5;28;01mimport\u001B[39;00m stochastic\n\u001B[0;32m     14\u001B[0m \u001B[38;5;28;01mfrom\u001B[39;00m \u001B[38;5;21;01m.\u001B[39;00m \u001B[38;5;28;01mimport\u001B[39;00m agents\n\u001B[0;32m     16\u001B[0m \u001B[38;5;28;01mfrom\u001B[39;00m \u001B[38;5;21;01m.\u001B[39;00m\u001B[38;5;21;01mversion\u001B[39;00m \u001B[38;5;28;01mimport\u001B[39;00m __version__\n",
      "File \u001B[1;32m~\\AppData\\Roaming\\Python\\Python311\\site-packages\\tensortrade\\stochastic\\__init__.py:5\u001B[0m\n\u001B[0;32m      1\u001B[0m \u001B[38;5;28;01mimport\u001B[39;00m \u001B[38;5;21;01mimportlib\u001B[39;00m\n\u001B[0;32m      3\u001B[0m \u001B[38;5;28;01mif\u001B[39;00m importlib\u001B[38;5;241m.\u001B[39mutil\u001B[38;5;241m.\u001B[39mfind_spec(\u001B[38;5;124m\"\u001B[39m\u001B[38;5;124mstochastic\u001B[39m\u001B[38;5;124m\"\u001B[39m) \u001B[38;5;129;01mis\u001B[39;00m \u001B[38;5;129;01mnot\u001B[39;00m \u001B[38;5;28;01mNone\u001B[39;00m:\n\u001B[1;32m----> 5\u001B[0m     \u001B[38;5;28;01mfrom\u001B[39;00m \u001B[38;5;21;01m.\u001B[39;00m\u001B[38;5;21;01mutils\u001B[39;00m \u001B[38;5;28;01mimport\u001B[39;00m \u001B[38;5;241m*\u001B[39m\n\u001B[0;32m      7\u001B[0m     \u001B[38;5;28;01mfrom\u001B[39;00m \u001B[38;5;21;01m.\u001B[39;00m\u001B[38;5;21;01mprocesses\u001B[39;00m\u001B[38;5;21;01m.\u001B[39;00m\u001B[38;5;21;01mcox\u001B[39;00m \u001B[38;5;28;01mimport\u001B[39;00m cox\n\u001B[0;32m      8\u001B[0m     \u001B[38;5;28;01mfrom\u001B[39;00m \u001B[38;5;21;01m.\u001B[39;00m\u001B[38;5;21;01mprocesses\u001B[39;00m\u001B[38;5;21;01m.\u001B[39;00m\u001B[38;5;21;01mfbm\u001B[39;00m \u001B[38;5;28;01mimport\u001B[39;00m fbm\n",
      "File \u001B[1;32m~\\AppData\\Roaming\\Python\\Python311\\site-packages\\tensortrade\\stochastic\\utils\\__init__.py:1\u001B[0m\n\u001B[1;32m----> 1\u001B[0m \u001B[38;5;28;01mfrom\u001B[39;00m \u001B[38;5;21;01m.\u001B[39;00m\u001B[38;5;21;01mhelpers\u001B[39;00m \u001B[38;5;28;01mimport\u001B[39;00m \u001B[38;5;241m*\u001B[39m\n\u001B[0;32m      2\u001B[0m \u001B[38;5;28;01mfrom\u001B[39;00m \u001B[38;5;21;01m.\u001B[39;00m\u001B[38;5;21;01mparameters\u001B[39;00m \u001B[38;5;28;01mimport\u001B[39;00m \u001B[38;5;241m*\u001B[39m\n",
      "File \u001B[1;32m~\\AppData\\Roaming\\Python\\Python311\\site-packages\\tensortrade\\stochastic\\utils\\helpers.py:22\u001B[0m\n\u001B[0;32m     19\u001B[0m \u001B[38;5;28;01mimport\u001B[39;00m \u001B[38;5;21;01mnumpy\u001B[39;00m \u001B[38;5;28;01mas\u001B[39;00m \u001B[38;5;21;01mnp\u001B[39;00m\n\u001B[0;32m     20\u001B[0m \u001B[38;5;28;01mimport\u001B[39;00m \u001B[38;5;21;01mpandas\u001B[39;00m \u001B[38;5;28;01mas\u001B[39;00m \u001B[38;5;21;01mpd\u001B[39;00m\n\u001B[1;32m---> 22\u001B[0m \u001B[38;5;28;01mfrom\u001B[39;00m \u001B[38;5;21;01mstochastic\u001B[39;00m\u001B[38;5;21;01m.\u001B[39;00m\u001B[38;5;21;01mprocesses\u001B[39;00m\u001B[38;5;21;01m.\u001B[39;00m\u001B[38;5;21;01mnoise\u001B[39;00m \u001B[38;5;28;01mimport\u001B[39;00m GaussianNoise\n\u001B[0;32m     24\u001B[0m \u001B[38;5;28;01mfrom\u001B[39;00m \u001B[38;5;21;01mtensortrade\u001B[39;00m\u001B[38;5;21;01m.\u001B[39;00m\u001B[38;5;21;01mstochastic\u001B[39;00m\u001B[38;5;21;01m.\u001B[39;00m\u001B[38;5;21;01mutils\u001B[39;00m\u001B[38;5;21;01m.\u001B[39;00m\u001B[38;5;21;01mparameters\u001B[39;00m \u001B[38;5;28;01mimport\u001B[39;00m ModelParameters, default\n\u001B[0;32m     27\u001B[0m \u001B[38;5;28;01mdef\u001B[39;00m \u001B[38;5;21mscale_times_to_generate\u001B[39m(times_to_generate: \u001B[38;5;28mint\u001B[39m, time_frame: \u001B[38;5;28mstr\u001B[39m) \u001B[38;5;241m-\u001B[39m\u001B[38;5;241m>\u001B[39m \u001B[38;5;28mint\u001B[39m:\n",
      "File \u001B[1;32m~\\AppData\\Roaming\\Python\\Python311\\site-packages\\stochastic\\processes\\__init__.py:1\u001B[0m\n\u001B[1;32m----> 1\u001B[0m \u001B[38;5;28;01mfrom\u001B[39;00m \u001B[38;5;21;01mstochastic\u001B[39;00m\u001B[38;5;21;01m.\u001B[39;00m\u001B[38;5;21;01mprocesses\u001B[39;00m\u001B[38;5;21;01m.\u001B[39;00m\u001B[38;5;21;01mcontinuous\u001B[39;00m \u001B[38;5;28;01mimport\u001B[39;00m \u001B[38;5;241m*\u001B[39m\n\u001B[0;32m      2\u001B[0m \u001B[38;5;28;01mfrom\u001B[39;00m \u001B[38;5;21;01mstochastic\u001B[39;00m\u001B[38;5;21;01m.\u001B[39;00m\u001B[38;5;21;01mprocesses\u001B[39;00m\u001B[38;5;21;01m.\u001B[39;00m\u001B[38;5;21;01mdiffusion\u001B[39;00m \u001B[38;5;28;01mimport\u001B[39;00m \u001B[38;5;241m*\u001B[39m\n\u001B[0;32m      3\u001B[0m \u001B[38;5;28;01mfrom\u001B[39;00m \u001B[38;5;21;01mstochastic\u001B[39;00m\u001B[38;5;21;01m.\u001B[39;00m\u001B[38;5;21;01mprocesses\u001B[39;00m\u001B[38;5;21;01m.\u001B[39;00m\u001B[38;5;21;01mdiscrete\u001B[39;00m \u001B[38;5;28;01mimport\u001B[39;00m \u001B[38;5;241m*\u001B[39m\n",
      "File \u001B[1;32m~\\AppData\\Roaming\\Python\\Python311\\site-packages\\stochastic\\processes\\continuous\\__init__.py:6\u001B[0m\n\u001B[0;32m      4\u001B[0m \u001B[38;5;28;01mfrom\u001B[39;00m \u001B[38;5;21;01mstochastic\u001B[39;00m\u001B[38;5;21;01m.\u001B[39;00m\u001B[38;5;21;01mprocesses\u001B[39;00m\u001B[38;5;21;01m.\u001B[39;00m\u001B[38;5;21;01mcontinuous\u001B[39;00m\u001B[38;5;21;01m.\u001B[39;00m\u001B[38;5;21;01mbrownian_meander\u001B[39;00m \u001B[38;5;28;01mimport\u001B[39;00m BrownianMeander\n\u001B[0;32m      5\u001B[0m \u001B[38;5;28;01mfrom\u001B[39;00m \u001B[38;5;21;01mstochastic\u001B[39;00m\u001B[38;5;21;01m.\u001B[39;00m\u001B[38;5;21;01mprocesses\u001B[39;00m\u001B[38;5;21;01m.\u001B[39;00m\u001B[38;5;21;01mcontinuous\u001B[39;00m\u001B[38;5;21;01m.\u001B[39;00m\u001B[38;5;21;01mbrownian_motion\u001B[39;00m \u001B[38;5;28;01mimport\u001B[39;00m BrownianMotion\n\u001B[1;32m----> 6\u001B[0m \u001B[38;5;28;01mfrom\u001B[39;00m \u001B[38;5;21;01mstochastic\u001B[39;00m\u001B[38;5;21;01m.\u001B[39;00m\u001B[38;5;21;01mprocesses\u001B[39;00m\u001B[38;5;21;01m.\u001B[39;00m\u001B[38;5;21;01mcontinuous\u001B[39;00m\u001B[38;5;21;01m.\u001B[39;00m\u001B[38;5;21;01mcauchy\u001B[39;00m \u001B[38;5;28;01mimport\u001B[39;00m CauchyProcess\n\u001B[0;32m      7\u001B[0m \u001B[38;5;28;01mfrom\u001B[39;00m \u001B[38;5;21;01mstochastic\u001B[39;00m\u001B[38;5;21;01m.\u001B[39;00m\u001B[38;5;21;01mprocesses\u001B[39;00m\u001B[38;5;21;01m.\u001B[39;00m\u001B[38;5;21;01mcontinuous\u001B[39;00m\u001B[38;5;21;01m.\u001B[39;00m\u001B[38;5;21;01mfractional_brownian_motion\u001B[39;00m \u001B[38;5;28;01mimport\u001B[39;00m FractionalBrownianMotion\n\u001B[0;32m      8\u001B[0m \u001B[38;5;28;01mfrom\u001B[39;00m \u001B[38;5;21;01mstochastic\u001B[39;00m\u001B[38;5;21;01m.\u001B[39;00m\u001B[38;5;21;01mprocesses\u001B[39;00m\u001B[38;5;21;01m.\u001B[39;00m\u001B[38;5;21;01mcontinuous\u001B[39;00m\u001B[38;5;21;01m.\u001B[39;00m\u001B[38;5;21;01mgamma\u001B[39;00m \u001B[38;5;28;01mimport\u001B[39;00m GammaProcess\n",
      "File \u001B[1;32m~\\AppData\\Roaming\\Python\\Python311\\site-packages\\stochastic\\processes\\continuous\\cauchy.py:3\u001B[0m\n\u001B[0;32m      1\u001B[0m \u001B[38;5;124;03m\"\"\"Cauchy processes.\"\"\"\u001B[39;00m\n\u001B[0;32m      2\u001B[0m \u001B[38;5;28;01mimport\u001B[39;00m \u001B[38;5;21;01mnumpy\u001B[39;00m \u001B[38;5;28;01mas\u001B[39;00m \u001B[38;5;21;01mnp\u001B[39;00m\n\u001B[1;32m----> 3\u001B[0m \u001B[38;5;28;01mfrom\u001B[39;00m \u001B[38;5;21;01mscipy\u001B[39;00m\u001B[38;5;21;01m.\u001B[39;00m\u001B[38;5;21;01mstats\u001B[39;00m \u001B[38;5;28;01mimport\u001B[39;00m levy\n\u001B[0;32m      5\u001B[0m \u001B[38;5;28;01mfrom\u001B[39;00m \u001B[38;5;21;01mstochastic\u001B[39;00m\u001B[38;5;21;01m.\u001B[39;00m\u001B[38;5;21;01mprocesses\u001B[39;00m\u001B[38;5;21;01m.\u001B[39;00m\u001B[38;5;21;01mcontinuous\u001B[39;00m\u001B[38;5;21;01m.\u001B[39;00m\u001B[38;5;21;01mbrownian_motion\u001B[39;00m \u001B[38;5;28;01mimport\u001B[39;00m BrownianMotion\n\u001B[0;32m      6\u001B[0m \u001B[38;5;28;01mfrom\u001B[39;00m \u001B[38;5;21;01mstochastic\u001B[39;00m\u001B[38;5;21;01m.\u001B[39;00m\u001B[38;5;21;01mutils\u001B[39;00m\u001B[38;5;21;01m.\u001B[39;00m\u001B[38;5;21;01mvalidation\u001B[39;00m \u001B[38;5;28;01mimport\u001B[39;00m check_positive_integer\n",
      "\u001B[1;31mModuleNotFoundError\u001B[0m: No module named 'scipy'"
     ]
    }
   ],
   "source": [
    "import ta\n",
    "\n",
    "import pandas as pd\n",
    "import tensortrade.env.default as default\n",
    "\n",
    "from tensortrade.data.cdd import CryptoDataDownload\n",
    "from tensortrade.feed.core import Stream, DataFeed, NameSpace\n",
    "from tensortrade.oms.instruments import USD, BTC, ETH, LTC\n",
    "from tensortrade.oms.wallets import Wallet, Portfolio\n",
    "from tensortrade.oms.exchanges import Exchange\n",
    "from tensortrade.oms.services.execution.simulated import execute_order\n",
    "from tensortrade.agents import DQNAgent"
   ],
   "metadata": {
    "collapsed": false,
    "ExecuteTime": {
     "end_time": "2024-10-21T02:33:20.406204Z",
     "start_time": "2024-10-21T02:33:18.103194Z"
    }
   },
   "id": "31efe67471aad628"
  },
  {
   "cell_type": "code",
   "execution_count": null,
   "outputs": [],
   "source": [
    "cdd = CryptoDataDownload()\n",
    "\n",
    "bitfinex_data = pd.concat([\n",
    "    cdd.fetch(\"Bitfinex\", \"USD\", \"BTC\", \"1h\").add_prefix(\"BTC:\"),\n",
    "    cdd.fetch(\"Bitfinex\", \"USD\", \"ETH\", \"1h\").add_prefix(\"ETH:\")\n",
    "], axis=1)\n",
    "\n",
    "bitstamp_data = pd.concat([\n",
    "    cdd.fetch(\"Bitstamp\", \"USD\", \"BTC\", \"1h\").add_prefix(\"BTC:\"),\n",
    "    cdd.fetch(\"Bitstamp\", \"USD\", \"LTC\", \"1h\").add_prefix(\"LTC:\")\n",
    "], axis=1)\n"
   ],
   "metadata": {
    "collapsed": false
   },
   "id": "b5f020bf0455eb"
  },
  {
   "cell_type": "code",
   "execution_count": null,
   "outputs": [],
   "source": [
    "bitfinex_data['BTC:date'].min()"
   ],
   "metadata": {
    "collapsed": false
   },
   "id": "9d9fc8593a345bd4"
  },
  {
   "cell_type": "code",
   "execution_count": null,
   "outputs": [],
   "source": [
    "bitfinex = Exchange(\"bitfinex\", service=execute_order)(\n",
    "    Stream.source(list(bitfinex_data['BTC:close']), dtype=\"float\").rename(\"USD-BTC\"),\n",
    "    Stream.source(list(bitfinex_data['ETH:close']), dtype=\"float\").rename(\"USD-ETH\")\n",
    ")\n",
    "\n",
    "bitstamp = Exchange(\"bitstamp\", service=execute_order)(\n",
    "    Stream.source(list(bitstamp_data['BTC:close']), dtype=\"float\").rename(\"USD-BTC\"),\n",
    "    Stream.source(list(bitstamp_data['LTC:close']), dtype=\"float\").rename(\"USD-LTC\")\n",
    ")"
   ],
   "metadata": {
    "collapsed": false
   },
   "id": "8ddfeb3864f4bb48"
  },
  {
   "cell_type": "code",
   "execution_count": null,
   "outputs": [],
   "source": [
    "# Add all features for bitstamp BTC & ETH\n",
    "bitfinex_btc = bitfinex_data.loc[:, [name.startswith(\"BTC\") for name in bitfinex_data.columns]]\n",
    "bitfinex_eth = bitfinex_data.loc[:, [name.startswith(\"ETH\") for name in bitfinex_data.columns]]\n"
   ],
   "metadata": {
    "collapsed": false
   },
   "id": "9a7106ba6b4af8d5"
  },
  {
   "cell_type": "code",
   "execution_count": null,
   "outputs": [],
   "source": [
    "bitfinex_btc"
   ],
   "metadata": {
    "collapsed": false
   },
   "id": "6e55a60da61111c8"
  },
  {
   "cell_type": "code",
   "execution_count": null,
   "outputs": [],
   "source": [
    "with NameSpace(\"bitfinex\"):\n",
    "    bitfinex_streams = [\n",
    "        Stream.source(list(bitfinex_btc[c]), dtype=\"float\").rename(c) for c in bitfinex_btc.columns\n",
    "    ]\n",
    "    bitfinex_streams += [\n",
    "        Stream.source(list(bitfinex_eth[c]), dtype=\"float\").rename(c) for c in bitfinex_eth.columns\n",
    "    ]"
   ],
   "metadata": {
    "collapsed": false
   },
   "id": "4efe6029e2e328f4"
  },
  {
   "cell_type": "code",
   "execution_count": null,
   "outputs": [],
   "source": [
    "# Add all features for bitstamp BTC & LTC\n",
    "bitstamp_btc = bitstamp_data.loc[:, [name.startswith(\"BTC\") for name in bitstamp_data.columns]]  \n",
    "bitstamp_ltc = bitstamp_data.loc[:, [name.startswith(\"LTC\") for name in bitstamp_data.columns]]\n"
   ],
   "metadata": {
    "collapsed": false
   },
   "id": "627ce09fb78f6458"
  },
  {
   "cell_type": "code",
   "execution_count": null,
   "outputs": [],
   "source": [
    "ta.add_all_ta_features(\n",
    "    bitstamp_ltc,\n",
    "    colprefix=\"LTC:\",\n",
    "    **{k: \"LTC:\" + k for k in ['open', 'high', 'low', 'close', 'volume']}\n",
    ")"
   ],
   "metadata": {
    "collapsed": false
   },
   "id": "d842b7fc05c2195f"
  },
  {
   "cell_type": "code",
   "execution_count": null,
   "outputs": [],
   "source": [
    "bitstamp_ltc"
   ],
   "metadata": {
    "collapsed": false
   },
   "id": "96b3c32a35c00b93"
  },
  {
   "cell_type": "code",
   "execution_count": null,
   "outputs": [],
   "source": [
    "with NameSpace(\"bitfinex\"):\n",
    "    bitfinex_streams = [\n",
    "        Stream.source(list(bitfinex_btc[c]), dtype=\"float\").rename(c) for c in bitfinex_btc.columns\n",
    "    ]\n",
    "    bitfinex_streams += [\n",
    "        Stream.source(list(bitfinex_eth[c]), dtype=\"float\").rename(c) for c in bitfinex_eth.columns\n",
    "    ]\n"
   ],
   "metadata": {
    "collapsed": false
   },
   "id": "edb461fbe9cc2a7b"
  },
  {
   "cell_type": "code",
   "execution_count": null,
   "outputs": [],
   "source": [
    "# Add all features for bitstamp BTC & LTC\n",
    "bitstamp_btc = bitstamp_data.loc[:, [name.startswith(\"BTC\") for name in bitstamp_data.columns]]\n",
    "bitstamp_ltc = bitstamp_data.loc[:, [name.startswith(\"LTC\") for name in bitstamp_data.columns]]"
   ],
   "metadata": {
    "collapsed": false
   },
   "id": "1c4cef22949da553"
  },
  {
   "cell_type": "code",
   "execution_count": null,
   "outputs": [],
   "source": [
    "ta.add_all_ta_features(\n",
    "    bitstamp_ltc,\n",
    "    colprefix=\"LTC:\",\n",
    "    **{k: \"LTC:\" + k for k in ['open', 'high', 'low', 'close', 'volume']}\n",
    ")"
   ],
   "metadata": {
    "collapsed": false
   },
   "id": "60730f37e9cfe27"
  },
  {
   "cell_type": "code",
   "execution_count": null,
   "outputs": [],
   "source": [
    "with NameSpace(\"bitstamp\"):\n",
    "    bitstamp_streams = [\n",
    "        Stream.source(list(bitstamp_btc[c]), dtype=\"float\").rename(c) for c in bitstamp_btc.columns\n",
    "    ]\n",
    "    bitstamp_streams += [\n",
    "        Stream.source(list(bitstamp_ltc[c]), dtype=\"float\").rename(c) for c in bitstamp_ltc.columns\n",
    "    ]\n",
    "    \n",
    "feed = DataFeed(bitfinex_streams + bitstamp_streams)\n"
   ],
   "metadata": {
    "collapsed": false
   },
   "id": "b1c5b642f9c8603a"
  },
  {
   "cell_type": "code",
   "execution_count": null,
   "outputs": [],
   "source": [
    "feed.next()\n",
    "feed.compile()"
   ],
   "metadata": {
    "collapsed": false
   },
   "id": "c8b23e7b920916a4"
  },
  {
   "cell_type": "code",
   "execution_count": null,
   "outputs": [],
   "source": [
    "portfolio = Portfolio(USD, [\n",
    "    Wallet(bitfinex, 10000 * USD),\n",
    "    Wallet(bitfinex, 10 * BTC),\n",
    "    Wallet(bitfinex, 5 * ETH),\n",
    "    Wallet(bitstamp, 1000 * USD),\n",
    "    Wallet(bitstamp, 5 * BTC),\n",
    "    Wallet(bitstamp, 3 * LTC),\n",
    "])\n",
    "\n",
    "renderer_feed = DataFeed([\n",
    "    Stream.source(list(bitstamp_btc[\"date\"])).rename(\"date\"),\n",
    "    Stream.source(list(bitstamp_btc[\"open\"]), dtype=\"float\").rename(\"open\"),\n",
    "    Stream.source(list(bitstamp_btc[\"high\"]), dtype=\"float\").rename(\"high\"),\n",
    "    Stream.source(list(bitstamp_btc[\"low\"]), dtype=\"float\").rename(\"low\"),\n",
    "    Stream.source(list(bitstamp_btc[\"close\"]), dtype=\"float\").rename(\"close\"),\n",
    "    Stream.source(list(bitstamp_btc[\"volume\"]), dtype=\"float\").rename(\"volume\")\n",
    "])\n",
    "\n",
    "env = default.create(\n",
    "    portfolio=portfolio,\n",
    "    action_scheme=\"managed-risk\",\n",
    "    reward_scheme=\"risk-adjusted\",\n",
    "    feed=feed,\n",
    "    renderer_feed=renderer_feed,\n",
    "    renderer=default.renderers.PlotlyTradingChart(),\n",
    "    window_size=15,\n",
    "    enable_logger=False\n",
    ")"
   ],
   "metadata": {
    "collapsed": false
   },
   "id": "51854ad36a910f24"
  },
  {
   "cell_type": "code",
   "execution_count": null,
   "outputs": [],
   "source": [
    "env.observer.feed.next()\n"
   ],
   "metadata": {
    "collapsed": false
   },
   "id": "20dd9b654416491a"
  },
  {
   "cell_type": "markdown",
   "source": [
    "# Setup and Train DQN Agent\n"
   ],
   "metadata": {
    "collapsed": false
   },
   "id": "5b45e1392cec97fc"
  },
  {
   "cell_type": "code",
   "outputs": [],
   "source": [
    "agent = DQNAgent(env)\n",
    "agent.train(n_steps=200, n_episodes=2, save_path=\"trained-agents/\")"
   ],
   "metadata": {
    "collapsed": false
   },
   "id": "d1ffed3709ad31a4"
  },
  {
   "cell_type": "code",
   "outputs": [],
   "source": [],
   "metadata": {
    "collapsed": false
   },
   "id": "c7d5a6d32a91c3a3"
  }
 ],
 "metadata": {
  "kernelspec": {
   "display_name": "Python 3",
   "language": "python",
   "name": "python3"
  },
  "language_info": {
   "codemirror_mode": {
    "name": "ipython",
    "version": 2
   },
   "file_extension": ".py",
   "mimetype": "text/x-python",
   "name": "python",
   "nbconvert_exporter": "python",
   "pygments_lexer": "ipython2",
   "version": "2.7.6"
  }
 },
 "nbformat": 4,
 "nbformat_minor": 5
}
